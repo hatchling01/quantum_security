{
 "cells": [
  {
   "cell_type": "code",
   "execution_count": 1,
   "metadata": {},
   "outputs": [],
   "source": [
    "import sys\n",
    "import warnings\n",
    "\n",
    "import matplotlib.pyplot as plt\n",
    "import random\n",
    "\n",
    "import qiskit\n",
    "from qiskit import IBMQ, QuantumCircuit, execute,  Aer\n",
    "from qiskit import QuantumCircuit, ClassicalRegister, QuantumRegister, transpile, assemble, execute\n",
    "from qiskit.result import marginal_counts\n",
    "from qiskit.providers.ibmq.job import job_monitor\n",
    "from qiskit.tools.visualization import plot_histogram\n",
    "from qiskit.transpiler import PassManager, InstructionDurations\n",
    "import pandas as pd\n",
    "import os\n",
    "from itertools import chain\n",
    "from itertools import groupby\n",
    "from collections import Counter\n",
    "import openpyxl\n",
    "import numpy as np\n",
    "from qiskit.transpiler.passes import ALAPSchedule, DynamicalDecoupling, ASAPSchedule\n",
    "from qiskit.transpiler.passes import SabreSwap\n",
    "from qiskit.providers.fake_provider import FakeMelbourneV2, FakeMontrealV2, FakeGeneva, FakeCairoV2, FakeKolkataV2, FakePrague, FakeWashingtonV2, FakeTokyo, FakeAuckland, FakeMontreal\n",
    "#14,  27,27, 27,27. 33"
   ]
  },
  {
   "cell_type": "code",
   "execution_count": 2,
   "metadata": {},
   "outputs": [
    {
     "data": {
      "text/plain": [
       "['dj_indep_qiskit_10.qasm',\n",
       " 'dj_indep_qiskit_11.qasm',\n",
       " 'dj_indep_qiskit_12.qasm',\n",
       " 'dj_indep_qiskit_13.qasm',\n",
       " 'dj_indep_qiskit_14.qasm',\n",
       " 'dj_indep_qiskit_15.qasm',\n",
       " 'dj_indep_qiskit_16.qasm',\n",
       " 'dj_indep_qiskit_17.qasm',\n",
       " 'dj_indep_qiskit_18.qasm',\n",
       " 'dj_indep_qiskit_19.qasm',\n",
       " 'dj_indep_qiskit_2.qasm',\n",
       " 'dj_indep_qiskit_20.qasm',\n",
       " 'dj_indep_qiskit_21.qasm',\n",
       " 'dj_indep_qiskit_22.qasm',\n",
       " 'dj_indep_qiskit_23.qasm',\n",
       " 'dj_indep_qiskit_24.qasm',\n",
       " 'dj_indep_qiskit_25.qasm',\n",
       " 'dj_indep_qiskit_3.qasm',\n",
       " 'dj_indep_qiskit_4.qasm',\n",
       " 'dj_indep_qiskit_5.qasm',\n",
       " 'dj_indep_qiskit_6.qasm',\n",
       " 'dj_indep_qiskit_7.qasm',\n",
       " 'dj_indep_qiskit_8.qasm',\n",
       " 'dj_indep_qiskit_9.qasm',\n",
       " 'dj_nativegates_ibm_qiskit_opt0_10.qasm',\n",
       " 'dj_nativegates_ibm_qiskit_opt0_11.qasm',\n",
       " 'dj_nativegates_ibm_qiskit_opt0_12.qasm',\n",
       " 'dj_nativegates_ibm_qiskit_opt0_13.qasm',\n",
       " 'dj_nativegates_ibm_qiskit_opt0_14.qasm',\n",
       " 'dj_nativegates_ibm_qiskit_opt0_15.qasm',\n",
       " 'dj_nativegates_ibm_qiskit_opt0_16.qasm',\n",
       " 'dj_nativegates_ibm_qiskit_opt0_17.qasm',\n",
       " 'dj_nativegates_ibm_qiskit_opt0_18.qasm',\n",
       " 'dj_nativegates_ibm_qiskit_opt0_19.qasm',\n",
       " 'dj_nativegates_ibm_qiskit_opt0_2.qasm',\n",
       " 'dj_nativegates_ibm_qiskit_opt0_20.qasm',\n",
       " 'dj_nativegates_ibm_qiskit_opt0_21.qasm',\n",
       " 'dj_nativegates_ibm_qiskit_opt0_22.qasm',\n",
       " 'dj_nativegates_ibm_qiskit_opt0_23.qasm',\n",
       " 'dj_nativegates_ibm_qiskit_opt0_24.qasm',\n",
       " 'dj_nativegates_ibm_qiskit_opt0_25.qasm',\n",
       " 'dj_nativegates_ibm_qiskit_opt0_3.qasm',\n",
       " 'dj_nativegates_ibm_qiskit_opt0_4.qasm',\n",
       " 'dj_nativegates_ibm_qiskit_opt0_5.qasm',\n",
       " 'dj_nativegates_ibm_qiskit_opt0_6.qasm',\n",
       " 'dj_nativegates_ibm_qiskit_opt0_7.qasm',\n",
       " 'dj_nativegates_ibm_qiskit_opt0_8.qasm',\n",
       " 'dj_nativegates_ibm_qiskit_opt0_9.qasm',\n",
       " 'dj_nativegates_ibm_qiskit_opt1_10.qasm',\n",
       " 'dj_nativegates_ibm_qiskit_opt1_11.qasm',\n",
       " 'dj_nativegates_ibm_qiskit_opt1_12.qasm',\n",
       " 'dj_nativegates_ibm_qiskit_opt1_13.qasm',\n",
       " 'dj_nativegates_ibm_qiskit_opt1_14.qasm',\n",
       " 'dj_nativegates_ibm_qiskit_opt1_15.qasm',\n",
       " 'dj_nativegates_ibm_qiskit_opt1_16.qasm',\n",
       " 'dj_nativegates_ibm_qiskit_opt1_17.qasm',\n",
       " 'dj_nativegates_ibm_qiskit_opt1_18.qasm',\n",
       " 'dj_nativegates_ibm_qiskit_opt1_19.qasm',\n",
       " 'dj_nativegates_ibm_qiskit_opt1_2.qasm',\n",
       " 'dj_nativegates_ibm_qiskit_opt1_20.qasm',\n",
       " 'dj_nativegates_ibm_qiskit_opt1_21.qasm',\n",
       " 'dj_nativegates_ibm_qiskit_opt1_22.qasm',\n",
       " 'dj_nativegates_ibm_qiskit_opt1_23.qasm',\n",
       " 'dj_nativegates_ibm_qiskit_opt1_24.qasm',\n",
       " 'dj_nativegates_ibm_qiskit_opt1_25.qasm',\n",
       " 'dj_nativegates_ibm_qiskit_opt1_3.qasm',\n",
       " 'dj_nativegates_ibm_qiskit_opt1_4.qasm',\n",
       " 'dj_nativegates_ibm_qiskit_opt1_5.qasm',\n",
       " 'dj_nativegates_ibm_qiskit_opt1_6.qasm',\n",
       " 'dj_nativegates_ibm_qiskit_opt1_7.qasm',\n",
       " 'dj_nativegates_ibm_qiskit_opt1_8.qasm',\n",
       " 'dj_nativegates_ibm_qiskit_opt1_9.qasm',\n",
       " 'dj_nativegates_ibm_qiskit_opt2_10.qasm',\n",
       " 'dj_nativegates_ibm_qiskit_opt2_11.qasm',\n",
       " 'dj_nativegates_ibm_qiskit_opt2_12.qasm',\n",
       " 'dj_nativegates_ibm_qiskit_opt2_13.qasm',\n",
       " 'dj_nativegates_ibm_qiskit_opt2_14.qasm',\n",
       " 'dj_nativegates_ibm_qiskit_opt2_15.qasm',\n",
       " 'dj_nativegates_ibm_qiskit_opt2_16.qasm',\n",
       " 'dj_nativegates_ibm_qiskit_opt2_17.qasm',\n",
       " 'dj_nativegates_ibm_qiskit_opt2_18.qasm',\n",
       " 'dj_nativegates_ibm_qiskit_opt2_19.qasm',\n",
       " 'dj_nativegates_ibm_qiskit_opt2_2.qasm',\n",
       " 'dj_nativegates_ibm_qiskit_opt2_20.qasm',\n",
       " 'dj_nativegates_ibm_qiskit_opt2_21.qasm',\n",
       " 'dj_nativegates_ibm_qiskit_opt2_22.qasm',\n",
       " 'dj_nativegates_ibm_qiskit_opt2_23.qasm',\n",
       " 'dj_nativegates_ibm_qiskit_opt2_24.qasm',\n",
       " 'dj_nativegates_ibm_qiskit_opt2_25.qasm',\n",
       " 'dj_nativegates_ibm_qiskit_opt2_3.qasm',\n",
       " 'dj_nativegates_ibm_qiskit_opt2_4.qasm',\n",
       " 'dj_nativegates_ibm_qiskit_opt2_5.qasm',\n",
       " 'dj_nativegates_ibm_qiskit_opt2_6.qasm',\n",
       " 'dj_nativegates_ibm_qiskit_opt2_7.qasm',\n",
       " 'dj_nativegates_ibm_qiskit_opt2_8.qasm',\n",
       " 'dj_nativegates_ibm_qiskit_opt2_9.qasm',\n",
       " 'dj_nativegates_ibm_qiskit_opt3_10.qasm',\n",
       " 'dj_nativegates_ibm_qiskit_opt3_11.qasm',\n",
       " 'dj_nativegates_ibm_qiskit_opt3_12.qasm',\n",
       " 'dj_nativegates_ibm_qiskit_opt3_13.qasm',\n",
       " 'dj_nativegates_ibm_qiskit_opt3_14.qasm',\n",
       " 'dj_nativegates_ibm_qiskit_opt3_15.qasm',\n",
       " 'dj_nativegates_ibm_qiskit_opt3_16.qasm',\n",
       " 'dj_nativegates_ibm_qiskit_opt3_17.qasm',\n",
       " 'dj_nativegates_ibm_qiskit_opt3_18.qasm',\n",
       " 'dj_nativegates_ibm_qiskit_opt3_19.qasm',\n",
       " 'dj_nativegates_ibm_qiskit_opt3_2.qasm',\n",
       " 'dj_nativegates_ibm_qiskit_opt3_20.qasm',\n",
       " 'dj_nativegates_ibm_qiskit_opt3_21.qasm',\n",
       " 'dj_nativegates_ibm_qiskit_opt3_22.qasm',\n",
       " 'dj_nativegates_ibm_qiskit_opt3_23.qasm',\n",
       " 'dj_nativegates_ibm_qiskit_opt3_24.qasm',\n",
       " 'dj_nativegates_ibm_qiskit_opt3_25.qasm',\n",
       " 'dj_nativegates_ibm_qiskit_opt3_3.qasm',\n",
       " 'dj_nativegates_ibm_qiskit_opt3_4.qasm',\n",
       " 'dj_nativegates_ibm_qiskit_opt3_5.qasm',\n",
       " 'dj_nativegates_ibm_qiskit_opt3_6.qasm',\n",
       " 'dj_nativegates_ibm_qiskit_opt3_7.qasm',\n",
       " 'dj_nativegates_ibm_qiskit_opt3_8.qasm',\n",
       " 'dj_nativegates_ibm_qiskit_opt3_9.qasm',\n",
       " 'ghz_indep_qiskit_10.qasm',\n",
       " 'ghz_indep_qiskit_11.qasm',\n",
       " 'ghz_indep_qiskit_12.qasm',\n",
       " 'ghz_indep_qiskit_13.qasm',\n",
       " 'ghz_indep_qiskit_14.qasm',\n",
       " 'ghz_indep_qiskit_15.qasm',\n",
       " 'ghz_indep_qiskit_16.qasm',\n",
       " 'ghz_indep_qiskit_17.qasm',\n",
       " 'ghz_indep_qiskit_18.qasm',\n",
       " 'ghz_indep_qiskit_19.qasm',\n",
       " 'ghz_indep_qiskit_2.qasm',\n",
       " 'ghz_indep_qiskit_20.qasm',\n",
       " 'ghz_indep_qiskit_21.qasm',\n",
       " 'ghz_indep_qiskit_22.qasm',\n",
       " 'ghz_indep_qiskit_23.qasm',\n",
       " 'ghz_indep_qiskit_24.qasm',\n",
       " 'ghz_indep_qiskit_25.qasm',\n",
       " 'ghz_indep_qiskit_3.qasm',\n",
       " 'ghz_indep_qiskit_4.qasm',\n",
       " 'ghz_indep_qiskit_5.qasm',\n",
       " 'ghz_indep_qiskit_6.qasm',\n",
       " 'ghz_indep_qiskit_7.qasm',\n",
       " 'ghz_indep_qiskit_8.qasm',\n",
       " 'ghz_indep_qiskit_9.qasm',\n",
       " 'ghz_nativegates_ibm_qiskit_opt0_10.qasm',\n",
       " 'ghz_nativegates_ibm_qiskit_opt0_11.qasm',\n",
       " 'ghz_nativegates_ibm_qiskit_opt0_12.qasm',\n",
       " 'ghz_nativegates_ibm_qiskit_opt0_13.qasm',\n",
       " 'ghz_nativegates_ibm_qiskit_opt0_14.qasm',\n",
       " 'ghz_nativegates_ibm_qiskit_opt0_15.qasm',\n",
       " 'ghz_nativegates_ibm_qiskit_opt0_16.qasm',\n",
       " 'ghz_nativegates_ibm_qiskit_opt0_17.qasm',\n",
       " 'ghz_nativegates_ibm_qiskit_opt0_18.qasm',\n",
       " 'ghz_nativegates_ibm_qiskit_opt0_19.qasm',\n",
       " 'ghz_nativegates_ibm_qiskit_opt0_2.qasm',\n",
       " 'ghz_nativegates_ibm_qiskit_opt0_20.qasm',\n",
       " 'ghz_nativegates_ibm_qiskit_opt0_21.qasm',\n",
       " 'ghz_nativegates_ibm_qiskit_opt0_22.qasm',\n",
       " 'ghz_nativegates_ibm_qiskit_opt0_23.qasm',\n",
       " 'ghz_nativegates_ibm_qiskit_opt0_24.qasm',\n",
       " 'ghz_nativegates_ibm_qiskit_opt0_25.qasm',\n",
       " 'ghz_nativegates_ibm_qiskit_opt0_3.qasm',\n",
       " 'ghz_nativegates_ibm_qiskit_opt0_4.qasm',\n",
       " 'ghz_nativegates_ibm_qiskit_opt0_5.qasm',\n",
       " 'ghz_nativegates_ibm_qiskit_opt0_6.qasm',\n",
       " 'ghz_nativegates_ibm_qiskit_opt0_7.qasm',\n",
       " 'ghz_nativegates_ibm_qiskit_opt0_8.qasm',\n",
       " 'ghz_nativegates_ibm_qiskit_opt0_9.qasm',\n",
       " 'ghz_nativegates_ibm_qiskit_opt1_10.qasm',\n",
       " 'ghz_nativegates_ibm_qiskit_opt1_11.qasm',\n",
       " 'ghz_nativegates_ibm_qiskit_opt1_12.qasm',\n",
       " 'ghz_nativegates_ibm_qiskit_opt1_13.qasm',\n",
       " 'ghz_nativegates_ibm_qiskit_opt1_14.qasm',\n",
       " 'ghz_nativegates_ibm_qiskit_opt1_15.qasm',\n",
       " 'ghz_nativegates_ibm_qiskit_opt1_16.qasm',\n",
       " 'ghz_nativegates_ibm_qiskit_opt1_17.qasm',\n",
       " 'ghz_nativegates_ibm_qiskit_opt1_18.qasm',\n",
       " 'ghz_nativegates_ibm_qiskit_opt1_19.qasm',\n",
       " 'ghz_nativegates_ibm_qiskit_opt1_2.qasm',\n",
       " 'ghz_nativegates_ibm_qiskit_opt1_20.qasm',\n",
       " 'ghz_nativegates_ibm_qiskit_opt1_21.qasm',\n",
       " 'ghz_nativegates_ibm_qiskit_opt1_22.qasm',\n",
       " 'ghz_nativegates_ibm_qiskit_opt1_23.qasm',\n",
       " 'ghz_nativegates_ibm_qiskit_opt1_24.qasm',\n",
       " 'ghz_nativegates_ibm_qiskit_opt1_25.qasm',\n",
       " 'ghz_nativegates_ibm_qiskit_opt1_3.qasm',\n",
       " 'ghz_nativegates_ibm_qiskit_opt1_4.qasm',\n",
       " 'ghz_nativegates_ibm_qiskit_opt1_5.qasm',\n",
       " 'ghz_nativegates_ibm_qiskit_opt1_6.qasm',\n",
       " 'ghz_nativegates_ibm_qiskit_opt1_7.qasm',\n",
       " 'ghz_nativegates_ibm_qiskit_opt1_8.qasm',\n",
       " 'ghz_nativegates_ibm_qiskit_opt1_9.qasm',\n",
       " 'ghz_nativegates_ibm_qiskit_opt2_10.qasm',\n",
       " 'ghz_nativegates_ibm_qiskit_opt2_11.qasm',\n",
       " 'ghz_nativegates_ibm_qiskit_opt2_12.qasm',\n",
       " 'ghz_nativegates_ibm_qiskit_opt2_13.qasm',\n",
       " 'ghz_nativegates_ibm_qiskit_opt2_14.qasm',\n",
       " 'ghz_nativegates_ibm_qiskit_opt2_15.qasm',\n",
       " 'ghz_nativegates_ibm_qiskit_opt2_16.qasm',\n",
       " 'ghz_nativegates_ibm_qiskit_opt2_17.qasm',\n",
       " 'ghz_nativegates_ibm_qiskit_opt2_18.qasm',\n",
       " 'ghz_nativegates_ibm_qiskit_opt2_19.qasm',\n",
       " 'ghz_nativegates_ibm_qiskit_opt2_2.qasm',\n",
       " 'ghz_nativegates_ibm_qiskit_opt2_20.qasm',\n",
       " 'ghz_nativegates_ibm_qiskit_opt2_21.qasm',\n",
       " 'ghz_nativegates_ibm_qiskit_opt2_22.qasm',\n",
       " 'ghz_nativegates_ibm_qiskit_opt2_23.qasm',\n",
       " 'ghz_nativegates_ibm_qiskit_opt2_24.qasm',\n",
       " 'ghz_nativegates_ibm_qiskit_opt2_25.qasm',\n",
       " 'ghz_nativegates_ibm_qiskit_opt2_3.qasm',\n",
       " 'ghz_nativegates_ibm_qiskit_opt2_4.qasm',\n",
       " 'ghz_nativegates_ibm_qiskit_opt2_5.qasm',\n",
       " 'ghz_nativegates_ibm_qiskit_opt2_6.qasm',\n",
       " 'ghz_nativegates_ibm_qiskit_opt2_7.qasm',\n",
       " 'ghz_nativegates_ibm_qiskit_opt2_8.qasm',\n",
       " 'ghz_nativegates_ibm_qiskit_opt2_9.qasm',\n",
       " 'ghz_nativegates_ibm_qiskit_opt3_10.qasm',\n",
       " 'ghz_nativegates_ibm_qiskit_opt3_11.qasm',\n",
       " 'ghz_nativegates_ibm_qiskit_opt3_12.qasm',\n",
       " 'ghz_nativegates_ibm_qiskit_opt3_13.qasm',\n",
       " 'ghz_nativegates_ibm_qiskit_opt3_14.qasm',\n",
       " 'ghz_nativegates_ibm_qiskit_opt3_15.qasm',\n",
       " 'ghz_nativegates_ibm_qiskit_opt3_16.qasm',\n",
       " 'ghz_nativegates_ibm_qiskit_opt3_17.qasm',\n",
       " 'ghz_nativegates_ibm_qiskit_opt3_18.qasm',\n",
       " 'ghz_nativegates_ibm_qiskit_opt3_19.qasm',\n",
       " 'ghz_nativegates_ibm_qiskit_opt3_2.qasm',\n",
       " 'ghz_nativegates_ibm_qiskit_opt3_20.qasm',\n",
       " 'ghz_nativegates_ibm_qiskit_opt3_21.qasm',\n",
       " 'ghz_nativegates_ibm_qiskit_opt3_22.qasm',\n",
       " 'ghz_nativegates_ibm_qiskit_opt3_23.qasm',\n",
       " 'ghz_nativegates_ibm_qiskit_opt3_24.qasm',\n",
       " 'ghz_nativegates_ibm_qiskit_opt3_25.qasm',\n",
       " 'ghz_nativegates_ibm_qiskit_opt3_3.qasm',\n",
       " 'ghz_nativegates_ibm_qiskit_opt3_4.qasm',\n",
       " 'ghz_nativegates_ibm_qiskit_opt3_5.qasm',\n",
       " 'ghz_nativegates_ibm_qiskit_opt3_6.qasm',\n",
       " 'ghz_nativegates_ibm_qiskit_opt3_7.qasm',\n",
       " 'ghz_nativegates_ibm_qiskit_opt3_8.qasm',\n",
       " 'ghz_nativegates_ibm_qiskit_opt3_9.qasm',\n",
       " 'graphstate_indep_qiskit_10.qasm',\n",
       " 'graphstate_indep_qiskit_11.qasm',\n",
       " 'graphstate_indep_qiskit_12.qasm',\n",
       " 'graphstate_indep_qiskit_13.qasm',\n",
       " 'graphstate_indep_qiskit_14.qasm',\n",
       " 'graphstate_indep_qiskit_15.qasm',\n",
       " 'graphstate_indep_qiskit_16.qasm',\n",
       " 'graphstate_indep_qiskit_17.qasm',\n",
       " 'graphstate_indep_qiskit_18.qasm',\n",
       " 'graphstate_indep_qiskit_19.qasm',\n",
       " 'graphstate_indep_qiskit_20.qasm',\n",
       " 'graphstate_indep_qiskit_21.qasm',\n",
       " 'graphstate_indep_qiskit_22.qasm',\n",
       " 'graphstate_indep_qiskit_23.qasm',\n",
       " 'graphstate_indep_qiskit_24.qasm',\n",
       " 'graphstate_indep_qiskit_25.qasm',\n",
       " 'graphstate_indep_qiskit_3.qasm',\n",
       " 'graphstate_indep_qiskit_4.qasm',\n",
       " 'graphstate_indep_qiskit_5.qasm',\n",
       " 'graphstate_indep_qiskit_6.qasm',\n",
       " 'graphstate_indep_qiskit_7.qasm',\n",
       " 'graphstate_indep_qiskit_8.qasm',\n",
       " 'graphstate_indep_qiskit_9.qasm',\n",
       " 'graphstate_nativegates_ibm_qiskit_opt0_10.qasm',\n",
       " 'graphstate_nativegates_ibm_qiskit_opt0_11.qasm',\n",
       " 'graphstate_nativegates_ibm_qiskit_opt0_12.qasm',\n",
       " 'graphstate_nativegates_ibm_qiskit_opt0_13.qasm',\n",
       " 'graphstate_nativegates_ibm_qiskit_opt0_14.qasm',\n",
       " 'graphstate_nativegates_ibm_qiskit_opt0_15.qasm',\n",
       " 'graphstate_nativegates_ibm_qiskit_opt0_16.qasm',\n",
       " 'graphstate_nativegates_ibm_qiskit_opt0_17.qasm',\n",
       " 'graphstate_nativegates_ibm_qiskit_opt0_18.qasm',\n",
       " 'graphstate_nativegates_ibm_qiskit_opt0_19.qasm',\n",
       " 'graphstate_nativegates_ibm_qiskit_opt0_20.qasm',\n",
       " 'graphstate_nativegates_ibm_qiskit_opt0_21.qasm',\n",
       " 'graphstate_nativegates_ibm_qiskit_opt0_22.qasm',\n",
       " 'graphstate_nativegates_ibm_qiskit_opt0_23.qasm',\n",
       " 'graphstate_nativegates_ibm_qiskit_opt0_24.qasm',\n",
       " 'graphstate_nativegates_ibm_qiskit_opt0_25.qasm',\n",
       " 'graphstate_nativegates_ibm_qiskit_opt0_3.qasm',\n",
       " 'graphstate_nativegates_ibm_qiskit_opt0_4.qasm',\n",
       " 'graphstate_nativegates_ibm_qiskit_opt0_5.qasm',\n",
       " 'graphstate_nativegates_ibm_qiskit_opt0_6.qasm',\n",
       " 'graphstate_nativegates_ibm_qiskit_opt0_7.qasm',\n",
       " 'graphstate_nativegates_ibm_qiskit_opt0_8.qasm',\n",
       " 'graphstate_nativegates_ibm_qiskit_opt0_9.qasm',\n",
       " 'graphstate_nativegates_ibm_qiskit_opt1_10.qasm',\n",
       " 'graphstate_nativegates_ibm_qiskit_opt1_11.qasm',\n",
       " 'graphstate_nativegates_ibm_qiskit_opt1_12.qasm',\n",
       " 'graphstate_nativegates_ibm_qiskit_opt1_13.qasm',\n",
       " 'graphstate_nativegates_ibm_qiskit_opt1_14.qasm',\n",
       " 'graphstate_nativegates_ibm_qiskit_opt1_15.qasm',\n",
       " 'graphstate_nativegates_ibm_qiskit_opt1_16.qasm',\n",
       " 'graphstate_nativegates_ibm_qiskit_opt1_17.qasm',\n",
       " 'graphstate_nativegates_ibm_qiskit_opt1_18.qasm',\n",
       " 'graphstate_nativegates_ibm_qiskit_opt1_19.qasm',\n",
       " 'graphstate_nativegates_ibm_qiskit_opt1_20.qasm',\n",
       " 'graphstate_nativegates_ibm_qiskit_opt1_21.qasm',\n",
       " 'graphstate_nativegates_ibm_qiskit_opt1_22.qasm',\n",
       " 'graphstate_nativegates_ibm_qiskit_opt1_23.qasm',\n",
       " 'graphstate_nativegates_ibm_qiskit_opt1_24.qasm',\n",
       " 'graphstate_nativegates_ibm_qiskit_opt1_25.qasm',\n",
       " 'graphstate_nativegates_ibm_qiskit_opt1_3.qasm',\n",
       " 'graphstate_nativegates_ibm_qiskit_opt1_4.qasm',\n",
       " 'graphstate_nativegates_ibm_qiskit_opt1_5.qasm',\n",
       " 'graphstate_nativegates_ibm_qiskit_opt1_6.qasm',\n",
       " 'graphstate_nativegates_ibm_qiskit_opt1_7.qasm',\n",
       " 'graphstate_nativegates_ibm_qiskit_opt1_8.qasm',\n",
       " 'graphstate_nativegates_ibm_qiskit_opt1_9.qasm',\n",
       " 'graphstate_nativegates_ibm_qiskit_opt2_10.qasm',\n",
       " 'graphstate_nativegates_ibm_qiskit_opt2_11.qasm',\n",
       " 'graphstate_nativegates_ibm_qiskit_opt2_12.qasm',\n",
       " 'graphstate_nativegates_ibm_qiskit_opt2_13.qasm',\n",
       " 'graphstate_nativegates_ibm_qiskit_opt2_14.qasm',\n",
       " 'graphstate_nativegates_ibm_qiskit_opt2_15.qasm',\n",
       " 'graphstate_nativegates_ibm_qiskit_opt2_16.qasm',\n",
       " 'graphstate_nativegates_ibm_qiskit_opt2_17.qasm',\n",
       " 'graphstate_nativegates_ibm_qiskit_opt2_18.qasm',\n",
       " 'graphstate_nativegates_ibm_qiskit_opt2_19.qasm',\n",
       " 'graphstate_nativegates_ibm_qiskit_opt2_20.qasm',\n",
       " 'graphstate_nativegates_ibm_qiskit_opt2_21.qasm',\n",
       " 'graphstate_nativegates_ibm_qiskit_opt2_22.qasm',\n",
       " 'graphstate_nativegates_ibm_qiskit_opt2_23.qasm',\n",
       " 'graphstate_nativegates_ibm_qiskit_opt2_24.qasm',\n",
       " 'graphstate_nativegates_ibm_qiskit_opt2_25.qasm',\n",
       " 'graphstate_nativegates_ibm_qiskit_opt2_3.qasm',\n",
       " 'graphstate_nativegates_ibm_qiskit_opt2_4.qasm',\n",
       " 'graphstate_nativegates_ibm_qiskit_opt2_5.qasm',\n",
       " 'graphstate_nativegates_ibm_qiskit_opt2_6.qasm',\n",
       " 'graphstate_nativegates_ibm_qiskit_opt2_7.qasm',\n",
       " 'graphstate_nativegates_ibm_qiskit_opt2_8.qasm',\n",
       " 'graphstate_nativegates_ibm_qiskit_opt2_9.qasm',\n",
       " 'graphstate_nativegates_ibm_qiskit_opt3_10.qasm',\n",
       " 'graphstate_nativegates_ibm_qiskit_opt3_11.qasm',\n",
       " 'graphstate_nativegates_ibm_qiskit_opt3_12.qasm',\n",
       " 'graphstate_nativegates_ibm_qiskit_opt3_13.qasm',\n",
       " 'graphstate_nativegates_ibm_qiskit_opt3_14.qasm',\n",
       " 'graphstate_nativegates_ibm_qiskit_opt3_15.qasm',\n",
       " 'graphstate_nativegates_ibm_qiskit_opt3_16.qasm',\n",
       " 'graphstate_nativegates_ibm_qiskit_opt3_17.qasm',\n",
       " 'graphstate_nativegates_ibm_qiskit_opt3_18.qasm',\n",
       " 'graphstate_nativegates_ibm_qiskit_opt3_19.qasm',\n",
       " 'graphstate_nativegates_ibm_qiskit_opt3_20.qasm',\n",
       " 'graphstate_nativegates_ibm_qiskit_opt3_21.qasm',\n",
       " 'graphstate_nativegates_ibm_qiskit_opt3_22.qasm',\n",
       " 'graphstate_nativegates_ibm_qiskit_opt3_23.qasm',\n",
       " 'graphstate_nativegates_ibm_qiskit_opt3_24.qasm',\n",
       " 'graphstate_nativegates_ibm_qiskit_opt3_25.qasm',\n",
       " 'graphstate_nativegates_ibm_qiskit_opt3_3.qasm',\n",
       " 'graphstate_nativegates_ibm_qiskit_opt3_4.qasm',\n",
       " 'graphstate_nativegates_ibm_qiskit_opt3_5.qasm',\n",
       " 'graphstate_nativegates_ibm_qiskit_opt3_6.qasm',\n",
       " 'graphstate_nativegates_ibm_qiskit_opt3_7.qasm',\n",
       " 'graphstate_nativegates_ibm_qiskit_opt3_8.qasm',\n",
       " 'graphstate_nativegates_ibm_qiskit_opt3_9.qasm',\n",
       " 'grover-noancilla_indep_qiskit_10.qasm',\n",
       " 'grover-noancilla_indep_qiskit_11.qasm',\n",
       " 'grover-noancilla_indep_qiskit_12.qasm',\n",
       " 'grover-noancilla_indep_qiskit_2.qasm',\n",
       " 'grover-noancilla_indep_qiskit_3.qasm',\n",
       " 'grover-noancilla_indep_qiskit_4.qasm',\n",
       " 'grover-noancilla_indep_qiskit_5.qasm',\n",
       " 'grover-noancilla_indep_qiskit_6.qasm',\n",
       " 'grover-noancilla_indep_qiskit_7.qasm',\n",
       " 'grover-noancilla_indep_qiskit_8.qasm',\n",
       " 'grover-noancilla_indep_qiskit_9.qasm',\n",
       " 'grover-noancilla_nativegates_ibm_qiskit_opt0_10.qasm',\n",
       " 'grover-noancilla_nativegates_ibm_qiskit_opt0_11.qasm',\n",
       " 'grover-noancilla_nativegates_ibm_qiskit_opt0_2.qasm',\n",
       " 'grover-noancilla_nativegates_ibm_qiskit_opt0_3.qasm',\n",
       " 'grover-noancilla_nativegates_ibm_qiskit_opt0_4.qasm',\n",
       " 'grover-noancilla_nativegates_ibm_qiskit_opt0_5.qasm',\n",
       " 'grover-noancilla_nativegates_ibm_qiskit_opt0_6.qasm',\n",
       " 'grover-noancilla_nativegates_ibm_qiskit_opt0_7.qasm',\n",
       " 'grover-noancilla_nativegates_ibm_qiskit_opt0_8.qasm',\n",
       " 'grover-noancilla_nativegates_ibm_qiskit_opt0_9.qasm',\n",
       " 'grover-noancilla_nativegates_ibm_qiskit_opt1_10.qasm',\n",
       " 'grover-noancilla_nativegates_ibm_qiskit_opt1_11.qasm',\n",
       " 'grover-noancilla_nativegates_ibm_qiskit_opt1_2.qasm',\n",
       " 'grover-noancilla_nativegates_ibm_qiskit_opt1_3.qasm',\n",
       " 'grover-noancilla_nativegates_ibm_qiskit_opt1_4.qasm',\n",
       " 'grover-noancilla_nativegates_ibm_qiskit_opt1_5.qasm',\n",
       " 'grover-noancilla_nativegates_ibm_qiskit_opt1_6.qasm',\n",
       " 'grover-noancilla_nativegates_ibm_qiskit_opt1_7.qasm',\n",
       " 'grover-noancilla_nativegates_ibm_qiskit_opt1_8.qasm',\n",
       " 'grover-noancilla_nativegates_ibm_qiskit_opt1_9.qasm',\n",
       " 'grover-noancilla_nativegates_ibm_qiskit_opt2_10.qasm',\n",
       " 'grover-noancilla_nativegates_ibm_qiskit_opt2_2.qasm',\n",
       " 'grover-noancilla_nativegates_ibm_qiskit_opt2_3.qasm',\n",
       " 'grover-noancilla_nativegates_ibm_qiskit_opt2_4.qasm',\n",
       " 'grover-noancilla_nativegates_ibm_qiskit_opt2_5.qasm',\n",
       " 'grover-noancilla_nativegates_ibm_qiskit_opt2_6.qasm',\n",
       " 'grover-noancilla_nativegates_ibm_qiskit_opt2_7.qasm',\n",
       " 'grover-noancilla_nativegates_ibm_qiskit_opt2_8.qasm',\n",
       " 'grover-noancilla_nativegates_ibm_qiskit_opt2_9.qasm',\n",
       " 'grover-noancilla_nativegates_ibm_qiskit_opt3_2.qasm',\n",
       " 'grover-noancilla_nativegates_ibm_qiskit_opt3_3.qasm',\n",
       " 'grover-noancilla_nativegates_ibm_qiskit_opt3_4.qasm',\n",
       " 'grover-noancilla_nativegates_ibm_qiskit_opt3_5.qasm',\n",
       " 'grover-noancilla_nativegates_ibm_qiskit_opt3_6.qasm',\n",
       " 'grover-noancilla_nativegates_ibm_qiskit_opt3_7.qasm',\n",
       " 'grover-noancilla_nativegates_ibm_qiskit_opt3_8.qasm',\n",
       " 'grover-noancilla_nativegates_ibm_qiskit_opt3_9.qasm',\n",
       " 'grover-v-chain_indep_qiskit_11.qasm',\n",
       " 'grover-v-chain_indep_qiskit_13.qasm',\n",
       " 'grover-v-chain_indep_qiskit_15.qasm',\n",
       " 'grover-v-chain_indep_qiskit_17.qasm',\n",
       " 'grover-v-chain_indep_qiskit_19.qasm',\n",
       " 'grover-v-chain_indep_qiskit_2.qasm',\n",
       " 'grover-v-chain_indep_qiskit_3.qasm',\n",
       " 'grover-v-chain_indep_qiskit_4.qasm',\n",
       " 'grover-v-chain_indep_qiskit_5.qasm',\n",
       " 'grover-v-chain_indep_qiskit_7.qasm',\n",
       " 'grover-v-chain_indep_qiskit_9.qasm',\n",
       " 'grover-v-chain_nativegates_ibm_qiskit_opt0_11.qasm',\n",
       " 'grover-v-chain_nativegates_ibm_qiskit_opt0_13.qasm',\n",
       " 'grover-v-chain_nativegates_ibm_qiskit_opt0_15.qasm',\n",
       " 'grover-v-chain_nativegates_ibm_qiskit_opt0_17.qasm',\n",
       " 'grover-v-chain_nativegates_ibm_qiskit_opt0_2.qasm',\n",
       " 'grover-v-chain_nativegates_ibm_qiskit_opt0_3.qasm',\n",
       " 'grover-v-chain_nativegates_ibm_qiskit_opt0_4.qasm',\n",
       " 'grover-v-chain_nativegates_ibm_qiskit_opt0_5.qasm',\n",
       " 'grover-v-chain_nativegates_ibm_qiskit_opt0_7.qasm',\n",
       " 'grover-v-chain_nativegates_ibm_qiskit_opt0_9.qasm',\n",
       " 'grover-v-chain_nativegates_ibm_qiskit_opt1_11.qasm',\n",
       " 'grover-v-chain_nativegates_ibm_qiskit_opt1_13.qasm',\n",
       " 'grover-v-chain_nativegates_ibm_qiskit_opt1_15.qasm',\n",
       " 'grover-v-chain_nativegates_ibm_qiskit_opt1_17.qasm',\n",
       " 'grover-v-chain_nativegates_ibm_qiskit_opt1_2.qasm',\n",
       " 'grover-v-chain_nativegates_ibm_qiskit_opt1_3.qasm',\n",
       " 'grover-v-chain_nativegates_ibm_qiskit_opt1_4.qasm',\n",
       " 'grover-v-chain_nativegates_ibm_qiskit_opt1_5.qasm',\n",
       " 'grover-v-chain_nativegates_ibm_qiskit_opt1_7.qasm',\n",
       " 'grover-v-chain_nativegates_ibm_qiskit_opt1_9.qasm',\n",
       " 'grover-v-chain_nativegates_ibm_qiskit_opt2_11.qasm',\n",
       " 'grover-v-chain_nativegates_ibm_qiskit_opt2_13.qasm',\n",
       " 'grover-v-chain_nativegates_ibm_qiskit_opt2_15.qasm',\n",
       " 'grover-v-chain_nativegates_ibm_qiskit_opt2_2.qasm',\n",
       " 'grover-v-chain_nativegates_ibm_qiskit_opt2_3.qasm',\n",
       " 'grover-v-chain_nativegates_ibm_qiskit_opt2_4.qasm',\n",
       " 'grover-v-chain_nativegates_ibm_qiskit_opt2_5.qasm',\n",
       " 'grover-v-chain_nativegates_ibm_qiskit_opt2_7.qasm',\n",
       " 'grover-v-chain_nativegates_ibm_qiskit_opt2_9.qasm',\n",
       " 'grover-v-chain_nativegates_ibm_qiskit_opt3_11.qasm',\n",
       " 'grover-v-chain_nativegates_ibm_qiskit_opt3_13.qasm',\n",
       " 'grover-v-chain_nativegates_ibm_qiskit_opt3_2.qasm',\n",
       " 'grover-v-chain_nativegates_ibm_qiskit_opt3_3.qasm',\n",
       " 'grover-v-chain_nativegates_ibm_qiskit_opt3_4.qasm',\n",
       " 'grover-v-chain_nativegates_ibm_qiskit_opt3_5.qasm',\n",
       " 'grover-v-chain_nativegates_ibm_qiskit_opt3_7.qasm',\n",
       " 'grover-v-chain_nativegates_ibm_qiskit_opt3_9.qasm',\n",
       " 'portfolioqaoa_indep_qiskit_10.qasm',\n",
       " 'portfolioqaoa_indep_qiskit_11.qasm',\n",
       " 'portfolioqaoa_indep_qiskit_12.qasm',\n",
       " 'portfolioqaoa_indep_qiskit_13.qasm',\n",
       " 'portfolioqaoa_indep_qiskit_14.qasm',\n",
       " 'portfolioqaoa_indep_qiskit_3.qasm',\n",
       " 'portfolioqaoa_indep_qiskit_4.qasm',\n",
       " 'portfolioqaoa_indep_qiskit_5.qasm',\n",
       " 'portfolioqaoa_indep_qiskit_6.qasm',\n",
       " 'portfolioqaoa_indep_qiskit_7.qasm',\n",
       " 'portfolioqaoa_indep_qiskit_8.qasm',\n",
       " 'portfolioqaoa_indep_qiskit_9.qasm',\n",
       " 'portfolioqaoa_nativegates_ibm_qiskit_opt0_10.qasm',\n",
       " 'portfolioqaoa_nativegates_ibm_qiskit_opt0_11.qasm',\n",
       " 'portfolioqaoa_nativegates_ibm_qiskit_opt0_12.qasm',\n",
       " 'portfolioqaoa_nativegates_ibm_qiskit_opt0_13.qasm',\n",
       " 'portfolioqaoa_nativegates_ibm_qiskit_opt0_14.qasm',\n",
       " 'portfolioqaoa_nativegates_ibm_qiskit_opt0_3.qasm',\n",
       " 'portfolioqaoa_nativegates_ibm_qiskit_opt0_4.qasm',\n",
       " 'portfolioqaoa_nativegates_ibm_qiskit_opt0_5.qasm',\n",
       " 'portfolioqaoa_nativegates_ibm_qiskit_opt0_6.qasm',\n",
       " 'portfolioqaoa_nativegates_ibm_qiskit_opt0_7.qasm',\n",
       " 'portfolioqaoa_nativegates_ibm_qiskit_opt0_8.qasm',\n",
       " 'portfolioqaoa_nativegates_ibm_qiskit_opt0_9.qasm',\n",
       " 'portfolioqaoa_nativegates_ibm_qiskit_opt1_10.qasm',\n",
       " 'portfolioqaoa_nativegates_ibm_qiskit_opt1_11.qasm',\n",
       " 'portfolioqaoa_nativegates_ibm_qiskit_opt1_12.qasm',\n",
       " 'portfolioqaoa_nativegates_ibm_qiskit_opt1_13.qasm',\n",
       " 'portfolioqaoa_nativegates_ibm_qiskit_opt1_14.qasm',\n",
       " 'portfolioqaoa_nativegates_ibm_qiskit_opt1_3.qasm',\n",
       " 'portfolioqaoa_nativegates_ibm_qiskit_opt1_4.qasm',\n",
       " 'portfolioqaoa_nativegates_ibm_qiskit_opt1_5.qasm',\n",
       " 'portfolioqaoa_nativegates_ibm_qiskit_opt1_6.qasm',\n",
       " 'portfolioqaoa_nativegates_ibm_qiskit_opt1_7.qasm',\n",
       " 'portfolioqaoa_nativegates_ibm_qiskit_opt1_8.qasm',\n",
       " 'portfolioqaoa_nativegates_ibm_qiskit_opt1_9.qasm',\n",
       " 'portfolioqaoa_nativegates_ibm_qiskit_opt2_10.qasm',\n",
       " 'portfolioqaoa_nativegates_ibm_qiskit_opt2_11.qasm',\n",
       " 'portfolioqaoa_nativegates_ibm_qiskit_opt2_12.qasm',\n",
       " 'portfolioqaoa_nativegates_ibm_qiskit_opt2_13.qasm',\n",
       " 'portfolioqaoa_nativegates_ibm_qiskit_opt2_14.qasm',\n",
       " 'portfolioqaoa_nativegates_ibm_qiskit_opt2_3.qasm',\n",
       " 'portfolioqaoa_nativegates_ibm_qiskit_opt2_4.qasm',\n",
       " 'portfolioqaoa_nativegates_ibm_qiskit_opt2_5.qasm',\n",
       " 'portfolioqaoa_nativegates_ibm_qiskit_opt2_6.qasm',\n",
       " 'portfolioqaoa_nativegates_ibm_qiskit_opt2_7.qasm',\n",
       " 'portfolioqaoa_nativegates_ibm_qiskit_opt2_8.qasm',\n",
       " 'portfolioqaoa_nativegates_ibm_qiskit_opt2_9.qasm',\n",
       " 'portfolioqaoa_nativegates_ibm_qiskit_opt3_10.qasm',\n",
       " 'portfolioqaoa_nativegates_ibm_qiskit_opt3_11.qasm',\n",
       " 'portfolioqaoa_nativegates_ibm_qiskit_opt3_12.qasm',\n",
       " 'portfolioqaoa_nativegates_ibm_qiskit_opt3_13.qasm',\n",
       " 'portfolioqaoa_nativegates_ibm_qiskit_opt3_14.qasm',\n",
       " 'portfolioqaoa_nativegates_ibm_qiskit_opt3_3.qasm',\n",
       " 'portfolioqaoa_nativegates_ibm_qiskit_opt3_4.qasm',\n",
       " 'portfolioqaoa_nativegates_ibm_qiskit_opt3_5.qasm',\n",
       " 'portfolioqaoa_nativegates_ibm_qiskit_opt3_6.qasm',\n",
       " 'portfolioqaoa_nativegates_ibm_qiskit_opt3_7.qasm',\n",
       " 'portfolioqaoa_nativegates_ibm_qiskit_opt3_8.qasm',\n",
       " 'portfolioqaoa_nativegates_ibm_qiskit_opt3_9.qasm',\n",
       " 'portfoliovqe_indep_qiskit_10.qasm',\n",
       " 'portfoliovqe_indep_qiskit_11.qasm',\n",
       " 'portfoliovqe_indep_qiskit_12.qasm',\n",
       " 'portfoliovqe_indep_qiskit_13.qasm',\n",
       " 'portfoliovqe_indep_qiskit_14.qasm',\n",
       " 'portfoliovqe_indep_qiskit_15.qasm',\n",
       " 'portfoliovqe_indep_qiskit_16.qasm',\n",
       " 'portfoliovqe_indep_qiskit_17.qasm',\n",
       " 'portfoliovqe_indep_qiskit_18.qasm',\n",
       " 'portfoliovqe_indep_qiskit_3.qasm',\n",
       " 'portfoliovqe_indep_qiskit_4.qasm',\n",
       " 'portfoliovqe_indep_qiskit_5.qasm',\n",
       " 'portfoliovqe_indep_qiskit_6.qasm',\n",
       " 'portfoliovqe_indep_qiskit_7.qasm',\n",
       " 'portfoliovqe_indep_qiskit_8.qasm',\n",
       " 'portfoliovqe_indep_qiskit_9.qasm',\n",
       " 'portfoliovqe_nativegates_ibm_qiskit_opt0_10.qasm',\n",
       " 'portfoliovqe_nativegates_ibm_qiskit_opt0_11.qasm',\n",
       " 'portfoliovqe_nativegates_ibm_qiskit_opt0_12.qasm',\n",
       " 'portfoliovqe_nativegates_ibm_qiskit_opt0_13.qasm',\n",
       " 'portfoliovqe_nativegates_ibm_qiskit_opt0_14.qasm',\n",
       " 'portfoliovqe_nativegates_ibm_qiskit_opt0_15.qasm',\n",
       " 'portfoliovqe_nativegates_ibm_qiskit_opt0_16.qasm',\n",
       " 'portfoliovqe_nativegates_ibm_qiskit_opt0_17.qasm',\n",
       " 'portfoliovqe_nativegates_ibm_qiskit_opt0_18.qasm',\n",
       " 'portfoliovqe_nativegates_ibm_qiskit_opt0_3.qasm',\n",
       " 'portfoliovqe_nativegates_ibm_qiskit_opt0_4.qasm',\n",
       " 'portfoliovqe_nativegates_ibm_qiskit_opt0_5.qasm',\n",
       " 'portfoliovqe_nativegates_ibm_qiskit_opt0_6.qasm',\n",
       " 'portfoliovqe_nativegates_ibm_qiskit_opt0_7.qasm',\n",
       " 'portfoliovqe_nativegates_ibm_qiskit_opt0_8.qasm',\n",
       " 'portfoliovqe_nativegates_ibm_qiskit_opt0_9.qasm',\n",
       " 'portfoliovqe_nativegates_ibm_qiskit_opt1_10.qasm',\n",
       " 'portfoliovqe_nativegates_ibm_qiskit_opt1_11.qasm',\n",
       " 'portfoliovqe_nativegates_ibm_qiskit_opt1_12.qasm',\n",
       " 'portfoliovqe_nativegates_ibm_qiskit_opt1_13.qasm',\n",
       " 'portfoliovqe_nativegates_ibm_qiskit_opt1_14.qasm',\n",
       " 'portfoliovqe_nativegates_ibm_qiskit_opt1_15.qasm',\n",
       " 'portfoliovqe_nativegates_ibm_qiskit_opt1_16.qasm',\n",
       " 'portfoliovqe_nativegates_ibm_qiskit_opt1_17.qasm',\n",
       " 'portfoliovqe_nativegates_ibm_qiskit_opt1_18.qasm',\n",
       " 'portfoliovqe_nativegates_ibm_qiskit_opt1_3.qasm',\n",
       " 'portfoliovqe_nativegates_ibm_qiskit_opt1_4.qasm',\n",
       " 'portfoliovqe_nativegates_ibm_qiskit_opt1_5.qasm',\n",
       " 'portfoliovqe_nativegates_ibm_qiskit_opt1_6.qasm',\n",
       " 'portfoliovqe_nativegates_ibm_qiskit_opt1_7.qasm',\n",
       " 'portfoliovqe_nativegates_ibm_qiskit_opt1_8.qasm',\n",
       " 'portfoliovqe_nativegates_ibm_qiskit_opt1_9.qasm',\n",
       " 'portfoliovqe_nativegates_ibm_qiskit_opt2_10.qasm',\n",
       " 'portfoliovqe_nativegates_ibm_qiskit_opt2_11.qasm',\n",
       " 'portfoliovqe_nativegates_ibm_qiskit_opt2_12.qasm',\n",
       " 'portfoliovqe_nativegates_ibm_qiskit_opt2_13.qasm',\n",
       " 'portfoliovqe_nativegates_ibm_qiskit_opt2_14.qasm',\n",
       " 'portfoliovqe_nativegates_ibm_qiskit_opt2_15.qasm',\n",
       " 'portfoliovqe_nativegates_ibm_qiskit_opt2_16.qasm',\n",
       " 'portfoliovqe_nativegates_ibm_qiskit_opt2_17.qasm',\n",
       " 'portfoliovqe_nativegates_ibm_qiskit_opt2_18.qasm',\n",
       " 'portfoliovqe_nativegates_ibm_qiskit_opt2_3.qasm',\n",
       " 'portfoliovqe_nativegates_ibm_qiskit_opt2_4.qasm',\n",
       " 'portfoliovqe_nativegates_ibm_qiskit_opt2_5.qasm',\n",
       " 'portfoliovqe_nativegates_ibm_qiskit_opt2_6.qasm',\n",
       " 'portfoliovqe_nativegates_ibm_qiskit_opt2_7.qasm',\n",
       " 'portfoliovqe_nativegates_ibm_qiskit_opt2_8.qasm',\n",
       " 'portfoliovqe_nativegates_ibm_qiskit_opt2_9.qasm',\n",
       " 'portfoliovqe_nativegates_ibm_qiskit_opt3_10.qasm',\n",
       " 'portfoliovqe_nativegates_ibm_qiskit_opt3_11.qasm',\n",
       " 'portfoliovqe_nativegates_ibm_qiskit_opt3_12.qasm',\n",
       " 'portfoliovqe_nativegates_ibm_qiskit_opt3_13.qasm',\n",
       " 'portfoliovqe_nativegates_ibm_qiskit_opt3_14.qasm',\n",
       " 'portfoliovqe_nativegates_ibm_qiskit_opt3_15.qasm',\n",
       " 'portfoliovqe_nativegates_ibm_qiskit_opt3_16.qasm',\n",
       " 'portfoliovqe_nativegates_ibm_qiskit_opt3_17.qasm',\n",
       " 'portfoliovqe_nativegates_ibm_qiskit_opt3_18.qasm',\n",
       " 'portfoliovqe_nativegates_ibm_qiskit_opt3_3.qasm',\n",
       " 'portfoliovqe_nativegates_ibm_qiskit_opt3_4.qasm',\n",
       " 'portfoliovqe_nativegates_ibm_qiskit_opt3_5.qasm',\n",
       " 'portfoliovqe_nativegates_ibm_qiskit_opt3_6.qasm',\n",
       " 'portfoliovqe_nativegates_ibm_qiskit_opt3_7.qasm',\n",
       " 'portfoliovqe_nativegates_ibm_qiskit_opt3_8.qasm',\n",
       " 'portfoliovqe_nativegates_ibm_qiskit_opt3_9.qasm',\n",
       " 'qaoa_indep_qiskit_10.qasm',\n",
       " 'qaoa_indep_qiskit_11.qasm',\n",
       " 'qaoa_indep_qiskit_12.qasm',\n",
       " 'qaoa_indep_qiskit_13.qasm',\n",
       " 'qaoa_indep_qiskit_14.qasm',\n",
       " 'qaoa_indep_qiskit_3.qasm',\n",
       " 'qaoa_indep_qiskit_4.qasm',\n",
       " 'qaoa_indep_qiskit_5.qasm',\n",
       " 'qaoa_indep_qiskit_6.qasm',\n",
       " 'qaoa_indep_qiskit_7.qasm',\n",
       " 'qaoa_indep_qiskit_8.qasm',\n",
       " 'qaoa_indep_qiskit_9.qasm',\n",
       " 'qaoa_nativegates_ibm_qiskit_opt0_10.qasm',\n",
       " 'qaoa_nativegates_ibm_qiskit_opt0_11.qasm',\n",
       " 'qaoa_nativegates_ibm_qiskit_opt0_12.qasm',\n",
       " 'qaoa_nativegates_ibm_qiskit_opt0_13.qasm',\n",
       " 'qaoa_nativegates_ibm_qiskit_opt0_14.qasm',\n",
       " 'qaoa_nativegates_ibm_qiskit_opt0_3.qasm',\n",
       " 'qaoa_nativegates_ibm_qiskit_opt0_4.qasm',\n",
       " 'qaoa_nativegates_ibm_qiskit_opt0_5.qasm',\n",
       " 'qaoa_nativegates_ibm_qiskit_opt0_6.qasm',\n",
       " 'qaoa_nativegates_ibm_qiskit_opt0_7.qasm',\n",
       " 'qaoa_nativegates_ibm_qiskit_opt0_8.qasm',\n",
       " 'qaoa_nativegates_ibm_qiskit_opt0_9.qasm',\n",
       " 'qaoa_nativegates_ibm_qiskit_opt1_10.qasm',\n",
       " 'qaoa_nativegates_ibm_qiskit_opt1_11.qasm',\n",
       " 'qaoa_nativegates_ibm_qiskit_opt1_12.qasm',\n",
       " 'qaoa_nativegates_ibm_qiskit_opt1_13.qasm',\n",
       " 'qaoa_nativegates_ibm_qiskit_opt1_3.qasm',\n",
       " 'qaoa_nativegates_ibm_qiskit_opt1_4.qasm',\n",
       " 'qaoa_nativegates_ibm_qiskit_opt1_5.qasm',\n",
       " 'qaoa_nativegates_ibm_qiskit_opt1_6.qasm',\n",
       " 'qaoa_nativegates_ibm_qiskit_opt1_7.qasm',\n",
       " 'qaoa_nativegates_ibm_qiskit_opt1_8.qasm',\n",
       " 'qaoa_nativegates_ibm_qiskit_opt1_9.qasm',\n",
       " 'qaoa_nativegates_ibm_qiskit_opt2_10.qasm',\n",
       " 'qaoa_nativegates_ibm_qiskit_opt2_11.qasm',\n",
       " 'qaoa_nativegates_ibm_qiskit_opt2_12.qasm',\n",
       " 'qaoa_nativegates_ibm_qiskit_opt2_13.qasm',\n",
       " 'qaoa_nativegates_ibm_qiskit_opt2_14.qasm',\n",
       " 'qaoa_nativegates_ibm_qiskit_opt2_3.qasm',\n",
       " 'qaoa_nativegates_ibm_qiskit_opt2_4.qasm',\n",
       " 'qaoa_nativegates_ibm_qiskit_opt2_5.qasm',\n",
       " 'qaoa_nativegates_ibm_qiskit_opt2_6.qasm',\n",
       " 'qaoa_nativegates_ibm_qiskit_opt2_7.qasm',\n",
       " 'qaoa_nativegates_ibm_qiskit_opt2_8.qasm',\n",
       " 'qaoa_nativegates_ibm_qiskit_opt2_9.qasm',\n",
       " 'qaoa_nativegates_ibm_qiskit_opt3_10.qasm',\n",
       " 'qaoa_nativegates_ibm_qiskit_opt3_11.qasm',\n",
       " 'qaoa_nativegates_ibm_qiskit_opt3_12.qasm',\n",
       " 'qaoa_nativegates_ibm_qiskit_opt3_13.qasm',\n",
       " 'qaoa_nativegates_ibm_qiskit_opt3_14.qasm',\n",
       " 'qaoa_nativegates_ibm_qiskit_opt3_3.qasm',\n",
       " 'qaoa_nativegates_ibm_qiskit_opt3_4.qasm',\n",
       " 'qaoa_nativegates_ibm_qiskit_opt3_5.qasm',\n",
       " 'qaoa_nativegates_ibm_qiskit_opt3_6.qasm',\n",
       " 'qaoa_nativegates_ibm_qiskit_opt3_7.qasm',\n",
       " 'qaoa_nativegates_ibm_qiskit_opt3_8.qasm',\n",
       " 'qaoa_nativegates_ibm_qiskit_opt3_9.qasm',\n",
       " 'qftentangled_indep_qiskit_10.qasm',\n",
       " 'qftentangled_indep_qiskit_11.qasm',\n",
       " 'qftentangled_indep_qiskit_12.qasm',\n",
       " 'qftentangled_indep_qiskit_13.qasm',\n",
       " 'qftentangled_indep_qiskit_14.qasm',\n",
       " 'qftentangled_indep_qiskit_15.qasm',\n",
       " 'qftentangled_indep_qiskit_16.qasm',\n",
       " 'qftentangled_indep_qiskit_17.qasm',\n",
       " 'qftentangled_indep_qiskit_18.qasm',\n",
       " 'qftentangled_indep_qiskit_19.qasm',\n",
       " 'qftentangled_indep_qiskit_2.qasm',\n",
       " 'qftentangled_indep_qiskit_20.qasm',\n",
       " 'qftentangled_indep_qiskit_21.qasm',\n",
       " 'qftentangled_indep_qiskit_22.qasm',\n",
       " 'qftentangled_indep_qiskit_23.qasm',\n",
       " 'qftentangled_indep_qiskit_24.qasm',\n",
       " 'qftentangled_indep_qiskit_25.qasm',\n",
       " 'qftentangled_indep_qiskit_3.qasm',\n",
       " 'qftentangled_indep_qiskit_4.qasm',\n",
       " 'qftentangled_indep_qiskit_5.qasm',\n",
       " 'qftentangled_indep_qiskit_6.qasm',\n",
       " 'qftentangled_indep_qiskit_7.qasm',\n",
       " 'qftentangled_indep_qiskit_8.qasm',\n",
       " 'qftentangled_indep_qiskit_9.qasm',\n",
       " 'qftentangled_nativegates_ibm_qiskit_opt0_10.qasm',\n",
       " 'qftentangled_nativegates_ibm_qiskit_opt0_11.qasm',\n",
       " 'qftentangled_nativegates_ibm_qiskit_opt0_12.qasm',\n",
       " 'qftentangled_nativegates_ibm_qiskit_opt0_13.qasm',\n",
       " 'qftentangled_nativegates_ibm_qiskit_opt0_14.qasm',\n",
       " 'qftentangled_nativegates_ibm_qiskit_opt0_15.qasm',\n",
       " 'qftentangled_nativegates_ibm_qiskit_opt0_16.qasm',\n",
       " 'qftentangled_nativegates_ibm_qiskit_opt0_17.qasm',\n",
       " 'qftentangled_nativegates_ibm_qiskit_opt0_18.qasm',\n",
       " 'qftentangled_nativegates_ibm_qiskit_opt0_19.qasm',\n",
       " 'qftentangled_nativegates_ibm_qiskit_opt0_2.qasm',\n",
       " 'qftentangled_nativegates_ibm_qiskit_opt0_20.qasm',\n",
       " 'qftentangled_nativegates_ibm_qiskit_opt0_21.qasm',\n",
       " 'qftentangled_nativegates_ibm_qiskit_opt0_22.qasm',\n",
       " 'qftentangled_nativegates_ibm_qiskit_opt0_23.qasm',\n",
       " 'qftentangled_nativegates_ibm_qiskit_opt0_24.qasm',\n",
       " 'qftentangled_nativegates_ibm_qiskit_opt0_25.qasm',\n",
       " 'qftentangled_nativegates_ibm_qiskit_opt0_3.qasm',\n",
       " 'qftentangled_nativegates_ibm_qiskit_opt0_4.qasm',\n",
       " 'qftentangled_nativegates_ibm_qiskit_opt0_5.qasm',\n",
       " 'qftentangled_nativegates_ibm_qiskit_opt0_6.qasm',\n",
       " 'qftentangled_nativegates_ibm_qiskit_opt0_7.qasm',\n",
       " 'qftentangled_nativegates_ibm_qiskit_opt0_8.qasm',\n",
       " 'qftentangled_nativegates_ibm_qiskit_opt0_9.qasm',\n",
       " 'qftentangled_nativegates_ibm_qiskit_opt1_10.qasm',\n",
       " 'qftentangled_nativegates_ibm_qiskit_opt1_11.qasm',\n",
       " 'qftentangled_nativegates_ibm_qiskit_opt1_12.qasm',\n",
       " 'qftentangled_nativegates_ibm_qiskit_opt1_13.qasm',\n",
       " 'qftentangled_nativegates_ibm_qiskit_opt1_14.qasm',\n",
       " 'qftentangled_nativegates_ibm_qiskit_opt1_15.qasm',\n",
       " 'qftentangled_nativegates_ibm_qiskit_opt1_16.qasm',\n",
       " 'qftentangled_nativegates_ibm_qiskit_opt1_17.qasm',\n",
       " 'qftentangled_nativegates_ibm_qiskit_opt1_18.qasm',\n",
       " 'qftentangled_nativegates_ibm_qiskit_opt1_19.qasm',\n",
       " 'qftentangled_nativegates_ibm_qiskit_opt1_2.qasm',\n",
       " 'qftentangled_nativegates_ibm_qiskit_opt1_20.qasm',\n",
       " 'qftentangled_nativegates_ibm_qiskit_opt1_21.qasm',\n",
       " 'qftentangled_nativegates_ibm_qiskit_opt1_22.qasm',\n",
       " 'qftentangled_nativegates_ibm_qiskit_opt1_23.qasm',\n",
       " 'qftentangled_nativegates_ibm_qiskit_opt1_24.qasm',\n",
       " 'qftentangled_nativegates_ibm_qiskit_opt1_25.qasm',\n",
       " 'qftentangled_nativegates_ibm_qiskit_opt1_3.qasm',\n",
       " 'qftentangled_nativegates_ibm_qiskit_opt1_4.qasm',\n",
       " 'qftentangled_nativegates_ibm_qiskit_opt1_5.qasm',\n",
       " 'qftentangled_nativegates_ibm_qiskit_opt1_6.qasm',\n",
       " 'qftentangled_nativegates_ibm_qiskit_opt1_7.qasm',\n",
       " 'qftentangled_nativegates_ibm_qiskit_opt1_8.qasm',\n",
       " 'qftentangled_nativegates_ibm_qiskit_opt1_9.qasm',\n",
       " 'qftentangled_nativegates_ibm_qiskit_opt2_10.qasm',\n",
       " 'qftentangled_nativegates_ibm_qiskit_opt2_11.qasm',\n",
       " 'qftentangled_nativegates_ibm_qiskit_opt2_12.qasm',\n",
       " 'qftentangled_nativegates_ibm_qiskit_opt2_13.qasm',\n",
       " 'qftentangled_nativegates_ibm_qiskit_opt2_14.qasm',\n",
       " 'qftentangled_nativegates_ibm_qiskit_opt2_15.qasm',\n",
       " 'qftentangled_nativegates_ibm_qiskit_opt2_16.qasm',\n",
       " 'qftentangled_nativegates_ibm_qiskit_opt2_17.qasm',\n",
       " 'qftentangled_nativegates_ibm_qiskit_opt2_18.qasm',\n",
       " 'qftentangled_nativegates_ibm_qiskit_opt2_19.qasm',\n",
       " 'qftentangled_nativegates_ibm_qiskit_opt2_2.qasm',\n",
       " 'qftentangled_nativegates_ibm_qiskit_opt2_20.qasm',\n",
       " 'qftentangled_nativegates_ibm_qiskit_opt2_21.qasm',\n",
       " 'qftentangled_nativegates_ibm_qiskit_opt2_22.qasm',\n",
       " 'qftentangled_nativegates_ibm_qiskit_opt2_23.qasm',\n",
       " 'qftentangled_nativegates_ibm_qiskit_opt2_24.qasm',\n",
       " 'qftentangled_nativegates_ibm_qiskit_opt2_25.qasm',\n",
       " 'qftentangled_nativegates_ibm_qiskit_opt2_3.qasm',\n",
       " 'qftentangled_nativegates_ibm_qiskit_opt2_4.qasm',\n",
       " 'qftentangled_nativegates_ibm_qiskit_opt2_5.qasm',\n",
       " 'qftentangled_nativegates_ibm_qiskit_opt2_6.qasm',\n",
       " 'qftentangled_nativegates_ibm_qiskit_opt2_7.qasm',\n",
       " 'qftentangled_nativegates_ibm_qiskit_opt2_8.qasm',\n",
       " 'qftentangled_nativegates_ibm_qiskit_opt2_9.qasm',\n",
       " 'qftentangled_nativegates_ibm_qiskit_opt3_10.qasm',\n",
       " 'qftentangled_nativegates_ibm_qiskit_opt3_11.qasm',\n",
       " 'qftentangled_nativegates_ibm_qiskit_opt3_12.qasm',\n",
       " 'qftentangled_nativegates_ibm_qiskit_opt3_13.qasm',\n",
       " 'qftentangled_nativegates_ibm_qiskit_opt3_14.qasm',\n",
       " 'qftentangled_nativegates_ibm_qiskit_opt3_15.qasm',\n",
       " 'qftentangled_nativegates_ibm_qiskit_opt3_16.qasm',\n",
       " 'qftentangled_nativegates_ibm_qiskit_opt3_17.qasm',\n",
       " 'qftentangled_nativegates_ibm_qiskit_opt3_18.qasm',\n",
       " 'qftentangled_nativegates_ibm_qiskit_opt3_19.qasm',\n",
       " 'qftentangled_nativegates_ibm_qiskit_opt3_2.qasm',\n",
       " 'qftentangled_nativegates_ibm_qiskit_opt3_20.qasm',\n",
       " 'qftentangled_nativegates_ibm_qiskit_opt3_21.qasm',\n",
       " 'qftentangled_nativegates_ibm_qiskit_opt3_22.qasm',\n",
       " 'qftentangled_nativegates_ibm_qiskit_opt3_23.qasm',\n",
       " 'qftentangled_nativegates_ibm_qiskit_opt3_24.qasm',\n",
       " 'qftentangled_nativegates_ibm_qiskit_opt3_25.qasm',\n",
       " 'qftentangled_nativegates_ibm_qiskit_opt3_3.qasm',\n",
       " 'qftentangled_nativegates_ibm_qiskit_opt3_4.qasm',\n",
       " 'qftentangled_nativegates_ibm_qiskit_opt3_5.qasm',\n",
       " 'qftentangled_nativegates_ibm_qiskit_opt3_6.qasm',\n",
       " 'qftentangled_nativegates_ibm_qiskit_opt3_7.qasm',\n",
       " 'qftentangled_nativegates_ibm_qiskit_opt3_8.qasm',\n",
       " 'qftentangled_nativegates_ibm_qiskit_opt3_9.qasm',\n",
       " 'qft_indep_qiskit_10.qasm',\n",
       " 'qft_indep_qiskit_11.qasm',\n",
       " 'qft_indep_qiskit_12.qasm',\n",
       " 'qft_indep_qiskit_13.qasm',\n",
       " 'qft_indep_qiskit_14.qasm',\n",
       " 'qft_indep_qiskit_15.qasm',\n",
       " 'qft_indep_qiskit_16.qasm',\n",
       " 'qft_indep_qiskit_17.qasm',\n",
       " 'qft_indep_qiskit_18.qasm',\n",
       " 'qft_indep_qiskit_19.qasm',\n",
       " 'qft_indep_qiskit_2.qasm',\n",
       " 'qft_indep_qiskit_20.qasm',\n",
       " 'qft_indep_qiskit_21.qasm',\n",
       " 'qft_indep_qiskit_22.qasm',\n",
       " 'qft_indep_qiskit_23.qasm',\n",
       " 'qft_indep_qiskit_24.qasm',\n",
       " 'qft_indep_qiskit_25.qasm',\n",
       " 'qft_indep_qiskit_3.qasm',\n",
       " 'qft_indep_qiskit_4.qasm',\n",
       " 'qft_indep_qiskit_5.qasm',\n",
       " 'qft_indep_qiskit_6.qasm',\n",
       " 'qft_indep_qiskit_7.qasm',\n",
       " 'qft_indep_qiskit_8.qasm',\n",
       " 'qft_indep_qiskit_9.qasm',\n",
       " 'qft_nativegates_ibm_qiskit_opt0_10.qasm',\n",
       " 'qft_nativegates_ibm_qiskit_opt0_11.qasm',\n",
       " 'qft_nativegates_ibm_qiskit_opt0_12.qasm',\n",
       " 'qft_nativegates_ibm_qiskit_opt0_13.qasm',\n",
       " 'qft_nativegates_ibm_qiskit_opt0_14.qasm',\n",
       " 'qft_nativegates_ibm_qiskit_opt0_15.qasm',\n",
       " 'qft_nativegates_ibm_qiskit_opt0_16.qasm',\n",
       " 'qft_nativegates_ibm_qiskit_opt0_17.qasm',\n",
       " 'qft_nativegates_ibm_qiskit_opt0_18.qasm',\n",
       " 'qft_nativegates_ibm_qiskit_opt0_19.qasm',\n",
       " 'qft_nativegates_ibm_qiskit_opt0_2.qasm',\n",
       " 'qft_nativegates_ibm_qiskit_opt0_20.qasm',\n",
       " 'qft_nativegates_ibm_qiskit_opt0_21.qasm',\n",
       " 'qft_nativegates_ibm_qiskit_opt0_22.qasm',\n",
       " 'qft_nativegates_ibm_qiskit_opt0_23.qasm',\n",
       " 'qft_nativegates_ibm_qiskit_opt0_24.qasm',\n",
       " 'qft_nativegates_ibm_qiskit_opt0_25.qasm',\n",
       " 'qft_nativegates_ibm_qiskit_opt0_3.qasm',\n",
       " 'qft_nativegates_ibm_qiskit_opt0_4.qasm',\n",
       " 'qft_nativegates_ibm_qiskit_opt0_5.qasm',\n",
       " 'qft_nativegates_ibm_qiskit_opt0_6.qasm',\n",
       " 'qft_nativegates_ibm_qiskit_opt0_7.qasm',\n",
       " 'qft_nativegates_ibm_qiskit_opt0_8.qasm',\n",
       " 'qft_nativegates_ibm_qiskit_opt0_9.qasm',\n",
       " 'qft_nativegates_ibm_qiskit_opt1_10.qasm',\n",
       " 'qft_nativegates_ibm_qiskit_opt1_11.qasm',\n",
       " 'qft_nativegates_ibm_qiskit_opt1_12.qasm',\n",
       " 'qft_nativegates_ibm_qiskit_opt1_13.qasm',\n",
       " 'qft_nativegates_ibm_qiskit_opt1_14.qasm',\n",
       " 'qft_nativegates_ibm_qiskit_opt1_15.qasm',\n",
       " 'qft_nativegates_ibm_qiskit_opt1_16.qasm',\n",
       " 'qft_nativegates_ibm_qiskit_opt1_17.qasm',\n",
       " 'qft_nativegates_ibm_qiskit_opt1_18.qasm',\n",
       " 'qft_nativegates_ibm_qiskit_opt1_19.qasm',\n",
       " 'qft_nativegates_ibm_qiskit_opt1_2.qasm',\n",
       " 'qft_nativegates_ibm_qiskit_opt1_20.qasm',\n",
       " 'qft_nativegates_ibm_qiskit_opt1_21.qasm',\n",
       " 'qft_nativegates_ibm_qiskit_opt1_22.qasm',\n",
       " 'qft_nativegates_ibm_qiskit_opt1_23.qasm',\n",
       " 'qft_nativegates_ibm_qiskit_opt1_24.qasm',\n",
       " 'qft_nativegates_ibm_qiskit_opt1_25.qasm',\n",
       " 'qft_nativegates_ibm_qiskit_opt1_3.qasm',\n",
       " 'qft_nativegates_ibm_qiskit_opt1_4.qasm',\n",
       " 'qft_nativegates_ibm_qiskit_opt1_5.qasm',\n",
       " 'qft_nativegates_ibm_qiskit_opt1_6.qasm',\n",
       " 'qft_nativegates_ibm_qiskit_opt1_7.qasm',\n",
       " 'qft_nativegates_ibm_qiskit_opt1_8.qasm',\n",
       " 'qft_nativegates_ibm_qiskit_opt1_9.qasm',\n",
       " 'qft_nativegates_ibm_qiskit_opt2_10.qasm',\n",
       " 'qft_nativegates_ibm_qiskit_opt2_11.qasm',\n",
       " 'qft_nativegates_ibm_qiskit_opt2_12.qasm',\n",
       " 'qft_nativegates_ibm_qiskit_opt2_13.qasm',\n",
       " 'qft_nativegates_ibm_qiskit_opt2_14.qasm',\n",
       " 'qft_nativegates_ibm_qiskit_opt2_15.qasm',\n",
       " 'qft_nativegates_ibm_qiskit_opt2_16.qasm',\n",
       " 'qft_nativegates_ibm_qiskit_opt2_17.qasm',\n",
       " 'qft_nativegates_ibm_qiskit_opt2_18.qasm',\n",
       " 'qft_nativegates_ibm_qiskit_opt2_19.qasm',\n",
       " 'qft_nativegates_ibm_qiskit_opt2_2.qasm',\n",
       " 'qft_nativegates_ibm_qiskit_opt2_20.qasm',\n",
       " 'qft_nativegates_ibm_qiskit_opt2_21.qasm',\n",
       " 'qft_nativegates_ibm_qiskit_opt2_22.qasm',\n",
       " 'qft_nativegates_ibm_qiskit_opt2_23.qasm',\n",
       " 'qft_nativegates_ibm_qiskit_opt2_24.qasm',\n",
       " 'qft_nativegates_ibm_qiskit_opt2_25.qasm',\n",
       " 'qft_nativegates_ibm_qiskit_opt2_3.qasm',\n",
       " 'qft_nativegates_ibm_qiskit_opt2_4.qasm',\n",
       " 'qft_nativegates_ibm_qiskit_opt2_5.qasm',\n",
       " 'qft_nativegates_ibm_qiskit_opt2_6.qasm',\n",
       " 'qft_nativegates_ibm_qiskit_opt2_7.qasm',\n",
       " 'qft_nativegates_ibm_qiskit_opt2_8.qasm',\n",
       " 'qft_nativegates_ibm_qiskit_opt2_9.qasm',\n",
       " 'qft_nativegates_ibm_qiskit_opt3_10.qasm',\n",
       " 'qft_nativegates_ibm_qiskit_opt3_11.qasm',\n",
       " 'qft_nativegates_ibm_qiskit_opt3_12.qasm',\n",
       " 'qft_nativegates_ibm_qiskit_opt3_13.qasm',\n",
       " 'qft_nativegates_ibm_qiskit_opt3_14.qasm',\n",
       " 'qft_nativegates_ibm_qiskit_opt3_15.qasm',\n",
       " 'qft_nativegates_ibm_qiskit_opt3_16.qasm',\n",
       " 'qft_nativegates_ibm_qiskit_opt3_17.qasm',\n",
       " 'qft_nativegates_ibm_qiskit_opt3_18.qasm',\n",
       " 'qft_nativegates_ibm_qiskit_opt3_19.qasm',\n",
       " 'qft_nativegates_ibm_qiskit_opt3_2.qasm',\n",
       " 'qft_nativegates_ibm_qiskit_opt3_20.qasm',\n",
       " 'qft_nativegates_ibm_qiskit_opt3_21.qasm',\n",
       " 'qft_nativegates_ibm_qiskit_opt3_22.qasm',\n",
       " 'qft_nativegates_ibm_qiskit_opt3_23.qasm',\n",
       " 'qft_nativegates_ibm_qiskit_opt3_24.qasm',\n",
       " 'qft_nativegates_ibm_qiskit_opt3_25.qasm',\n",
       " 'qft_nativegates_ibm_qiskit_opt3_3.qasm',\n",
       " 'qft_nativegates_ibm_qiskit_opt3_4.qasm',\n",
       " 'qft_nativegates_ibm_qiskit_opt3_5.qasm',\n",
       " 'qft_nativegates_ibm_qiskit_opt3_6.qasm',\n",
       " 'qft_nativegates_ibm_qiskit_opt3_7.qasm',\n",
       " 'qft_nativegates_ibm_qiskit_opt3_8.qasm',\n",
       " 'qft_nativegates_ibm_qiskit_opt3_9.qasm',\n",
       " 'qnn_indep_qiskit_10.qasm',\n",
       " 'qnn_indep_qiskit_11.qasm',\n",
       " 'qnn_indep_qiskit_12.qasm',\n",
       " 'qnn_indep_qiskit_13.qasm',\n",
       " 'qnn_indep_qiskit_14.qasm',\n",
       " 'qnn_indep_qiskit_15.qasm',\n",
       " 'qnn_indep_qiskit_16.qasm',\n",
       " 'qnn_indep_qiskit_17.qasm',\n",
       " 'qnn_indep_qiskit_18.qasm',\n",
       " 'qnn_indep_qiskit_19.qasm',\n",
       " 'qnn_indep_qiskit_2.qasm',\n",
       " 'qnn_indep_qiskit_20.qasm',\n",
       " 'qnn_indep_qiskit_21.qasm',\n",
       " 'qnn_indep_qiskit_22.qasm',\n",
       " 'qnn_indep_qiskit_23.qasm',\n",
       " 'qnn_indep_qiskit_24.qasm',\n",
       " 'qnn_indep_qiskit_25.qasm',\n",
       " 'qnn_indep_qiskit_3.qasm',\n",
       " 'qnn_indep_qiskit_4.qasm',\n",
       " 'qnn_indep_qiskit_5.qasm',\n",
       " 'qnn_indep_qiskit_6.qasm',\n",
       " 'qnn_indep_qiskit_7.qasm',\n",
       " 'qnn_indep_qiskit_8.qasm',\n",
       " 'qnn_indep_qiskit_9.qasm',\n",
       " 'qnn_nativegates_ibm_qiskit_opt0_10.qasm',\n",
       " 'qnn_nativegates_ibm_qiskit_opt0_11.qasm',\n",
       " 'qnn_nativegates_ibm_qiskit_opt0_12.qasm',\n",
       " 'qnn_nativegates_ibm_qiskit_opt0_13.qasm',\n",
       " 'qnn_nativegates_ibm_qiskit_opt0_14.qasm',\n",
       " 'qnn_nativegates_ibm_qiskit_opt0_15.qasm',\n",
       " 'qnn_nativegates_ibm_qiskit_opt0_16.qasm',\n",
       " 'qnn_nativegates_ibm_qiskit_opt0_17.qasm',\n",
       " 'qnn_nativegates_ibm_qiskit_opt0_18.qasm',\n",
       " 'qnn_nativegates_ibm_qiskit_opt0_19.qasm',\n",
       " 'qnn_nativegates_ibm_qiskit_opt0_2.qasm',\n",
       " 'qnn_nativegates_ibm_qiskit_opt0_20.qasm',\n",
       " 'qnn_nativegates_ibm_qiskit_opt0_21.qasm',\n",
       " 'qnn_nativegates_ibm_qiskit_opt0_22.qasm',\n",
       " 'qnn_nativegates_ibm_qiskit_opt0_23.qasm',\n",
       " 'qnn_nativegates_ibm_qiskit_opt0_24.qasm',\n",
       " 'qnn_nativegates_ibm_qiskit_opt0_25.qasm',\n",
       " 'qnn_nativegates_ibm_qiskit_opt0_3.qasm',\n",
       " 'qnn_nativegates_ibm_qiskit_opt0_4.qasm',\n",
       " 'qnn_nativegates_ibm_qiskit_opt0_5.qasm',\n",
       " 'qnn_nativegates_ibm_qiskit_opt0_6.qasm',\n",
       " 'qnn_nativegates_ibm_qiskit_opt0_7.qasm',\n",
       " 'qnn_nativegates_ibm_qiskit_opt0_8.qasm',\n",
       " 'qnn_nativegates_ibm_qiskit_opt0_9.qasm',\n",
       " 'qnn_nativegates_ibm_qiskit_opt1_10.qasm',\n",
       " 'qnn_nativegates_ibm_qiskit_opt1_11.qasm',\n",
       " 'qnn_nativegates_ibm_qiskit_opt1_12.qasm',\n",
       " 'qnn_nativegates_ibm_qiskit_opt1_13.qasm',\n",
       " 'qnn_nativegates_ibm_qiskit_opt1_14.qasm',\n",
       " 'qnn_nativegates_ibm_qiskit_opt1_15.qasm',\n",
       " 'qnn_nativegates_ibm_qiskit_opt1_16.qasm',\n",
       " 'qnn_nativegates_ibm_qiskit_opt1_17.qasm',\n",
       " 'qnn_nativegates_ibm_qiskit_opt1_18.qasm',\n",
       " 'qnn_nativegates_ibm_qiskit_opt1_19.qasm',\n",
       " 'qnn_nativegates_ibm_qiskit_opt1_2.qasm',\n",
       " 'qnn_nativegates_ibm_qiskit_opt1_20.qasm',\n",
       " 'qnn_nativegates_ibm_qiskit_opt1_21.qasm',\n",
       " 'qnn_nativegates_ibm_qiskit_opt1_22.qasm',\n",
       " 'qnn_nativegates_ibm_qiskit_opt1_23.qasm',\n",
       " 'qnn_nativegates_ibm_qiskit_opt1_24.qasm',\n",
       " 'qnn_nativegates_ibm_qiskit_opt1_25.qasm',\n",
       " 'qnn_nativegates_ibm_qiskit_opt1_3.qasm',\n",
       " 'qnn_nativegates_ibm_qiskit_opt1_4.qasm',\n",
       " 'qnn_nativegates_ibm_qiskit_opt1_5.qasm',\n",
       " 'qnn_nativegates_ibm_qiskit_opt1_6.qasm',\n",
       " 'qnn_nativegates_ibm_qiskit_opt1_7.qasm',\n",
       " 'qnn_nativegates_ibm_qiskit_opt1_8.qasm',\n",
       " 'qnn_nativegates_ibm_qiskit_opt1_9.qasm',\n",
       " 'qnn_nativegates_ibm_qiskit_opt2_10.qasm',\n",
       " 'qnn_nativegates_ibm_qiskit_opt2_11.qasm',\n",
       " 'qnn_nativegates_ibm_qiskit_opt2_12.qasm',\n",
       " 'qnn_nativegates_ibm_qiskit_opt2_13.qasm',\n",
       " 'qnn_nativegates_ibm_qiskit_opt2_14.qasm',\n",
       " 'qnn_nativegates_ibm_qiskit_opt2_15.qasm',\n",
       " 'qnn_nativegates_ibm_qiskit_opt2_16.qasm',\n",
       " 'qnn_nativegates_ibm_qiskit_opt2_17.qasm',\n",
       " 'qnn_nativegates_ibm_qiskit_opt2_18.qasm',\n",
       " 'qnn_nativegates_ibm_qiskit_opt2_19.qasm',\n",
       " 'qnn_nativegates_ibm_qiskit_opt2_2.qasm',\n",
       " 'qnn_nativegates_ibm_qiskit_opt2_20.qasm',\n",
       " 'qnn_nativegates_ibm_qiskit_opt2_21.qasm',\n",
       " 'qnn_nativegates_ibm_qiskit_opt2_22.qasm',\n",
       " 'qnn_nativegates_ibm_qiskit_opt2_23.qasm',\n",
       " 'qnn_nativegates_ibm_qiskit_opt2_24.qasm',\n",
       " 'qnn_nativegates_ibm_qiskit_opt2_25.qasm',\n",
       " 'qnn_nativegates_ibm_qiskit_opt2_3.qasm',\n",
       " 'qnn_nativegates_ibm_qiskit_opt2_4.qasm',\n",
       " 'qnn_nativegates_ibm_qiskit_opt2_5.qasm',\n",
       " 'qnn_nativegates_ibm_qiskit_opt2_6.qasm',\n",
       " 'qnn_nativegates_ibm_qiskit_opt2_7.qasm',\n",
       " 'qnn_nativegates_ibm_qiskit_opt2_8.qasm',\n",
       " 'qnn_nativegates_ibm_qiskit_opt2_9.qasm',\n",
       " 'qnn_nativegates_ibm_qiskit_opt3_10.qasm',\n",
       " 'qnn_nativegates_ibm_qiskit_opt3_11.qasm',\n",
       " 'qnn_nativegates_ibm_qiskit_opt3_12.qasm',\n",
       " 'qnn_nativegates_ibm_qiskit_opt3_13.qasm',\n",
       " 'qnn_nativegates_ibm_qiskit_opt3_14.qasm',\n",
       " 'qnn_nativegates_ibm_qiskit_opt3_15.qasm',\n",
       " 'qnn_nativegates_ibm_qiskit_opt3_16.qasm',\n",
       " 'qnn_nativegates_ibm_qiskit_opt3_17.qasm',\n",
       " 'qnn_nativegates_ibm_qiskit_opt3_18.qasm',\n",
       " 'qnn_nativegates_ibm_qiskit_opt3_19.qasm',\n",
       " 'qnn_nativegates_ibm_qiskit_opt3_2.qasm',\n",
       " 'qnn_nativegates_ibm_qiskit_opt3_20.qasm',\n",
       " 'qnn_nativegates_ibm_qiskit_opt3_21.qasm',\n",
       " 'qnn_nativegates_ibm_qiskit_opt3_22.qasm',\n",
       " ...]"
      ]
     },
     "execution_count": 2,
     "metadata": {},
     "output_type": "execute_result"
    }
   ],
   "source": [
    "import os\n",
    "path = \"C:/Users/nxc210017/OneDrive - The University of Texas at Dallas/Desktop/Usenix_data/MQTBench_2023-10-12-19-47-48/\"\n",
    "circuit_list = os.listdir(path)\n",
    "circuit_list"
   ]
  },
  {
   "cell_type": "code",
   "execution_count": 3,
   "metadata": {},
   "outputs": [],
   "source": [
    "def order_every_two_elements(list):\n",
    "  for i in range(0, len(list), 2):\n",
    "    if list[i] > list[i + 1]:\n",
    "        list[i], list[i + 1] = list[i + 1], list[i]\n",
    "  return list"
   ]
  },
  {
   "cell_type": "code",
   "execution_count": 4,
   "metadata": {},
   "outputs": [
    {
     "name": "stdout",
     "output_type": "stream",
     "text": [
      "done\n"
     ]
    },
    {
     "name": "stderr",
     "output_type": "stream",
     "text": [
      "C:\\Users\\nxc210017\\AppData\\Local\\Temp\\ipykernel_57780\\3693720606.py:164: FutureWarning: The frame.append method is deprecated and will be removed from pandas in a future version. Use pandas.concat instead.\n",
      "  df2 = df2.append(df1, ignore_index=True)\n",
      "C:\\Users\\nxc210017\\AppData\\Local\\Temp\\ipykernel_57780\\3693720606.py:314: FutureWarning: The frame.append method is deprecated and will be removed from pandas in a future version. Use pandas.concat instead.\n",
      "  df3 = df3.append(df_e, ignore_index=True)\n"
     ]
    },
    {
     "name": "stdout",
     "output_type": "stream",
     "text": [
      "done\n"
     ]
    },
    {
     "name": "stderr",
     "output_type": "stream",
     "text": [
      "C:\\Users\\nxc210017\\AppData\\Local\\Temp\\ipykernel_57780\\3693720606.py:164: FutureWarning: The frame.append method is deprecated and will be removed from pandas in a future version. Use pandas.concat instead.\n",
      "  df2 = df2.append(df1, ignore_index=True)\n",
      "C:\\Users\\nxc210017\\AppData\\Local\\Temp\\ipykernel_57780\\3693720606.py:314: FutureWarning: The frame.append method is deprecated and will be removed from pandas in a future version. Use pandas.concat instead.\n",
      "  df3 = df3.append(df_e, ignore_index=True)\n"
     ]
    },
    {
     "name": "stdout",
     "output_type": "stream",
     "text": [
      "done\n"
     ]
    },
    {
     "name": "stderr",
     "output_type": "stream",
     "text": [
      "C:\\Users\\nxc210017\\AppData\\Local\\Temp\\ipykernel_57780\\3693720606.py:164: FutureWarning: The frame.append method is deprecated and will be removed from pandas in a future version. Use pandas.concat instead.\n",
      "  df2 = df2.append(df1, ignore_index=True)\n",
      "C:\\Users\\nxc210017\\AppData\\Local\\Temp\\ipykernel_57780\\3693720606.py:314: FutureWarning: The frame.append method is deprecated and will be removed from pandas in a future version. Use pandas.concat instead.\n",
      "  df3 = df3.append(df_e, ignore_index=True)\n"
     ]
    },
    {
     "name": "stdout",
     "output_type": "stream",
     "text": [
      "done\n"
     ]
    },
    {
     "name": "stderr",
     "output_type": "stream",
     "text": [
      "C:\\Users\\nxc210017\\AppData\\Local\\Temp\\ipykernel_57780\\3693720606.py:164: FutureWarning: The frame.append method is deprecated and will be removed from pandas in a future version. Use pandas.concat instead.\n",
      "  df2 = df2.append(df1, ignore_index=True)\n",
      "C:\\Users\\nxc210017\\AppData\\Local\\Temp\\ipykernel_57780\\3693720606.py:314: FutureWarning: The frame.append method is deprecated and will be removed from pandas in a future version. Use pandas.concat instead.\n",
      "  df3 = df3.append(df_e, ignore_index=True)\n"
     ]
    },
    {
     "name": "stdout",
     "output_type": "stream",
     "text": [
      "done\n"
     ]
    },
    {
     "name": "stderr",
     "output_type": "stream",
     "text": [
      "C:\\Users\\nxc210017\\AppData\\Local\\Temp\\ipykernel_57780\\3693720606.py:164: FutureWarning: The frame.append method is deprecated and will be removed from pandas in a future version. Use pandas.concat instead.\n",
      "  df2 = df2.append(df1, ignore_index=True)\n",
      "C:\\Users\\nxc210017\\AppData\\Local\\Temp\\ipykernel_57780\\3693720606.py:314: FutureWarning: The frame.append method is deprecated and will be removed from pandas in a future version. Use pandas.concat instead.\n",
      "  df3 = df3.append(df_e, ignore_index=True)\n"
     ]
    },
    {
     "name": "stdout",
     "output_type": "stream",
     "text": [
      "done\n"
     ]
    },
    {
     "name": "stderr",
     "output_type": "stream",
     "text": [
      "C:\\Users\\nxc210017\\AppData\\Local\\Temp\\ipykernel_57780\\3693720606.py:164: FutureWarning: The frame.append method is deprecated and will be removed from pandas in a future version. Use pandas.concat instead.\n",
      "  df2 = df2.append(df1, ignore_index=True)\n",
      "C:\\Users\\nxc210017\\AppData\\Local\\Temp\\ipykernel_57780\\3693720606.py:314: FutureWarning: The frame.append method is deprecated and will be removed from pandas in a future version. Use pandas.concat instead.\n",
      "  df3 = df3.append(df_e, ignore_index=True)\n"
     ]
    },
    {
     "name": "stdout",
     "output_type": "stream",
     "text": [
      "done\n"
     ]
    },
    {
     "name": "stderr",
     "output_type": "stream",
     "text": [
      "C:\\Users\\nxc210017\\AppData\\Local\\Temp\\ipykernel_57780\\3693720606.py:164: FutureWarning: The frame.append method is deprecated and will be removed from pandas in a future version. Use pandas.concat instead.\n",
      "  df2 = df2.append(df1, ignore_index=True)\n",
      "C:\\Users\\nxc210017\\AppData\\Local\\Temp\\ipykernel_57780\\3693720606.py:314: FutureWarning: The frame.append method is deprecated and will be removed from pandas in a future version. Use pandas.concat instead.\n",
      "  df3 = df3.append(df_e, ignore_index=True)\n"
     ]
    },
    {
     "name": "stdout",
     "output_type": "stream",
     "text": [
      "done\n"
     ]
    },
    {
     "name": "stderr",
     "output_type": "stream",
     "text": [
      "C:\\Users\\nxc210017\\AppData\\Local\\Temp\\ipykernel_57780\\3693720606.py:164: FutureWarning: The frame.append method is deprecated and will be removed from pandas in a future version. Use pandas.concat instead.\n",
      "  df2 = df2.append(df1, ignore_index=True)\n",
      "C:\\Users\\nxc210017\\AppData\\Local\\Temp\\ipykernel_57780\\3693720606.py:314: FutureWarning: The frame.append method is deprecated and will be removed from pandas in a future version. Use pandas.concat instead.\n",
      "  df3 = df3.append(df_e, ignore_index=True)\n"
     ]
    },
    {
     "name": "stdout",
     "output_type": "stream",
     "text": [
      "done\n"
     ]
    },
    {
     "name": "stderr",
     "output_type": "stream",
     "text": [
      "C:\\Users\\nxc210017\\AppData\\Local\\Temp\\ipykernel_57780\\3693720606.py:164: FutureWarning: The frame.append method is deprecated and will be removed from pandas in a future version. Use pandas.concat instead.\n",
      "  df2 = df2.append(df1, ignore_index=True)\n",
      "C:\\Users\\nxc210017\\AppData\\Local\\Temp\\ipykernel_57780\\3693720606.py:314: FutureWarning: The frame.append method is deprecated and will be removed from pandas in a future version. Use pandas.concat instead.\n",
      "  df3 = df3.append(df_e, ignore_index=True)\n"
     ]
    },
    {
     "name": "stdout",
     "output_type": "stream",
     "text": [
      "done\n"
     ]
    },
    {
     "name": "stderr",
     "output_type": "stream",
     "text": [
      "C:\\Users\\nxc210017\\AppData\\Local\\Temp\\ipykernel_57780\\3693720606.py:164: FutureWarning: The frame.append method is deprecated and will be removed from pandas in a future version. Use pandas.concat instead.\n",
      "  df2 = df2.append(df1, ignore_index=True)\n",
      "C:\\Users\\nxc210017\\AppData\\Local\\Temp\\ipykernel_57780\\3693720606.py:314: FutureWarning: The frame.append method is deprecated and will be removed from pandas in a future version. Use pandas.concat instead.\n",
      "  df3 = df3.append(df_e, ignore_index=True)\n"
     ]
    },
    {
     "name": "stdout",
     "output_type": "stream",
     "text": [
      "done\n"
     ]
    },
    {
     "name": "stderr",
     "output_type": "stream",
     "text": [
      "C:\\Users\\nxc210017\\AppData\\Local\\Temp\\ipykernel_57780\\3693720606.py:164: FutureWarning: The frame.append method is deprecated and will be removed from pandas in a future version. Use pandas.concat instead.\n",
      "  df2 = df2.append(df1, ignore_index=True)\n",
      "C:\\Users\\nxc210017\\AppData\\Local\\Temp\\ipykernel_57780\\3693720606.py:314: FutureWarning: The frame.append method is deprecated and will be removed from pandas in a future version. Use pandas.concat instead.\n",
      "  df3 = df3.append(df_e, ignore_index=True)\n"
     ]
    },
    {
     "name": "stdout",
     "output_type": "stream",
     "text": [
      "done\n"
     ]
    },
    {
     "name": "stderr",
     "output_type": "stream",
     "text": [
      "C:\\Users\\nxc210017\\AppData\\Local\\Temp\\ipykernel_57780\\3693720606.py:164: FutureWarning: The frame.append method is deprecated and will be removed from pandas in a future version. Use pandas.concat instead.\n",
      "  df2 = df2.append(df1, ignore_index=True)\n",
      "C:\\Users\\nxc210017\\AppData\\Local\\Temp\\ipykernel_57780\\3693720606.py:314: FutureWarning: The frame.append method is deprecated and will be removed from pandas in a future version. Use pandas.concat instead.\n",
      "  df3 = df3.append(df_e, ignore_index=True)\n"
     ]
    },
    {
     "name": "stdout",
     "output_type": "stream",
     "text": [
      "done\n"
     ]
    },
    {
     "name": "stderr",
     "output_type": "stream",
     "text": [
      "C:\\Users\\nxc210017\\AppData\\Local\\Temp\\ipykernel_57780\\3693720606.py:164: FutureWarning: The frame.append method is deprecated and will be removed from pandas in a future version. Use pandas.concat instead.\n",
      "  df2 = df2.append(df1, ignore_index=True)\n",
      "C:\\Users\\nxc210017\\AppData\\Local\\Temp\\ipykernel_57780\\3693720606.py:314: FutureWarning: The frame.append method is deprecated and will be removed from pandas in a future version. Use pandas.concat instead.\n",
      "  df3 = df3.append(df_e, ignore_index=True)\n"
     ]
    },
    {
     "name": "stdout",
     "output_type": "stream",
     "text": [
      "done\n"
     ]
    },
    {
     "name": "stderr",
     "output_type": "stream",
     "text": [
      "C:\\Users\\nxc210017\\AppData\\Local\\Temp\\ipykernel_57780\\3693720606.py:164: FutureWarning: The frame.append method is deprecated and will be removed from pandas in a future version. Use pandas.concat instead.\n",
      "  df2 = df2.append(df1, ignore_index=True)\n",
      "C:\\Users\\nxc210017\\AppData\\Local\\Temp\\ipykernel_57780\\3693720606.py:314: FutureWarning: The frame.append method is deprecated and will be removed from pandas in a future version. Use pandas.concat instead.\n",
      "  df3 = df3.append(df_e, ignore_index=True)\n"
     ]
    },
    {
     "name": "stdout",
     "output_type": "stream",
     "text": [
      "done\n"
     ]
    },
    {
     "name": "stderr",
     "output_type": "stream",
     "text": [
      "C:\\Users\\nxc210017\\AppData\\Local\\Temp\\ipykernel_57780\\3693720606.py:164: FutureWarning: The frame.append method is deprecated and will be removed from pandas in a future version. Use pandas.concat instead.\n",
      "  df2 = df2.append(df1, ignore_index=True)\n",
      "C:\\Users\\nxc210017\\AppData\\Local\\Temp\\ipykernel_57780\\3693720606.py:314: FutureWarning: The frame.append method is deprecated and will be removed from pandas in a future version. Use pandas.concat instead.\n",
      "  df3 = df3.append(df_e, ignore_index=True)\n"
     ]
    },
    {
     "name": "stdout",
     "output_type": "stream",
     "text": [
      "done\n"
     ]
    },
    {
     "name": "stderr",
     "output_type": "stream",
     "text": [
      "C:\\Users\\nxc210017\\AppData\\Local\\Temp\\ipykernel_57780\\3693720606.py:164: FutureWarning: The frame.append method is deprecated and will be removed from pandas in a future version. Use pandas.concat instead.\n",
      "  df2 = df2.append(df1, ignore_index=True)\n",
      "C:\\Users\\nxc210017\\AppData\\Local\\Temp\\ipykernel_57780\\3693720606.py:314: FutureWarning: The frame.append method is deprecated and will be removed from pandas in a future version. Use pandas.concat instead.\n",
      "  df3 = df3.append(df_e, ignore_index=True)\n"
     ]
    },
    {
     "name": "stdout",
     "output_type": "stream",
     "text": [
      "done\n"
     ]
    },
    {
     "name": "stderr",
     "output_type": "stream",
     "text": [
      "C:\\Users\\nxc210017\\AppData\\Local\\Temp\\ipykernel_57780\\3693720606.py:164: FutureWarning: The frame.append method is deprecated and will be removed from pandas in a future version. Use pandas.concat instead.\n",
      "  df2 = df2.append(df1, ignore_index=True)\n",
      "C:\\Users\\nxc210017\\AppData\\Local\\Temp\\ipykernel_57780\\3693720606.py:314: FutureWarning: The frame.append method is deprecated and will be removed from pandas in a future version. Use pandas.concat instead.\n",
      "  df3 = df3.append(df_e, ignore_index=True)\n"
     ]
    },
    {
     "name": "stdout",
     "output_type": "stream",
     "text": [
      "done\n"
     ]
    },
    {
     "name": "stderr",
     "output_type": "stream",
     "text": [
      "C:\\Users\\nxc210017\\AppData\\Local\\Temp\\ipykernel_57780\\3693720606.py:164: FutureWarning: The frame.append method is deprecated and will be removed from pandas in a future version. Use pandas.concat instead.\n",
      "  df2 = df2.append(df1, ignore_index=True)\n",
      "C:\\Users\\nxc210017\\AppData\\Local\\Temp\\ipykernel_57780\\3693720606.py:314: FutureWarning: The frame.append method is deprecated and will be removed from pandas in a future version. Use pandas.concat instead.\n",
      "  df3 = df3.append(df_e, ignore_index=True)\n"
     ]
    },
    {
     "name": "stdout",
     "output_type": "stream",
     "text": [
      "done\n"
     ]
    },
    {
     "name": "stderr",
     "output_type": "stream",
     "text": [
      "C:\\Users\\nxc210017\\AppData\\Local\\Temp\\ipykernel_57780\\3693720606.py:164: FutureWarning: The frame.append method is deprecated and will be removed from pandas in a future version. Use pandas.concat instead.\n",
      "  df2 = df2.append(df1, ignore_index=True)\n",
      "C:\\Users\\nxc210017\\AppData\\Local\\Temp\\ipykernel_57780\\3693720606.py:314: FutureWarning: The frame.append method is deprecated and will be removed from pandas in a future version. Use pandas.concat instead.\n",
      "  df3 = df3.append(df_e, ignore_index=True)\n"
     ]
    },
    {
     "name": "stdout",
     "output_type": "stream",
     "text": [
      "done\n"
     ]
    },
    {
     "name": "stderr",
     "output_type": "stream",
     "text": [
      "C:\\Users\\nxc210017\\AppData\\Local\\Temp\\ipykernel_57780\\3693720606.py:164: FutureWarning: The frame.append method is deprecated and will be removed from pandas in a future version. Use pandas.concat instead.\n",
      "  df2 = df2.append(df1, ignore_index=True)\n",
      "C:\\Users\\nxc210017\\AppData\\Local\\Temp\\ipykernel_57780\\3693720606.py:314: FutureWarning: The frame.append method is deprecated and will be removed from pandas in a future version. Use pandas.concat instead.\n",
      "  df3 = df3.append(df_e, ignore_index=True)\n"
     ]
    },
    {
     "name": "stdout",
     "output_type": "stream",
     "text": [
      "done\n"
     ]
    },
    {
     "name": "stderr",
     "output_type": "stream",
     "text": [
      "C:\\Users\\nxc210017\\AppData\\Local\\Temp\\ipykernel_57780\\3693720606.py:164: FutureWarning: The frame.append method is deprecated and will be removed from pandas in a future version. Use pandas.concat instead.\n",
      "  df2 = df2.append(df1, ignore_index=True)\n",
      "C:\\Users\\nxc210017\\AppData\\Local\\Temp\\ipykernel_57780\\3693720606.py:314: FutureWarning: The frame.append method is deprecated and will be removed from pandas in a future version. Use pandas.concat instead.\n",
      "  df3 = df3.append(df_e, ignore_index=True)\n"
     ]
    },
    {
     "name": "stdout",
     "output_type": "stream",
     "text": [
      "done\n"
     ]
    },
    {
     "name": "stderr",
     "output_type": "stream",
     "text": [
      "C:\\Users\\nxc210017\\AppData\\Local\\Temp\\ipykernel_57780\\3693720606.py:164: FutureWarning: The frame.append method is deprecated and will be removed from pandas in a future version. Use pandas.concat instead.\n",
      "  df2 = df2.append(df1, ignore_index=True)\n",
      "C:\\Users\\nxc210017\\AppData\\Local\\Temp\\ipykernel_57780\\3693720606.py:314: FutureWarning: The frame.append method is deprecated and will be removed from pandas in a future version. Use pandas.concat instead.\n",
      "  df3 = df3.append(df_e, ignore_index=True)\n"
     ]
    },
    {
     "name": "stdout",
     "output_type": "stream",
     "text": [
      "done\n"
     ]
    },
    {
     "name": "stderr",
     "output_type": "stream",
     "text": [
      "C:\\Users\\nxc210017\\AppData\\Local\\Temp\\ipykernel_57780\\3693720606.py:164: FutureWarning: The frame.append method is deprecated and will be removed from pandas in a future version. Use pandas.concat instead.\n",
      "  df2 = df2.append(df1, ignore_index=True)\n",
      "C:\\Users\\nxc210017\\AppData\\Local\\Temp\\ipykernel_57780\\3693720606.py:314: FutureWarning: The frame.append method is deprecated and will be removed from pandas in a future version. Use pandas.concat instead.\n",
      "  df3 = df3.append(df_e, ignore_index=True)\n"
     ]
    },
    {
     "name": "stdout",
     "output_type": "stream",
     "text": [
      "done\n"
     ]
    },
    {
     "name": "stderr",
     "output_type": "stream",
     "text": [
      "C:\\Users\\nxc210017\\AppData\\Local\\Temp\\ipykernel_57780\\3693720606.py:164: FutureWarning: The frame.append method is deprecated and will be removed from pandas in a future version. Use pandas.concat instead.\n",
      "  df2 = df2.append(df1, ignore_index=True)\n",
      "C:\\Users\\nxc210017\\AppData\\Local\\Temp\\ipykernel_57780\\3693720606.py:314: FutureWarning: The frame.append method is deprecated and will be removed from pandas in a future version. Use pandas.concat instead.\n",
      "  df3 = df3.append(df_e, ignore_index=True)\n"
     ]
    },
    {
     "name": "stdout",
     "output_type": "stream",
     "text": [
      "done\n"
     ]
    },
    {
     "name": "stderr",
     "output_type": "stream",
     "text": [
      "C:\\Users\\nxc210017\\AppData\\Local\\Temp\\ipykernel_57780\\3693720606.py:164: FutureWarning: The frame.append method is deprecated and will be removed from pandas in a future version. Use pandas.concat instead.\n",
      "  df2 = df2.append(df1, ignore_index=True)\n",
      "C:\\Users\\nxc210017\\AppData\\Local\\Temp\\ipykernel_57780\\3693720606.py:314: FutureWarning: The frame.append method is deprecated and will be removed from pandas in a future version. Use pandas.concat instead.\n",
      "  df3 = df3.append(df_e, ignore_index=True)\n"
     ]
    },
    {
     "name": "stdout",
     "output_type": "stream",
     "text": [
      "done\n"
     ]
    },
    {
     "name": "stderr",
     "output_type": "stream",
     "text": [
      "C:\\Users\\nxc210017\\AppData\\Local\\Temp\\ipykernel_57780\\3693720606.py:164: FutureWarning: The frame.append method is deprecated and will be removed from pandas in a future version. Use pandas.concat instead.\n",
      "  df2 = df2.append(df1, ignore_index=True)\n",
      "C:\\Users\\nxc210017\\AppData\\Local\\Temp\\ipykernel_57780\\3693720606.py:314: FutureWarning: The frame.append method is deprecated and will be removed from pandas in a future version. Use pandas.concat instead.\n",
      "  df3 = df3.append(df_e, ignore_index=True)\n"
     ]
    },
    {
     "name": "stdout",
     "output_type": "stream",
     "text": [
      "done\n"
     ]
    },
    {
     "name": "stderr",
     "output_type": "stream",
     "text": [
      "C:\\Users\\nxc210017\\AppData\\Local\\Temp\\ipykernel_57780\\3693720606.py:164: FutureWarning: The frame.append method is deprecated and will be removed from pandas in a future version. Use pandas.concat instead.\n",
      "  df2 = df2.append(df1, ignore_index=True)\n",
      "C:\\Users\\nxc210017\\AppData\\Local\\Temp\\ipykernel_57780\\3693720606.py:314: FutureWarning: The frame.append method is deprecated and will be removed from pandas in a future version. Use pandas.concat instead.\n",
      "  df3 = df3.append(df_e, ignore_index=True)\n"
     ]
    },
    {
     "name": "stdout",
     "output_type": "stream",
     "text": [
      "done\n"
     ]
    },
    {
     "name": "stderr",
     "output_type": "stream",
     "text": [
      "C:\\Users\\nxc210017\\AppData\\Local\\Temp\\ipykernel_57780\\3693720606.py:164: FutureWarning: The frame.append method is deprecated and will be removed from pandas in a future version. Use pandas.concat instead.\n",
      "  df2 = df2.append(df1, ignore_index=True)\n",
      "C:\\Users\\nxc210017\\AppData\\Local\\Temp\\ipykernel_57780\\3693720606.py:314: FutureWarning: The frame.append method is deprecated and will be removed from pandas in a future version. Use pandas.concat instead.\n",
      "  df3 = df3.append(df_e, ignore_index=True)\n"
     ]
    },
    {
     "name": "stdout",
     "output_type": "stream",
     "text": [
      "done\n"
     ]
    },
    {
     "name": "stderr",
     "output_type": "stream",
     "text": [
      "C:\\Users\\nxc210017\\AppData\\Local\\Temp\\ipykernel_57780\\3693720606.py:164: FutureWarning: The frame.append method is deprecated and will be removed from pandas in a future version. Use pandas.concat instead.\n",
      "  df2 = df2.append(df1, ignore_index=True)\n",
      "C:\\Users\\nxc210017\\AppData\\Local\\Temp\\ipykernel_57780\\3693720606.py:314: FutureWarning: The frame.append method is deprecated and will be removed from pandas in a future version. Use pandas.concat instead.\n",
      "  df3 = df3.append(df_e, ignore_index=True)\n"
     ]
    },
    {
     "name": "stdout",
     "output_type": "stream",
     "text": [
      "done\n"
     ]
    },
    {
     "name": "stderr",
     "output_type": "stream",
     "text": [
      "C:\\Users\\nxc210017\\AppData\\Local\\Temp\\ipykernel_57780\\3693720606.py:164: FutureWarning: The frame.append method is deprecated and will be removed from pandas in a future version. Use pandas.concat instead.\n",
      "  df2 = df2.append(df1, ignore_index=True)\n",
      "C:\\Users\\nxc210017\\AppData\\Local\\Temp\\ipykernel_57780\\3693720606.py:314: FutureWarning: The frame.append method is deprecated and will be removed from pandas in a future version. Use pandas.concat instead.\n",
      "  df3 = df3.append(df_e, ignore_index=True)\n"
     ]
    },
    {
     "name": "stdout",
     "output_type": "stream",
     "text": [
      "done\n"
     ]
    },
    {
     "name": "stderr",
     "output_type": "stream",
     "text": [
      "C:\\Users\\nxc210017\\AppData\\Local\\Temp\\ipykernel_57780\\3693720606.py:164: FutureWarning: The frame.append method is deprecated and will be removed from pandas in a future version. Use pandas.concat instead.\n",
      "  df2 = df2.append(df1, ignore_index=True)\n",
      "C:\\Users\\nxc210017\\AppData\\Local\\Temp\\ipykernel_57780\\3693720606.py:314: FutureWarning: The frame.append method is deprecated and will be removed from pandas in a future version. Use pandas.concat instead.\n",
      "  df3 = df3.append(df_e, ignore_index=True)\n"
     ]
    },
    {
     "name": "stdout",
     "output_type": "stream",
     "text": [
      "done\n"
     ]
    },
    {
     "name": "stderr",
     "output_type": "stream",
     "text": [
      "C:\\Users\\nxc210017\\AppData\\Local\\Temp\\ipykernel_57780\\3693720606.py:164: FutureWarning: The frame.append method is deprecated and will be removed from pandas in a future version. Use pandas.concat instead.\n",
      "  df2 = df2.append(df1, ignore_index=True)\n",
      "C:\\Users\\nxc210017\\AppData\\Local\\Temp\\ipykernel_57780\\3693720606.py:314: FutureWarning: The frame.append method is deprecated and will be removed from pandas in a future version. Use pandas.concat instead.\n",
      "  df3 = df3.append(df_e, ignore_index=True)\n"
     ]
    },
    {
     "name": "stdout",
     "output_type": "stream",
     "text": [
      "done\n"
     ]
    },
    {
     "name": "stderr",
     "output_type": "stream",
     "text": [
      "C:\\Users\\nxc210017\\AppData\\Local\\Temp\\ipykernel_57780\\3693720606.py:164: FutureWarning: The frame.append method is deprecated and will be removed from pandas in a future version. Use pandas.concat instead.\n",
      "  df2 = df2.append(df1, ignore_index=True)\n",
      "C:\\Users\\nxc210017\\AppData\\Local\\Temp\\ipykernel_57780\\3693720606.py:314: FutureWarning: The frame.append method is deprecated and will be removed from pandas in a future version. Use pandas.concat instead.\n",
      "  df3 = df3.append(df_e, ignore_index=True)\n"
     ]
    },
    {
     "name": "stdout",
     "output_type": "stream",
     "text": [
      "done\n"
     ]
    },
    {
     "name": "stderr",
     "output_type": "stream",
     "text": [
      "C:\\Users\\nxc210017\\AppData\\Local\\Temp\\ipykernel_57780\\3693720606.py:164: FutureWarning: The frame.append method is deprecated and will be removed from pandas in a future version. Use pandas.concat instead.\n",
      "  df2 = df2.append(df1, ignore_index=True)\n",
      "C:\\Users\\nxc210017\\AppData\\Local\\Temp\\ipykernel_57780\\3693720606.py:314: FutureWarning: The frame.append method is deprecated and will be removed from pandas in a future version. Use pandas.concat instead.\n",
      "  df3 = df3.append(df_e, ignore_index=True)\n"
     ]
    },
    {
     "name": "stdout",
     "output_type": "stream",
     "text": [
      "done\n"
     ]
    },
    {
     "name": "stderr",
     "output_type": "stream",
     "text": [
      "C:\\Users\\nxc210017\\AppData\\Local\\Temp\\ipykernel_57780\\3693720606.py:164: FutureWarning: The frame.append method is deprecated and will be removed from pandas in a future version. Use pandas.concat instead.\n",
      "  df2 = df2.append(df1, ignore_index=True)\n",
      "C:\\Users\\nxc210017\\AppData\\Local\\Temp\\ipykernel_57780\\3693720606.py:314: FutureWarning: The frame.append method is deprecated and will be removed from pandas in a future version. Use pandas.concat instead.\n",
      "  df3 = df3.append(df_e, ignore_index=True)\n"
     ]
    },
    {
     "name": "stdout",
     "output_type": "stream",
     "text": [
      "done\n"
     ]
    },
    {
     "name": "stderr",
     "output_type": "stream",
     "text": [
      "C:\\Users\\nxc210017\\AppData\\Local\\Temp\\ipykernel_57780\\3693720606.py:164: FutureWarning: The frame.append method is deprecated and will be removed from pandas in a future version. Use pandas.concat instead.\n",
      "  df2 = df2.append(df1, ignore_index=True)\n",
      "C:\\Users\\nxc210017\\AppData\\Local\\Temp\\ipykernel_57780\\3693720606.py:314: FutureWarning: The frame.append method is deprecated and will be removed from pandas in a future version. Use pandas.concat instead.\n",
      "  df3 = df3.append(df_e, ignore_index=True)\n"
     ]
    },
    {
     "name": "stdout",
     "output_type": "stream",
     "text": [
      "done\n"
     ]
    },
    {
     "name": "stderr",
     "output_type": "stream",
     "text": [
      "C:\\Users\\nxc210017\\AppData\\Local\\Temp\\ipykernel_57780\\3693720606.py:164: FutureWarning: The frame.append method is deprecated and will be removed from pandas in a future version. Use pandas.concat instead.\n",
      "  df2 = df2.append(df1, ignore_index=True)\n",
      "C:\\Users\\nxc210017\\AppData\\Local\\Temp\\ipykernel_57780\\3693720606.py:314: FutureWarning: The frame.append method is deprecated and will be removed from pandas in a future version. Use pandas.concat instead.\n",
      "  df3 = df3.append(df_e, ignore_index=True)\n"
     ]
    },
    {
     "name": "stdout",
     "output_type": "stream",
     "text": [
      "done\n"
     ]
    },
    {
     "name": "stderr",
     "output_type": "stream",
     "text": [
      "C:\\Users\\nxc210017\\AppData\\Local\\Temp\\ipykernel_57780\\3693720606.py:164: FutureWarning: The frame.append method is deprecated and will be removed from pandas in a future version. Use pandas.concat instead.\n",
      "  df2 = df2.append(df1, ignore_index=True)\n",
      "C:\\Users\\nxc210017\\AppData\\Local\\Temp\\ipykernel_57780\\3693720606.py:314: FutureWarning: The frame.append method is deprecated and will be removed from pandas in a future version. Use pandas.concat instead.\n",
      "  df3 = df3.append(df_e, ignore_index=True)\n"
     ]
    },
    {
     "name": "stdout",
     "output_type": "stream",
     "text": [
      "done\n"
     ]
    },
    {
     "name": "stderr",
     "output_type": "stream",
     "text": [
      "C:\\Users\\nxc210017\\AppData\\Local\\Temp\\ipykernel_57780\\3693720606.py:164: FutureWarning: The frame.append method is deprecated and will be removed from pandas in a future version. Use pandas.concat instead.\n",
      "  df2 = df2.append(df1, ignore_index=True)\n",
      "C:\\Users\\nxc210017\\AppData\\Local\\Temp\\ipykernel_57780\\3693720606.py:314: FutureWarning: The frame.append method is deprecated and will be removed from pandas in a future version. Use pandas.concat instead.\n",
      "  df3 = df3.append(df_e, ignore_index=True)\n"
     ]
    },
    {
     "name": "stdout",
     "output_type": "stream",
     "text": [
      "done\n"
     ]
    },
    {
     "name": "stderr",
     "output_type": "stream",
     "text": [
      "C:\\Users\\nxc210017\\AppData\\Local\\Temp\\ipykernel_57780\\3693720606.py:164: FutureWarning: The frame.append method is deprecated and will be removed from pandas in a future version. Use pandas.concat instead.\n",
      "  df2 = df2.append(df1, ignore_index=True)\n",
      "C:\\Users\\nxc210017\\AppData\\Local\\Temp\\ipykernel_57780\\3693720606.py:314: FutureWarning: The frame.append method is deprecated and will be removed from pandas in a future version. Use pandas.concat instead.\n",
      "  df3 = df3.append(df_e, ignore_index=True)\n"
     ]
    },
    {
     "name": "stdout",
     "output_type": "stream",
     "text": [
      "done\n"
     ]
    },
    {
     "name": "stderr",
     "output_type": "stream",
     "text": [
      "C:\\Users\\nxc210017\\AppData\\Local\\Temp\\ipykernel_57780\\3693720606.py:164: FutureWarning: The frame.append method is deprecated and will be removed from pandas in a future version. Use pandas.concat instead.\n",
      "  df2 = df2.append(df1, ignore_index=True)\n",
      "C:\\Users\\nxc210017\\AppData\\Local\\Temp\\ipykernel_57780\\3693720606.py:314: FutureWarning: The frame.append method is deprecated and will be removed from pandas in a future version. Use pandas.concat instead.\n",
      "  df3 = df3.append(df_e, ignore_index=True)\n"
     ]
    },
    {
     "name": "stdout",
     "output_type": "stream",
     "text": [
      "done\n"
     ]
    },
    {
     "name": "stderr",
     "output_type": "stream",
     "text": [
      "C:\\Users\\nxc210017\\AppData\\Local\\Temp\\ipykernel_57780\\3693720606.py:164: FutureWarning: The frame.append method is deprecated and will be removed from pandas in a future version. Use pandas.concat instead.\n",
      "  df2 = df2.append(df1, ignore_index=True)\n",
      "C:\\Users\\nxc210017\\AppData\\Local\\Temp\\ipykernel_57780\\3693720606.py:314: FutureWarning: The frame.append method is deprecated and will be removed from pandas in a future version. Use pandas.concat instead.\n",
      "  df3 = df3.append(df_e, ignore_index=True)\n"
     ]
    },
    {
     "name": "stdout",
     "output_type": "stream",
     "text": [
      "done\n"
     ]
    },
    {
     "name": "stderr",
     "output_type": "stream",
     "text": [
      "C:\\Users\\nxc210017\\AppData\\Local\\Temp\\ipykernel_57780\\3693720606.py:164: FutureWarning: The frame.append method is deprecated and will be removed from pandas in a future version. Use pandas.concat instead.\n",
      "  df2 = df2.append(df1, ignore_index=True)\n",
      "C:\\Users\\nxc210017\\AppData\\Local\\Temp\\ipykernel_57780\\3693720606.py:314: FutureWarning: The frame.append method is deprecated and will be removed from pandas in a future version. Use pandas.concat instead.\n",
      "  df3 = df3.append(df_e, ignore_index=True)\n"
     ]
    },
    {
     "name": "stdout",
     "output_type": "stream",
     "text": [
      "done\n"
     ]
    },
    {
     "name": "stderr",
     "output_type": "stream",
     "text": [
      "C:\\Users\\nxc210017\\AppData\\Local\\Temp\\ipykernel_57780\\3693720606.py:164: FutureWarning: The frame.append method is deprecated and will be removed from pandas in a future version. Use pandas.concat instead.\n",
      "  df2 = df2.append(df1, ignore_index=True)\n",
      "C:\\Users\\nxc210017\\AppData\\Local\\Temp\\ipykernel_57780\\3693720606.py:314: FutureWarning: The frame.append method is deprecated and will be removed from pandas in a future version. Use pandas.concat instead.\n",
      "  df3 = df3.append(df_e, ignore_index=True)\n"
     ]
    },
    {
     "name": "stdout",
     "output_type": "stream",
     "text": [
      "done\n"
     ]
    },
    {
     "name": "stderr",
     "output_type": "stream",
     "text": [
      "C:\\Users\\nxc210017\\AppData\\Local\\Temp\\ipykernel_57780\\3693720606.py:164: FutureWarning: The frame.append method is deprecated and will be removed from pandas in a future version. Use pandas.concat instead.\n",
      "  df2 = df2.append(df1, ignore_index=True)\n",
      "C:\\Users\\nxc210017\\AppData\\Local\\Temp\\ipykernel_57780\\3693720606.py:314: FutureWarning: The frame.append method is deprecated and will be removed from pandas in a future version. Use pandas.concat instead.\n",
      "  df3 = df3.append(df_e, ignore_index=True)\n"
     ]
    },
    {
     "name": "stdout",
     "output_type": "stream",
     "text": [
      "done\n"
     ]
    },
    {
     "name": "stderr",
     "output_type": "stream",
     "text": [
      "C:\\Users\\nxc210017\\AppData\\Local\\Temp\\ipykernel_57780\\3693720606.py:164: FutureWarning: The frame.append method is deprecated and will be removed from pandas in a future version. Use pandas.concat instead.\n",
      "  df2 = df2.append(df1, ignore_index=True)\n",
      "C:\\Users\\nxc210017\\AppData\\Local\\Temp\\ipykernel_57780\\3693720606.py:314: FutureWarning: The frame.append method is deprecated and will be removed from pandas in a future version. Use pandas.concat instead.\n",
      "  df3 = df3.append(df_e, ignore_index=True)\n"
     ]
    },
    {
     "name": "stdout",
     "output_type": "stream",
     "text": [
      "done\n"
     ]
    },
    {
     "name": "stderr",
     "output_type": "stream",
     "text": [
      "C:\\Users\\nxc210017\\AppData\\Local\\Temp\\ipykernel_57780\\3693720606.py:164: FutureWarning: The frame.append method is deprecated and will be removed from pandas in a future version. Use pandas.concat instead.\n",
      "  df2 = df2.append(df1, ignore_index=True)\n",
      "C:\\Users\\nxc210017\\AppData\\Local\\Temp\\ipykernel_57780\\3693720606.py:314: FutureWarning: The frame.append method is deprecated and will be removed from pandas in a future version. Use pandas.concat instead.\n",
      "  df3 = df3.append(df_e, ignore_index=True)\n"
     ]
    },
    {
     "name": "stdout",
     "output_type": "stream",
     "text": [
      "done\n"
     ]
    },
    {
     "name": "stderr",
     "output_type": "stream",
     "text": [
      "C:\\Users\\nxc210017\\AppData\\Local\\Temp\\ipykernel_57780\\3693720606.py:164: FutureWarning: The frame.append method is deprecated and will be removed from pandas in a future version. Use pandas.concat instead.\n",
      "  df2 = df2.append(df1, ignore_index=True)\n",
      "C:\\Users\\nxc210017\\AppData\\Local\\Temp\\ipykernel_57780\\3693720606.py:314: FutureWarning: The frame.append method is deprecated and will be removed from pandas in a future version. Use pandas.concat instead.\n",
      "  df3 = df3.append(df_e, ignore_index=True)\n"
     ]
    },
    {
     "name": "stdout",
     "output_type": "stream",
     "text": [
      "done\n"
     ]
    },
    {
     "name": "stderr",
     "output_type": "stream",
     "text": [
      "C:\\Users\\nxc210017\\AppData\\Local\\Temp\\ipykernel_57780\\3693720606.py:164: FutureWarning: The frame.append method is deprecated and will be removed from pandas in a future version. Use pandas.concat instead.\n",
      "  df2 = df2.append(df1, ignore_index=True)\n",
      "C:\\Users\\nxc210017\\AppData\\Local\\Temp\\ipykernel_57780\\3693720606.py:314: FutureWarning: The frame.append method is deprecated and will be removed from pandas in a future version. Use pandas.concat instead.\n",
      "  df3 = df3.append(df_e, ignore_index=True)\n"
     ]
    },
    {
     "name": "stdout",
     "output_type": "stream",
     "text": [
      "done\n"
     ]
    },
    {
     "name": "stderr",
     "output_type": "stream",
     "text": [
      "C:\\Users\\nxc210017\\AppData\\Local\\Temp\\ipykernel_57780\\3693720606.py:164: FutureWarning: The frame.append method is deprecated and will be removed from pandas in a future version. Use pandas.concat instead.\n",
      "  df2 = df2.append(df1, ignore_index=True)\n",
      "C:\\Users\\nxc210017\\AppData\\Local\\Temp\\ipykernel_57780\\3693720606.py:314: FutureWarning: The frame.append method is deprecated and will be removed from pandas in a future version. Use pandas.concat instead.\n",
      "  df3 = df3.append(df_e, ignore_index=True)\n"
     ]
    },
    {
     "name": "stdout",
     "output_type": "stream",
     "text": [
      "done\n"
     ]
    },
    {
     "name": "stderr",
     "output_type": "stream",
     "text": [
      "C:\\Users\\nxc210017\\AppData\\Local\\Temp\\ipykernel_57780\\3693720606.py:164: FutureWarning: The frame.append method is deprecated and will be removed from pandas in a future version. Use pandas.concat instead.\n",
      "  df2 = df2.append(df1, ignore_index=True)\n",
      "C:\\Users\\nxc210017\\AppData\\Local\\Temp\\ipykernel_57780\\3693720606.py:314: FutureWarning: The frame.append method is deprecated and will be removed from pandas in a future version. Use pandas.concat instead.\n",
      "  df3 = df3.append(df_e, ignore_index=True)\n"
     ]
    },
    {
     "name": "stdout",
     "output_type": "stream",
     "text": [
      "done\n"
     ]
    },
    {
     "name": "stderr",
     "output_type": "stream",
     "text": [
      "C:\\Users\\nxc210017\\AppData\\Local\\Temp\\ipykernel_57780\\3693720606.py:164: FutureWarning: The frame.append method is deprecated and will be removed from pandas in a future version. Use pandas.concat instead.\n",
      "  df2 = df2.append(df1, ignore_index=True)\n",
      "C:\\Users\\nxc210017\\AppData\\Local\\Temp\\ipykernel_57780\\3693720606.py:314: FutureWarning: The frame.append method is deprecated and will be removed from pandas in a future version. Use pandas.concat instead.\n",
      "  df3 = df3.append(df_e, ignore_index=True)\n"
     ]
    },
    {
     "name": "stdout",
     "output_type": "stream",
     "text": [
      "done\n"
     ]
    },
    {
     "name": "stderr",
     "output_type": "stream",
     "text": [
      "C:\\Users\\nxc210017\\AppData\\Local\\Temp\\ipykernel_57780\\3693720606.py:164: FutureWarning: The frame.append method is deprecated and will be removed from pandas in a future version. Use pandas.concat instead.\n",
      "  df2 = df2.append(df1, ignore_index=True)\n",
      "C:\\Users\\nxc210017\\AppData\\Local\\Temp\\ipykernel_57780\\3693720606.py:314: FutureWarning: The frame.append method is deprecated and will be removed from pandas in a future version. Use pandas.concat instead.\n",
      "  df3 = df3.append(df_e, ignore_index=True)\n"
     ]
    },
    {
     "name": "stdout",
     "output_type": "stream",
     "text": [
      "done\n"
     ]
    },
    {
     "name": "stderr",
     "output_type": "stream",
     "text": [
      "C:\\Users\\nxc210017\\AppData\\Local\\Temp\\ipykernel_57780\\3693720606.py:164: FutureWarning: The frame.append method is deprecated and will be removed from pandas in a future version. Use pandas.concat instead.\n",
      "  df2 = df2.append(df1, ignore_index=True)\n",
      "C:\\Users\\nxc210017\\AppData\\Local\\Temp\\ipykernel_57780\\3693720606.py:314: FutureWarning: The frame.append method is deprecated and will be removed from pandas in a future version. Use pandas.concat instead.\n",
      "  df3 = df3.append(df_e, ignore_index=True)\n"
     ]
    },
    {
     "name": "stdout",
     "output_type": "stream",
     "text": [
      "done\n"
     ]
    },
    {
     "name": "stderr",
     "output_type": "stream",
     "text": [
      "C:\\Users\\nxc210017\\AppData\\Local\\Temp\\ipykernel_57780\\3693720606.py:164: FutureWarning: The frame.append method is deprecated and will be removed from pandas in a future version. Use pandas.concat instead.\n",
      "  df2 = df2.append(df1, ignore_index=True)\n",
      "C:\\Users\\nxc210017\\AppData\\Local\\Temp\\ipykernel_57780\\3693720606.py:314: FutureWarning: The frame.append method is deprecated and will be removed from pandas in a future version. Use pandas.concat instead.\n",
      "  df3 = df3.append(df_e, ignore_index=True)\n"
     ]
    },
    {
     "name": "stdout",
     "output_type": "stream",
     "text": [
      "done\n"
     ]
    },
    {
     "name": "stderr",
     "output_type": "stream",
     "text": [
      "C:\\Users\\nxc210017\\AppData\\Local\\Temp\\ipykernel_57780\\3693720606.py:164: FutureWarning: The frame.append method is deprecated and will be removed from pandas in a future version. Use pandas.concat instead.\n",
      "  df2 = df2.append(df1, ignore_index=True)\n",
      "C:\\Users\\nxc210017\\AppData\\Local\\Temp\\ipykernel_57780\\3693720606.py:314: FutureWarning: The frame.append method is deprecated and will be removed from pandas in a future version. Use pandas.concat instead.\n",
      "  df3 = df3.append(df_e, ignore_index=True)\n"
     ]
    },
    {
     "name": "stdout",
     "output_type": "stream",
     "text": [
      "done\n"
     ]
    },
    {
     "name": "stderr",
     "output_type": "stream",
     "text": [
      "C:\\Users\\nxc210017\\AppData\\Local\\Temp\\ipykernel_57780\\3693720606.py:164: FutureWarning: The frame.append method is deprecated and will be removed from pandas in a future version. Use pandas.concat instead.\n",
      "  df2 = df2.append(df1, ignore_index=True)\n",
      "C:\\Users\\nxc210017\\AppData\\Local\\Temp\\ipykernel_57780\\3693720606.py:314: FutureWarning: The frame.append method is deprecated and will be removed from pandas in a future version. Use pandas.concat instead.\n",
      "  df3 = df3.append(df_e, ignore_index=True)\n"
     ]
    },
    {
     "name": "stdout",
     "output_type": "stream",
     "text": [
      "done\n"
     ]
    },
    {
     "name": "stderr",
     "output_type": "stream",
     "text": [
      "C:\\Users\\nxc210017\\AppData\\Local\\Temp\\ipykernel_57780\\3693720606.py:164: FutureWarning: The frame.append method is deprecated and will be removed from pandas in a future version. Use pandas.concat instead.\n",
      "  df2 = df2.append(df1, ignore_index=True)\n",
      "C:\\Users\\nxc210017\\AppData\\Local\\Temp\\ipykernel_57780\\3693720606.py:314: FutureWarning: The frame.append method is deprecated and will be removed from pandas in a future version. Use pandas.concat instead.\n",
      "  df3 = df3.append(df_e, ignore_index=True)\n"
     ]
    },
    {
     "name": "stdout",
     "output_type": "stream",
     "text": [
      "done\n"
     ]
    },
    {
     "name": "stderr",
     "output_type": "stream",
     "text": [
      "C:\\Users\\nxc210017\\AppData\\Local\\Temp\\ipykernel_57780\\3693720606.py:164: FutureWarning: The frame.append method is deprecated and will be removed from pandas in a future version. Use pandas.concat instead.\n",
      "  df2 = df2.append(df1, ignore_index=True)\n",
      "C:\\Users\\nxc210017\\AppData\\Local\\Temp\\ipykernel_57780\\3693720606.py:314: FutureWarning: The frame.append method is deprecated and will be removed from pandas in a future version. Use pandas.concat instead.\n",
      "  df3 = df3.append(df_e, ignore_index=True)\n"
     ]
    },
    {
     "name": "stdout",
     "output_type": "stream",
     "text": [
      "done\n"
     ]
    },
    {
     "name": "stderr",
     "output_type": "stream",
     "text": [
      "C:\\Users\\nxc210017\\AppData\\Local\\Temp\\ipykernel_57780\\3693720606.py:164: FutureWarning: The frame.append method is deprecated and will be removed from pandas in a future version. Use pandas.concat instead.\n",
      "  df2 = df2.append(df1, ignore_index=True)\n",
      "C:\\Users\\nxc210017\\AppData\\Local\\Temp\\ipykernel_57780\\3693720606.py:314: FutureWarning: The frame.append method is deprecated and will be removed from pandas in a future version. Use pandas.concat instead.\n",
      "  df3 = df3.append(df_e, ignore_index=True)\n"
     ]
    },
    {
     "name": "stdout",
     "output_type": "stream",
     "text": [
      "done\n"
     ]
    },
    {
     "name": "stderr",
     "output_type": "stream",
     "text": [
      "C:\\Users\\nxc210017\\AppData\\Local\\Temp\\ipykernel_57780\\3693720606.py:164: FutureWarning: The frame.append method is deprecated and will be removed from pandas in a future version. Use pandas.concat instead.\n",
      "  df2 = df2.append(df1, ignore_index=True)\n",
      "C:\\Users\\nxc210017\\AppData\\Local\\Temp\\ipykernel_57780\\3693720606.py:314: FutureWarning: The frame.append method is deprecated and will be removed from pandas in a future version. Use pandas.concat instead.\n",
      "  df3 = df3.append(df_e, ignore_index=True)\n"
     ]
    },
    {
     "name": "stdout",
     "output_type": "stream",
     "text": [
      "done\n"
     ]
    },
    {
     "name": "stderr",
     "output_type": "stream",
     "text": [
      "C:\\Users\\nxc210017\\AppData\\Local\\Temp\\ipykernel_57780\\3693720606.py:164: FutureWarning: The frame.append method is deprecated and will be removed from pandas in a future version. Use pandas.concat instead.\n",
      "  df2 = df2.append(df1, ignore_index=True)\n",
      "C:\\Users\\nxc210017\\AppData\\Local\\Temp\\ipykernel_57780\\3693720606.py:314: FutureWarning: The frame.append method is deprecated and will be removed from pandas in a future version. Use pandas.concat instead.\n",
      "  df3 = df3.append(df_e, ignore_index=True)\n"
     ]
    },
    {
     "name": "stdout",
     "output_type": "stream",
     "text": [
      "done\n"
     ]
    },
    {
     "name": "stderr",
     "output_type": "stream",
     "text": [
      "C:\\Users\\nxc210017\\AppData\\Local\\Temp\\ipykernel_57780\\3693720606.py:164: FutureWarning: The frame.append method is deprecated and will be removed from pandas in a future version. Use pandas.concat instead.\n",
      "  df2 = df2.append(df1, ignore_index=True)\n",
      "C:\\Users\\nxc210017\\AppData\\Local\\Temp\\ipykernel_57780\\3693720606.py:314: FutureWarning: The frame.append method is deprecated and will be removed from pandas in a future version. Use pandas.concat instead.\n",
      "  df3 = df3.append(df_e, ignore_index=True)\n"
     ]
    },
    {
     "name": "stdout",
     "output_type": "stream",
     "text": [
      "done\n"
     ]
    },
    {
     "name": "stderr",
     "output_type": "stream",
     "text": [
      "C:\\Users\\nxc210017\\AppData\\Local\\Temp\\ipykernel_57780\\3693720606.py:164: FutureWarning: The frame.append method is deprecated and will be removed from pandas in a future version. Use pandas.concat instead.\n",
      "  df2 = df2.append(df1, ignore_index=True)\n",
      "C:\\Users\\nxc210017\\AppData\\Local\\Temp\\ipykernel_57780\\3693720606.py:314: FutureWarning: The frame.append method is deprecated and will be removed from pandas in a future version. Use pandas.concat instead.\n",
      "  df3 = df3.append(df_e, ignore_index=True)\n"
     ]
    },
    {
     "name": "stdout",
     "output_type": "stream",
     "text": [
      "done\n"
     ]
    },
    {
     "name": "stderr",
     "output_type": "stream",
     "text": [
      "C:\\Users\\nxc210017\\AppData\\Local\\Temp\\ipykernel_57780\\3693720606.py:164: FutureWarning: The frame.append method is deprecated and will be removed from pandas in a future version. Use pandas.concat instead.\n",
      "  df2 = df2.append(df1, ignore_index=True)\n",
      "C:\\Users\\nxc210017\\AppData\\Local\\Temp\\ipykernel_57780\\3693720606.py:314: FutureWarning: The frame.append method is deprecated and will be removed from pandas in a future version. Use pandas.concat instead.\n",
      "  df3 = df3.append(df_e, ignore_index=True)\n"
     ]
    },
    {
     "name": "stdout",
     "output_type": "stream",
     "text": [
      "done\n"
     ]
    },
    {
     "name": "stderr",
     "output_type": "stream",
     "text": [
      "C:\\Users\\nxc210017\\AppData\\Local\\Temp\\ipykernel_57780\\3693720606.py:164: FutureWarning: The frame.append method is deprecated and will be removed from pandas in a future version. Use pandas.concat instead.\n",
      "  df2 = df2.append(df1, ignore_index=True)\n",
      "C:\\Users\\nxc210017\\AppData\\Local\\Temp\\ipykernel_57780\\3693720606.py:314: FutureWarning: The frame.append method is deprecated and will be removed from pandas in a future version. Use pandas.concat instead.\n",
      "  df3 = df3.append(df_e, ignore_index=True)\n"
     ]
    },
    {
     "name": "stdout",
     "output_type": "stream",
     "text": [
      "done\n"
     ]
    },
    {
     "name": "stderr",
     "output_type": "stream",
     "text": [
      "C:\\Users\\nxc210017\\AppData\\Local\\Temp\\ipykernel_57780\\3693720606.py:164: FutureWarning: The frame.append method is deprecated and will be removed from pandas in a future version. Use pandas.concat instead.\n",
      "  df2 = df2.append(df1, ignore_index=True)\n",
      "C:\\Users\\nxc210017\\AppData\\Local\\Temp\\ipykernel_57780\\3693720606.py:314: FutureWarning: The frame.append method is deprecated and will be removed from pandas in a future version. Use pandas.concat instead.\n",
      "  df3 = df3.append(df_e, ignore_index=True)\n"
     ]
    },
    {
     "name": "stdout",
     "output_type": "stream",
     "text": [
      "done\n"
     ]
    },
    {
     "name": "stderr",
     "output_type": "stream",
     "text": [
      "C:\\Users\\nxc210017\\AppData\\Local\\Temp\\ipykernel_57780\\3693720606.py:164: FutureWarning: The frame.append method is deprecated and will be removed from pandas in a future version. Use pandas.concat instead.\n",
      "  df2 = df2.append(df1, ignore_index=True)\n",
      "C:\\Users\\nxc210017\\AppData\\Local\\Temp\\ipykernel_57780\\3693720606.py:314: FutureWarning: The frame.append method is deprecated and will be removed from pandas in a future version. Use pandas.concat instead.\n",
      "  df3 = df3.append(df_e, ignore_index=True)\n"
     ]
    },
    {
     "name": "stdout",
     "output_type": "stream",
     "text": [
      "done\n"
     ]
    },
    {
     "name": "stderr",
     "output_type": "stream",
     "text": [
      "C:\\Users\\nxc210017\\AppData\\Local\\Temp\\ipykernel_57780\\3693720606.py:164: FutureWarning: The frame.append method is deprecated and will be removed from pandas in a future version. Use pandas.concat instead.\n",
      "  df2 = df2.append(df1, ignore_index=True)\n",
      "C:\\Users\\nxc210017\\AppData\\Local\\Temp\\ipykernel_57780\\3693720606.py:314: FutureWarning: The frame.append method is deprecated and will be removed from pandas in a future version. Use pandas.concat instead.\n",
      "  df3 = df3.append(df_e, ignore_index=True)\n"
     ]
    },
    {
     "name": "stdout",
     "output_type": "stream",
     "text": [
      "done\n"
     ]
    },
    {
     "name": "stderr",
     "output_type": "stream",
     "text": [
      "C:\\Users\\nxc210017\\AppData\\Local\\Temp\\ipykernel_57780\\3693720606.py:164: FutureWarning: The frame.append method is deprecated and will be removed from pandas in a future version. Use pandas.concat instead.\n",
      "  df2 = df2.append(df1, ignore_index=True)\n",
      "C:\\Users\\nxc210017\\AppData\\Local\\Temp\\ipykernel_57780\\3693720606.py:314: FutureWarning: The frame.append method is deprecated and will be removed from pandas in a future version. Use pandas.concat instead.\n",
      "  df3 = df3.append(df_e, ignore_index=True)\n"
     ]
    },
    {
     "name": "stdout",
     "output_type": "stream",
     "text": [
      "done\n"
     ]
    },
    {
     "name": "stderr",
     "output_type": "stream",
     "text": [
      "C:\\Users\\nxc210017\\AppData\\Local\\Temp\\ipykernel_57780\\3693720606.py:164: FutureWarning: The frame.append method is deprecated and will be removed from pandas in a future version. Use pandas.concat instead.\n",
      "  df2 = df2.append(df1, ignore_index=True)\n",
      "C:\\Users\\nxc210017\\AppData\\Local\\Temp\\ipykernel_57780\\3693720606.py:314: FutureWarning: The frame.append method is deprecated and will be removed from pandas in a future version. Use pandas.concat instead.\n",
      "  df3 = df3.append(df_e, ignore_index=True)\n"
     ]
    },
    {
     "name": "stdout",
     "output_type": "stream",
     "text": [
      "done\n"
     ]
    },
    {
     "name": "stderr",
     "output_type": "stream",
     "text": [
      "C:\\Users\\nxc210017\\AppData\\Local\\Temp\\ipykernel_57780\\3693720606.py:164: FutureWarning: The frame.append method is deprecated and will be removed from pandas in a future version. Use pandas.concat instead.\n",
      "  df2 = df2.append(df1, ignore_index=True)\n",
      "C:\\Users\\nxc210017\\AppData\\Local\\Temp\\ipykernel_57780\\3693720606.py:314: FutureWarning: The frame.append method is deprecated and will be removed from pandas in a future version. Use pandas.concat instead.\n",
      "  df3 = df3.append(df_e, ignore_index=True)\n"
     ]
    },
    {
     "name": "stdout",
     "output_type": "stream",
     "text": [
      "done\n"
     ]
    },
    {
     "name": "stderr",
     "output_type": "stream",
     "text": [
      "C:\\Users\\nxc210017\\AppData\\Local\\Temp\\ipykernel_57780\\3693720606.py:164: FutureWarning: The frame.append method is deprecated and will be removed from pandas in a future version. Use pandas.concat instead.\n",
      "  df2 = df2.append(df1, ignore_index=True)\n",
      "C:\\Users\\nxc210017\\AppData\\Local\\Temp\\ipykernel_57780\\3693720606.py:314: FutureWarning: The frame.append method is deprecated and will be removed from pandas in a future version. Use pandas.concat instead.\n",
      "  df3 = df3.append(df_e, ignore_index=True)\n"
     ]
    },
    {
     "name": "stdout",
     "output_type": "stream",
     "text": [
      "done\n"
     ]
    },
    {
     "name": "stderr",
     "output_type": "stream",
     "text": [
      "C:\\Users\\nxc210017\\AppData\\Local\\Temp\\ipykernel_57780\\3693720606.py:164: FutureWarning: The frame.append method is deprecated and will be removed from pandas in a future version. Use pandas.concat instead.\n",
      "  df2 = df2.append(df1, ignore_index=True)\n",
      "C:\\Users\\nxc210017\\AppData\\Local\\Temp\\ipykernel_57780\\3693720606.py:314: FutureWarning: The frame.append method is deprecated and will be removed from pandas in a future version. Use pandas.concat instead.\n",
      "  df3 = df3.append(df_e, ignore_index=True)\n"
     ]
    },
    {
     "name": "stdout",
     "output_type": "stream",
     "text": [
      "done\n"
     ]
    },
    {
     "name": "stderr",
     "output_type": "stream",
     "text": [
      "C:\\Users\\nxc210017\\AppData\\Local\\Temp\\ipykernel_57780\\3693720606.py:164: FutureWarning: The frame.append method is deprecated and will be removed from pandas in a future version. Use pandas.concat instead.\n",
      "  df2 = df2.append(df1, ignore_index=True)\n",
      "C:\\Users\\nxc210017\\AppData\\Local\\Temp\\ipykernel_57780\\3693720606.py:314: FutureWarning: The frame.append method is deprecated and will be removed from pandas in a future version. Use pandas.concat instead.\n",
      "  df3 = df3.append(df_e, ignore_index=True)\n"
     ]
    },
    {
     "name": "stdout",
     "output_type": "stream",
     "text": [
      "done\n"
     ]
    },
    {
     "name": "stderr",
     "output_type": "stream",
     "text": [
      "C:\\Users\\nxc210017\\AppData\\Local\\Temp\\ipykernel_57780\\3693720606.py:164: FutureWarning: The frame.append method is deprecated and will be removed from pandas in a future version. Use pandas.concat instead.\n",
      "  df2 = df2.append(df1, ignore_index=True)\n",
      "C:\\Users\\nxc210017\\AppData\\Local\\Temp\\ipykernel_57780\\3693720606.py:314: FutureWarning: The frame.append method is deprecated and will be removed from pandas in a future version. Use pandas.concat instead.\n",
      "  df3 = df3.append(df_e, ignore_index=True)\n"
     ]
    },
    {
     "name": "stdout",
     "output_type": "stream",
     "text": [
      "done\n"
     ]
    },
    {
     "name": "stderr",
     "output_type": "stream",
     "text": [
      "C:\\Users\\nxc210017\\AppData\\Local\\Temp\\ipykernel_57780\\3693720606.py:164: FutureWarning: The frame.append method is deprecated and will be removed from pandas in a future version. Use pandas.concat instead.\n",
      "  df2 = df2.append(df1, ignore_index=True)\n",
      "C:\\Users\\nxc210017\\AppData\\Local\\Temp\\ipykernel_57780\\3693720606.py:314: FutureWarning: The frame.append method is deprecated and will be removed from pandas in a future version. Use pandas.concat instead.\n",
      "  df3 = df3.append(df_e, ignore_index=True)\n"
     ]
    },
    {
     "name": "stdout",
     "output_type": "stream",
     "text": [
      "done\n"
     ]
    },
    {
     "name": "stderr",
     "output_type": "stream",
     "text": [
      "C:\\Users\\nxc210017\\AppData\\Local\\Temp\\ipykernel_57780\\3693720606.py:164: FutureWarning: The frame.append method is deprecated and will be removed from pandas in a future version. Use pandas.concat instead.\n",
      "  df2 = df2.append(df1, ignore_index=True)\n",
      "C:\\Users\\nxc210017\\AppData\\Local\\Temp\\ipykernel_57780\\3693720606.py:314: FutureWarning: The frame.append method is deprecated and will be removed from pandas in a future version. Use pandas.concat instead.\n",
      "  df3 = df3.append(df_e, ignore_index=True)\n"
     ]
    },
    {
     "name": "stdout",
     "output_type": "stream",
     "text": [
      "done\n"
     ]
    },
    {
     "name": "stderr",
     "output_type": "stream",
     "text": [
      "C:\\Users\\nxc210017\\AppData\\Local\\Temp\\ipykernel_57780\\3693720606.py:164: FutureWarning: The frame.append method is deprecated and will be removed from pandas in a future version. Use pandas.concat instead.\n",
      "  df2 = df2.append(df1, ignore_index=True)\n",
      "C:\\Users\\nxc210017\\AppData\\Local\\Temp\\ipykernel_57780\\3693720606.py:314: FutureWarning: The frame.append method is deprecated and will be removed from pandas in a future version. Use pandas.concat instead.\n",
      "  df3 = df3.append(df_e, ignore_index=True)\n"
     ]
    },
    {
     "name": "stdout",
     "output_type": "stream",
     "text": [
      "done\n"
     ]
    },
    {
     "name": "stderr",
     "output_type": "stream",
     "text": [
      "C:\\Users\\nxc210017\\AppData\\Local\\Temp\\ipykernel_57780\\3693720606.py:164: FutureWarning: The frame.append method is deprecated and will be removed from pandas in a future version. Use pandas.concat instead.\n",
      "  df2 = df2.append(df1, ignore_index=True)\n",
      "C:\\Users\\nxc210017\\AppData\\Local\\Temp\\ipykernel_57780\\3693720606.py:314: FutureWarning: The frame.append method is deprecated and will be removed from pandas in a future version. Use pandas.concat instead.\n",
      "  df3 = df3.append(df_e, ignore_index=True)\n"
     ]
    },
    {
     "name": "stdout",
     "output_type": "stream",
     "text": [
      "done\n"
     ]
    },
    {
     "name": "stderr",
     "output_type": "stream",
     "text": [
      "C:\\Users\\nxc210017\\AppData\\Local\\Temp\\ipykernel_57780\\3693720606.py:164: FutureWarning: The frame.append method is deprecated and will be removed from pandas in a future version. Use pandas.concat instead.\n",
      "  df2 = df2.append(df1, ignore_index=True)\n",
      "C:\\Users\\nxc210017\\AppData\\Local\\Temp\\ipykernel_57780\\3693720606.py:314: FutureWarning: The frame.append method is deprecated and will be removed from pandas in a future version. Use pandas.concat instead.\n",
      "  df3 = df3.append(df_e, ignore_index=True)\n"
     ]
    },
    {
     "name": "stdout",
     "output_type": "stream",
     "text": [
      "done\n"
     ]
    },
    {
     "name": "stderr",
     "output_type": "stream",
     "text": [
      "C:\\Users\\nxc210017\\AppData\\Local\\Temp\\ipykernel_57780\\3693720606.py:164: FutureWarning: The frame.append method is deprecated and will be removed from pandas in a future version. Use pandas.concat instead.\n",
      "  df2 = df2.append(df1, ignore_index=True)\n",
      "C:\\Users\\nxc210017\\AppData\\Local\\Temp\\ipykernel_57780\\3693720606.py:314: FutureWarning: The frame.append method is deprecated and will be removed from pandas in a future version. Use pandas.concat instead.\n",
      "  df3 = df3.append(df_e, ignore_index=True)\n"
     ]
    },
    {
     "name": "stdout",
     "output_type": "stream",
     "text": [
      "done\n"
     ]
    },
    {
     "name": "stderr",
     "output_type": "stream",
     "text": [
      "C:\\Users\\nxc210017\\AppData\\Local\\Temp\\ipykernel_57780\\3693720606.py:164: FutureWarning: The frame.append method is deprecated and will be removed from pandas in a future version. Use pandas.concat instead.\n",
      "  df2 = df2.append(df1, ignore_index=True)\n",
      "C:\\Users\\nxc210017\\AppData\\Local\\Temp\\ipykernel_57780\\3693720606.py:314: FutureWarning: The frame.append method is deprecated and will be removed from pandas in a future version. Use pandas.concat instead.\n",
      "  df3 = df3.append(df_e, ignore_index=True)\n"
     ]
    },
    {
     "name": "stdout",
     "output_type": "stream",
     "text": [
      "done\n"
     ]
    },
    {
     "name": "stderr",
     "output_type": "stream",
     "text": [
      "C:\\Users\\nxc210017\\AppData\\Local\\Temp\\ipykernel_57780\\3693720606.py:164: FutureWarning: The frame.append method is deprecated and will be removed from pandas in a future version. Use pandas.concat instead.\n",
      "  df2 = df2.append(df1, ignore_index=True)\n",
      "C:\\Users\\nxc210017\\AppData\\Local\\Temp\\ipykernel_57780\\3693720606.py:314: FutureWarning: The frame.append method is deprecated and will be removed from pandas in a future version. Use pandas.concat instead.\n",
      "  df3 = df3.append(df_e, ignore_index=True)\n"
     ]
    },
    {
     "name": "stdout",
     "output_type": "stream",
     "text": [
      "done\n"
     ]
    },
    {
     "name": "stderr",
     "output_type": "stream",
     "text": [
      "C:\\Users\\nxc210017\\AppData\\Local\\Temp\\ipykernel_57780\\3693720606.py:164: FutureWarning: The frame.append method is deprecated and will be removed from pandas in a future version. Use pandas.concat instead.\n",
      "  df2 = df2.append(df1, ignore_index=True)\n",
      "C:\\Users\\nxc210017\\AppData\\Local\\Temp\\ipykernel_57780\\3693720606.py:314: FutureWarning: The frame.append method is deprecated and will be removed from pandas in a future version. Use pandas.concat instead.\n",
      "  df3 = df3.append(df_e, ignore_index=True)\n"
     ]
    },
    {
     "name": "stdout",
     "output_type": "stream",
     "text": [
      "done\n"
     ]
    },
    {
     "name": "stderr",
     "output_type": "stream",
     "text": [
      "C:\\Users\\nxc210017\\AppData\\Local\\Temp\\ipykernel_57780\\3693720606.py:164: FutureWarning: The frame.append method is deprecated and will be removed from pandas in a future version. Use pandas.concat instead.\n",
      "  df2 = df2.append(df1, ignore_index=True)\n",
      "C:\\Users\\nxc210017\\AppData\\Local\\Temp\\ipykernel_57780\\3693720606.py:314: FutureWarning: The frame.append method is deprecated and will be removed from pandas in a future version. Use pandas.concat instead.\n",
      "  df3 = df3.append(df_e, ignore_index=True)\n"
     ]
    },
    {
     "name": "stdout",
     "output_type": "stream",
     "text": [
      "done\n"
     ]
    },
    {
     "name": "stderr",
     "output_type": "stream",
     "text": [
      "C:\\Users\\nxc210017\\AppData\\Local\\Temp\\ipykernel_57780\\3693720606.py:164: FutureWarning: The frame.append method is deprecated and will be removed from pandas in a future version. Use pandas.concat instead.\n",
      "  df2 = df2.append(df1, ignore_index=True)\n",
      "C:\\Users\\nxc210017\\AppData\\Local\\Temp\\ipykernel_57780\\3693720606.py:314: FutureWarning: The frame.append method is deprecated and will be removed from pandas in a future version. Use pandas.concat instead.\n",
      "  df3 = df3.append(df_e, ignore_index=True)\n"
     ]
    },
    {
     "name": "stdout",
     "output_type": "stream",
     "text": [
      "done\n"
     ]
    },
    {
     "name": "stderr",
     "output_type": "stream",
     "text": [
      "C:\\Users\\nxc210017\\AppData\\Local\\Temp\\ipykernel_57780\\3693720606.py:164: FutureWarning: The frame.append method is deprecated and will be removed from pandas in a future version. Use pandas.concat instead.\n",
      "  df2 = df2.append(df1, ignore_index=True)\n",
      "C:\\Users\\nxc210017\\AppData\\Local\\Temp\\ipykernel_57780\\3693720606.py:314: FutureWarning: The frame.append method is deprecated and will be removed from pandas in a future version. Use pandas.concat instead.\n",
      "  df3 = df3.append(df_e, ignore_index=True)\n"
     ]
    },
    {
     "name": "stdout",
     "output_type": "stream",
     "text": [
      "done\n"
     ]
    },
    {
     "name": "stderr",
     "output_type": "stream",
     "text": [
      "C:\\Users\\nxc210017\\AppData\\Local\\Temp\\ipykernel_57780\\3693720606.py:164: FutureWarning: The frame.append method is deprecated and will be removed from pandas in a future version. Use pandas.concat instead.\n",
      "  df2 = df2.append(df1, ignore_index=True)\n",
      "C:\\Users\\nxc210017\\AppData\\Local\\Temp\\ipykernel_57780\\3693720606.py:314: FutureWarning: The frame.append method is deprecated and will be removed from pandas in a future version. Use pandas.concat instead.\n",
      "  df3 = df3.append(df_e, ignore_index=True)\n"
     ]
    },
    {
     "name": "stdout",
     "output_type": "stream",
     "text": [
      "done\n"
     ]
    },
    {
     "name": "stderr",
     "output_type": "stream",
     "text": [
      "C:\\Users\\nxc210017\\AppData\\Local\\Temp\\ipykernel_57780\\3693720606.py:164: FutureWarning: The frame.append method is deprecated and will be removed from pandas in a future version. Use pandas.concat instead.\n",
      "  df2 = df2.append(df1, ignore_index=True)\n",
      "C:\\Users\\nxc210017\\AppData\\Local\\Temp\\ipykernel_57780\\3693720606.py:314: FutureWarning: The frame.append method is deprecated and will be removed from pandas in a future version. Use pandas.concat instead.\n",
      "  df3 = df3.append(df_e, ignore_index=True)\n"
     ]
    },
    {
     "name": "stdout",
     "output_type": "stream",
     "text": [
      "done\n"
     ]
    },
    {
     "name": "stderr",
     "output_type": "stream",
     "text": [
      "C:\\Users\\nxc210017\\AppData\\Local\\Temp\\ipykernel_57780\\3693720606.py:164: FutureWarning: The frame.append method is deprecated and will be removed from pandas in a future version. Use pandas.concat instead.\n",
      "  df2 = df2.append(df1, ignore_index=True)\n",
      "C:\\Users\\nxc210017\\AppData\\Local\\Temp\\ipykernel_57780\\3693720606.py:314: FutureWarning: The frame.append method is deprecated and will be removed from pandas in a future version. Use pandas.concat instead.\n",
      "  df3 = df3.append(df_e, ignore_index=True)\n"
     ]
    },
    {
     "name": "stdout",
     "output_type": "stream",
     "text": [
      "done\n"
     ]
    },
    {
     "name": "stderr",
     "output_type": "stream",
     "text": [
      "C:\\Users\\nxc210017\\AppData\\Local\\Temp\\ipykernel_57780\\3693720606.py:164: FutureWarning: The frame.append method is deprecated and will be removed from pandas in a future version. Use pandas.concat instead.\n",
      "  df2 = df2.append(df1, ignore_index=True)\n",
      "C:\\Users\\nxc210017\\AppData\\Local\\Temp\\ipykernel_57780\\3693720606.py:314: FutureWarning: The frame.append method is deprecated and will be removed from pandas in a future version. Use pandas.concat instead.\n",
      "  df3 = df3.append(df_e, ignore_index=True)\n"
     ]
    },
    {
     "name": "stdout",
     "output_type": "stream",
     "text": [
      "done\n"
     ]
    },
    {
     "name": "stderr",
     "output_type": "stream",
     "text": [
      "C:\\Users\\nxc210017\\AppData\\Local\\Temp\\ipykernel_57780\\3693720606.py:164: FutureWarning: The frame.append method is deprecated and will be removed from pandas in a future version. Use pandas.concat instead.\n",
      "  df2 = df2.append(df1, ignore_index=True)\n",
      "C:\\Users\\nxc210017\\AppData\\Local\\Temp\\ipykernel_57780\\3693720606.py:314: FutureWarning: The frame.append method is deprecated and will be removed from pandas in a future version. Use pandas.concat instead.\n",
      "  df3 = df3.append(df_e, ignore_index=True)\n"
     ]
    },
    {
     "name": "stdout",
     "output_type": "stream",
     "text": [
      "done\n"
     ]
    },
    {
     "name": "stderr",
     "output_type": "stream",
     "text": [
      "C:\\Users\\nxc210017\\AppData\\Local\\Temp\\ipykernel_57780\\3693720606.py:164: FutureWarning: The frame.append method is deprecated and will be removed from pandas in a future version. Use pandas.concat instead.\n",
      "  df2 = df2.append(df1, ignore_index=True)\n",
      "C:\\Users\\nxc210017\\AppData\\Local\\Temp\\ipykernel_57780\\3693720606.py:314: FutureWarning: The frame.append method is deprecated and will be removed from pandas in a future version. Use pandas.concat instead.\n",
      "  df3 = df3.append(df_e, ignore_index=True)\n"
     ]
    },
    {
     "name": "stdout",
     "output_type": "stream",
     "text": [
      "done\n"
     ]
    },
    {
     "name": "stderr",
     "output_type": "stream",
     "text": [
      "C:\\Users\\nxc210017\\AppData\\Local\\Temp\\ipykernel_57780\\3693720606.py:164: FutureWarning: The frame.append method is deprecated and will be removed from pandas in a future version. Use pandas.concat instead.\n",
      "  df2 = df2.append(df1, ignore_index=True)\n",
      "C:\\Users\\nxc210017\\AppData\\Local\\Temp\\ipykernel_57780\\3693720606.py:314: FutureWarning: The frame.append method is deprecated and will be removed from pandas in a future version. Use pandas.concat instead.\n",
      "  df3 = df3.append(df_e, ignore_index=True)\n"
     ]
    },
    {
     "name": "stdout",
     "output_type": "stream",
     "text": [
      "done\n"
     ]
    },
    {
     "name": "stderr",
     "output_type": "stream",
     "text": [
      "C:\\Users\\nxc210017\\AppData\\Local\\Temp\\ipykernel_57780\\3693720606.py:164: FutureWarning: The frame.append method is deprecated and will be removed from pandas in a future version. Use pandas.concat instead.\n",
      "  df2 = df2.append(df1, ignore_index=True)\n",
      "C:\\Users\\nxc210017\\AppData\\Local\\Temp\\ipykernel_57780\\3693720606.py:314: FutureWarning: The frame.append method is deprecated and will be removed from pandas in a future version. Use pandas.concat instead.\n",
      "  df3 = df3.append(df_e, ignore_index=True)\n"
     ]
    },
    {
     "name": "stdout",
     "output_type": "stream",
     "text": [
      "done\n"
     ]
    },
    {
     "name": "stderr",
     "output_type": "stream",
     "text": [
      "C:\\Users\\nxc210017\\AppData\\Local\\Temp\\ipykernel_57780\\3693720606.py:164: FutureWarning: The frame.append method is deprecated and will be removed from pandas in a future version. Use pandas.concat instead.\n",
      "  df2 = df2.append(df1, ignore_index=True)\n",
      "C:\\Users\\nxc210017\\AppData\\Local\\Temp\\ipykernel_57780\\3693720606.py:314: FutureWarning: The frame.append method is deprecated and will be removed from pandas in a future version. Use pandas.concat instead.\n",
      "  df3 = df3.append(df_e, ignore_index=True)\n"
     ]
    },
    {
     "name": "stdout",
     "output_type": "stream",
     "text": [
      "done\n"
     ]
    },
    {
     "name": "stderr",
     "output_type": "stream",
     "text": [
      "C:\\Users\\nxc210017\\AppData\\Local\\Temp\\ipykernel_57780\\3693720606.py:164: FutureWarning: The frame.append method is deprecated and will be removed from pandas in a future version. Use pandas.concat instead.\n",
      "  df2 = df2.append(df1, ignore_index=True)\n",
      "C:\\Users\\nxc210017\\AppData\\Local\\Temp\\ipykernel_57780\\3693720606.py:314: FutureWarning: The frame.append method is deprecated and will be removed from pandas in a future version. Use pandas.concat instead.\n",
      "  df3 = df3.append(df_e, ignore_index=True)\n"
     ]
    },
    {
     "name": "stdout",
     "output_type": "stream",
     "text": [
      "done\n"
     ]
    },
    {
     "name": "stderr",
     "output_type": "stream",
     "text": [
      "C:\\Users\\nxc210017\\AppData\\Local\\Temp\\ipykernel_57780\\3693720606.py:164: FutureWarning: The frame.append method is deprecated and will be removed from pandas in a future version. Use pandas.concat instead.\n",
      "  df2 = df2.append(df1, ignore_index=True)\n",
      "C:\\Users\\nxc210017\\AppData\\Local\\Temp\\ipykernel_57780\\3693720606.py:314: FutureWarning: The frame.append method is deprecated and will be removed from pandas in a future version. Use pandas.concat instead.\n",
      "  df3 = df3.append(df_e, ignore_index=True)\n"
     ]
    },
    {
     "name": "stdout",
     "output_type": "stream",
     "text": [
      "done\n"
     ]
    },
    {
     "name": "stderr",
     "output_type": "stream",
     "text": [
      "C:\\Users\\nxc210017\\AppData\\Local\\Temp\\ipykernel_57780\\3693720606.py:164: FutureWarning: The frame.append method is deprecated and will be removed from pandas in a future version. Use pandas.concat instead.\n",
      "  df2 = df2.append(df1, ignore_index=True)\n",
      "C:\\Users\\nxc210017\\AppData\\Local\\Temp\\ipykernel_57780\\3693720606.py:314: FutureWarning: The frame.append method is deprecated and will be removed from pandas in a future version. Use pandas.concat instead.\n",
      "  df3 = df3.append(df_e, ignore_index=True)\n"
     ]
    },
    {
     "name": "stdout",
     "output_type": "stream",
     "text": [
      "done\n"
     ]
    },
    {
     "ename": "KeyboardInterrupt",
     "evalue": "",
     "output_type": "error",
     "traceback": [
      "\u001b[1;31m---------------------------------------------------------------------------\u001b[0m",
      "\u001b[1;31mKeyboardInterrupt\u001b[0m                         Traceback (most recent call last)",
      "\u001b[1;32m~\\AppData\\Local\\Temp\\ipykernel_57780\\3693720606.py\u001b[0m in \u001b[0;36m<module>\u001b[1;34m\u001b[0m\n\u001b[0;32m     26\u001b[0m \u001b[1;33m\u001b[0m\u001b[0m\n\u001b[0;32m     27\u001b[0m \u001b[1;33m\u001b[0m\u001b[0m\n\u001b[1;32m---> 28\u001b[1;33m             \u001b[0mtranspiled_ckt\u001b[0m \u001b[1;33m=\u001b[0m \u001b[0mtranspile\u001b[0m\u001b[1;33m(\u001b[0m\u001b[0mcircuit\u001b[0m\u001b[1;33m,\u001b[0m \u001b[0mbackend\u001b[0m \u001b[1;33m=\u001b[0m \u001b[0mbackend\u001b[0m\u001b[1;33m,\u001b[0m \u001b[0mlayout_method\u001b[0m \u001b[1;33m=\u001b[0m \u001b[0mlayout\u001b[0m\u001b[1;33m,\u001b[0m \u001b[0mrouting_method\u001b[0m \u001b[1;33m=\u001b[0m \u001b[0mrouting\u001b[0m\u001b[1;33m,\u001b[0m \u001b[0moptimization_level\u001b[0m \u001b[1;33m=\u001b[0m \u001b[1;36m3\u001b[0m\u001b[1;33m,\u001b[0m \u001b[0mscheduling_method\u001b[0m\u001b[1;33m=\u001b[0m \u001b[1;34m'alap'\u001b[0m\u001b[1;33m)\u001b[0m\u001b[1;33m\u001b[0m\u001b[1;33m\u001b[0m\u001b[0m\n\u001b[0m\u001b[0;32m     29\u001b[0m \u001b[1;33m\u001b[0m\u001b[0m\n\u001b[0;32m     30\u001b[0m             \u001b[0mlist_cx_1\u001b[0m \u001b[1;33m=\u001b[0m \u001b[1;33m[\u001b[0m\u001b[1;33m]\u001b[0m\u001b[1;33m\u001b[0m\u001b[1;33m\u001b[0m\u001b[0m\n",
      "\u001b[1;32mc:\\Users\\nxc210017\\Conda\\lib\\site-packages\\qiskit\\compiler\\transpiler.py\u001b[0m in \u001b[0;36mtranspile\u001b[1;34m(circuits, backend, basis_gates, inst_map, coupling_map, backend_properties, initial_layout, layout_method, routing_method, translation_method, scheduling_method, instruction_durations, dt, approximation_degree, timing_constraints, seed_transpiler, optimization_level, callback, output_name, unitary_synthesis_method, unitary_synthesis_plugin_config, target, hls_config, init_method, optimization_method, ignore_backend_supplied_default_methods)\u001b[0m\n\u001b[0;32m    379\u001b[0m             \u001b[0mtranspile_config\u001b[0m\u001b[1;33m,\u001b[0m \u001b[0mpass_manager\u001b[0m \u001b[1;33m=\u001b[0m \u001b[0m_combine_args\u001b[0m\u001b[1;33m(\u001b[0m\u001b[0mshared_args\u001b[0m\u001b[1;33m,\u001b[0m \u001b[0munique_args\u001b[0m\u001b[1;33m)\u001b[0m\u001b[1;33m\u001b[0m\u001b[1;33m\u001b[0m\u001b[0m\n\u001b[0;32m    380\u001b[0m             output_circuits.append(\n\u001b[1;32m--> 381\u001b[1;33m                 _serial_transpile_circuit(\n\u001b[0m\u001b[0;32m    382\u001b[0m                     \u001b[0mcircuit\u001b[0m\u001b[1;33m,\u001b[0m\u001b[1;33m\u001b[0m\u001b[1;33m\u001b[0m\u001b[0m\n\u001b[0;32m    383\u001b[0m                     \u001b[0mpass_manager\u001b[0m\u001b[1;33m,\u001b[0m\u001b[1;33m\u001b[0m\u001b[1;33m\u001b[0m\u001b[0m\n",
      "\u001b[1;32mc:\\Users\\nxc210017\\Conda\\lib\\site-packages\\qiskit\\compiler\\transpiler.py\u001b[0m in \u001b[0;36m_serial_transpile_circuit\u001b[1;34m(circuit, pass_manager, callback, output_name, num_qubits, faulty_qubits_map, backend_prop)\u001b[0m\n\u001b[0;32m    472\u001b[0m     \u001b[0mbackend_prop\u001b[0m\u001b[1;33m=\u001b[0m\u001b[1;32mNone\u001b[0m\u001b[1;33m,\u001b[0m\u001b[1;33m\u001b[0m\u001b[1;33m\u001b[0m\u001b[0m\n\u001b[0;32m    473\u001b[0m ):\n\u001b[1;32m--> 474\u001b[1;33m     \u001b[0mresult\u001b[0m \u001b[1;33m=\u001b[0m \u001b[0mpass_manager\u001b[0m\u001b[1;33m.\u001b[0m\u001b[0mrun\u001b[0m\u001b[1;33m(\u001b[0m\u001b[0mcircuit\u001b[0m\u001b[1;33m,\u001b[0m \u001b[0mcallback\u001b[0m\u001b[1;33m=\u001b[0m\u001b[0mcallback\u001b[0m\u001b[1;33m,\u001b[0m \u001b[0moutput_name\u001b[0m\u001b[1;33m=\u001b[0m\u001b[0moutput_name\u001b[0m\u001b[1;33m)\u001b[0m\u001b[1;33m\u001b[0m\u001b[1;33m\u001b[0m\u001b[0m\n\u001b[0m\u001b[0;32m    475\u001b[0m     \u001b[1;32mif\u001b[0m \u001b[0mfaulty_qubits_map\u001b[0m\u001b[1;33m:\u001b[0m\u001b[1;33m\u001b[0m\u001b[1;33m\u001b[0m\u001b[0m\n\u001b[0;32m    476\u001b[0m         return _remap_circuit_faulty_backend(\n",
      "\u001b[1;32mc:\\Users\\nxc210017\\Conda\\lib\\site-packages\\qiskit\\transpiler\\passmanager.py\u001b[0m in \u001b[0;36mrun\u001b[1;34m(self, circuits, output_name, callback)\u001b[0m\n\u001b[0;32m    526\u001b[0m     ) -> Union[QuantumCircuit, List[QuantumCircuit]]:\n\u001b[0;32m    527\u001b[0m         \u001b[0mself\u001b[0m\u001b[1;33m.\u001b[0m\u001b[0m_update_passmanager\u001b[0m\u001b[1;33m(\u001b[0m\u001b[1;33m)\u001b[0m\u001b[1;33m\u001b[0m\u001b[1;33m\u001b[0m\u001b[0m\n\u001b[1;32m--> 528\u001b[1;33m         \u001b[1;32mreturn\u001b[0m \u001b[0msuper\u001b[0m\u001b[1;33m(\u001b[0m\u001b[1;33m)\u001b[0m\u001b[1;33m.\u001b[0m\u001b[0mrun\u001b[0m\u001b[1;33m(\u001b[0m\u001b[0mcircuits\u001b[0m\u001b[1;33m,\u001b[0m \u001b[0moutput_name\u001b[0m\u001b[1;33m,\u001b[0m \u001b[0mcallback\u001b[0m\u001b[1;33m)\u001b[0m\u001b[1;33m\u001b[0m\u001b[1;33m\u001b[0m\u001b[0m\n\u001b[0m",
      "\u001b[1;32mc:\\Users\\nxc210017\\Conda\\lib\\site-packages\\qiskit\\transpiler\\passmanager.py\u001b[0m in \u001b[0;36mrun\u001b[1;34m(self, circuits, output_name, callback)\u001b[0m\n\u001b[0;32m    226\u001b[0m             \u001b[1;32mreturn\u001b[0m \u001b[0mcircuits\u001b[0m\u001b[1;33m\u001b[0m\u001b[1;33m\u001b[0m\u001b[0m\n\u001b[0;32m    227\u001b[0m         \u001b[1;32mif\u001b[0m \u001b[0misinstance\u001b[0m\u001b[1;33m(\u001b[0m\u001b[0mcircuits\u001b[0m\u001b[1;33m,\u001b[0m \u001b[0mQuantumCircuit\u001b[0m\u001b[1;33m)\u001b[0m\u001b[1;33m:\u001b[0m\u001b[1;33m\u001b[0m\u001b[1;33m\u001b[0m\u001b[0m\n\u001b[1;32m--> 228\u001b[1;33m             \u001b[1;32mreturn\u001b[0m \u001b[0mself\u001b[0m\u001b[1;33m.\u001b[0m\u001b[0m_run_single_circuit\u001b[0m\u001b[1;33m(\u001b[0m\u001b[0mcircuits\u001b[0m\u001b[1;33m,\u001b[0m \u001b[0moutput_name\u001b[0m\u001b[1;33m,\u001b[0m \u001b[0mcallback\u001b[0m\u001b[1;33m)\u001b[0m\u001b[1;33m\u001b[0m\u001b[1;33m\u001b[0m\u001b[0m\n\u001b[0m\u001b[0;32m    229\u001b[0m         \u001b[1;32mif\u001b[0m \u001b[0mlen\u001b[0m\u001b[1;33m(\u001b[0m\u001b[0mcircuits\u001b[0m\u001b[1;33m)\u001b[0m \u001b[1;33m==\u001b[0m \u001b[1;36m1\u001b[0m\u001b[1;33m:\u001b[0m\u001b[1;33m\u001b[0m\u001b[1;33m\u001b[0m\u001b[0m\n\u001b[0;32m    230\u001b[0m             \u001b[1;32mreturn\u001b[0m \u001b[0mself\u001b[0m\u001b[1;33m.\u001b[0m\u001b[0m_run_single_circuit\u001b[0m\u001b[1;33m(\u001b[0m\u001b[0mcircuits\u001b[0m\u001b[1;33m[\u001b[0m\u001b[1;36m0\u001b[0m\u001b[1;33m]\u001b[0m\u001b[1;33m,\u001b[0m \u001b[0moutput_name\u001b[0m\u001b[1;33m,\u001b[0m \u001b[0mcallback\u001b[0m\u001b[1;33m)\u001b[0m\u001b[1;33m\u001b[0m\u001b[1;33m\u001b[0m\u001b[0m\n",
      "\u001b[1;32mc:\\Users\\nxc210017\\Conda\\lib\\site-packages\\qiskit\\transpiler\\passmanager.py\u001b[0m in \u001b[0;36m_run_single_circuit\u001b[1;34m(self, circuit, output_name, callback)\u001b[0m\n\u001b[0;32m    281\u001b[0m         \"\"\"\n\u001b[0;32m    282\u001b[0m         \u001b[0mrunning_passmanager\u001b[0m \u001b[1;33m=\u001b[0m \u001b[0mself\u001b[0m\u001b[1;33m.\u001b[0m\u001b[0m_create_running_passmanager\u001b[0m\u001b[1;33m(\u001b[0m\u001b[1;33m)\u001b[0m\u001b[1;33m\u001b[0m\u001b[1;33m\u001b[0m\u001b[0m\n\u001b[1;32m--> 283\u001b[1;33m         \u001b[0mresult\u001b[0m \u001b[1;33m=\u001b[0m \u001b[0mrunning_passmanager\u001b[0m\u001b[1;33m.\u001b[0m\u001b[0mrun\u001b[0m\u001b[1;33m(\u001b[0m\u001b[0mcircuit\u001b[0m\u001b[1;33m,\u001b[0m \u001b[0moutput_name\u001b[0m\u001b[1;33m=\u001b[0m\u001b[0moutput_name\u001b[0m\u001b[1;33m,\u001b[0m \u001b[0mcallback\u001b[0m\u001b[1;33m=\u001b[0m\u001b[0mcallback\u001b[0m\u001b[1;33m)\u001b[0m\u001b[1;33m\u001b[0m\u001b[1;33m\u001b[0m\u001b[0m\n\u001b[0m\u001b[0;32m    284\u001b[0m         \u001b[0mself\u001b[0m\u001b[1;33m.\u001b[0m\u001b[0mproperty_set\u001b[0m \u001b[1;33m=\u001b[0m \u001b[0mrunning_passmanager\u001b[0m\u001b[1;33m.\u001b[0m\u001b[0mproperty_set\u001b[0m\u001b[1;33m\u001b[0m\u001b[1;33m\u001b[0m\u001b[0m\n\u001b[0;32m    285\u001b[0m         \u001b[1;32mreturn\u001b[0m \u001b[0mresult\u001b[0m\u001b[1;33m\u001b[0m\u001b[1;33m\u001b[0m\u001b[0m\n",
      "\u001b[1;32mc:\\Users\\nxc210017\\Conda\\lib\\site-packages\\qiskit\\transpiler\\runningpassmanager.py\u001b[0m in \u001b[0;36mrun\u001b[1;34m(***failed resolving arguments***)\u001b[0m\n\u001b[0;32m    123\u001b[0m         \u001b[1;32mfor\u001b[0m \u001b[0mpassset\u001b[0m \u001b[1;32min\u001b[0m \u001b[0mself\u001b[0m\u001b[1;33m.\u001b[0m\u001b[0mworking_list\u001b[0m\u001b[1;33m:\u001b[0m\u001b[1;33m\u001b[0m\u001b[1;33m\u001b[0m\u001b[0m\n\u001b[0;32m    124\u001b[0m             \u001b[1;32mfor\u001b[0m \u001b[0mpass_\u001b[0m \u001b[1;32min\u001b[0m \u001b[0mpassset\u001b[0m\u001b[1;33m:\u001b[0m\u001b[1;33m\u001b[0m\u001b[1;33m\u001b[0m\u001b[0m\n\u001b[1;32m--> 125\u001b[1;33m                 \u001b[0mdag\u001b[0m \u001b[1;33m=\u001b[0m \u001b[0mself\u001b[0m\u001b[1;33m.\u001b[0m\u001b[0m_do_pass\u001b[0m\u001b[1;33m(\u001b[0m\u001b[0mpass_\u001b[0m\u001b[1;33m,\u001b[0m \u001b[0mdag\u001b[0m\u001b[1;33m,\u001b[0m \u001b[0mpassset\u001b[0m\u001b[1;33m.\u001b[0m\u001b[0moptions\u001b[0m\u001b[1;33m)\u001b[0m\u001b[1;33m\u001b[0m\u001b[1;33m\u001b[0m\u001b[0m\n\u001b[0m\u001b[0;32m    126\u001b[0m \u001b[1;33m\u001b[0m\u001b[0m\n\u001b[0;32m    127\u001b[0m         \u001b[0mcircuit\u001b[0m \u001b[1;33m=\u001b[0m \u001b[0mdag_to_circuit\u001b[0m\u001b[1;33m(\u001b[0m\u001b[0mdag\u001b[0m\u001b[1;33m)\u001b[0m\u001b[1;33m\u001b[0m\u001b[1;33m\u001b[0m\u001b[0m\n",
      "\u001b[1;32mc:\\Users\\nxc210017\\Conda\\lib\\site-packages\\qiskit\\transpiler\\runningpassmanager.py\u001b[0m in \u001b[0;36m_do_pass\u001b[1;34m(self, pass_, dag, options)\u001b[0m\n\u001b[0;32m    171\u001b[0m             \u001b[1;31m# Run the pass itself, if not already run\u001b[0m\u001b[1;33m\u001b[0m\u001b[1;33m\u001b[0m\u001b[0m\n\u001b[0;32m    172\u001b[0m             \u001b[1;32mif\u001b[0m \u001b[0mpass_\u001b[0m \u001b[1;32mnot\u001b[0m \u001b[1;32min\u001b[0m \u001b[0mself\u001b[0m\u001b[1;33m.\u001b[0m\u001b[0mvalid_passes\u001b[0m\u001b[1;33m:\u001b[0m\u001b[1;33m\u001b[0m\u001b[1;33m\u001b[0m\u001b[0m\n\u001b[1;32m--> 173\u001b[1;33m                 \u001b[0mdag\u001b[0m \u001b[1;33m=\u001b[0m \u001b[0mself\u001b[0m\u001b[1;33m.\u001b[0m\u001b[0m_run_this_pass\u001b[0m\u001b[1;33m(\u001b[0m\u001b[0mpass_\u001b[0m\u001b[1;33m,\u001b[0m \u001b[0mdag\u001b[0m\u001b[1;33m)\u001b[0m\u001b[1;33m\u001b[0m\u001b[1;33m\u001b[0m\u001b[0m\n\u001b[0m\u001b[0;32m    174\u001b[0m \u001b[1;33m\u001b[0m\u001b[0m\n\u001b[0;32m    175\u001b[0m                 \u001b[1;31m# update the valid_passes property\u001b[0m\u001b[1;33m\u001b[0m\u001b[1;33m\u001b[0m\u001b[0m\n",
      "\u001b[1;32mc:\\Users\\nxc210017\\Conda\\lib\\site-packages\\qiskit\\transpiler\\runningpassmanager.py\u001b[0m in \u001b[0;36m_run_this_pass\u001b[1;34m(self, pass_, dag)\u001b[0m\n\u001b[0;32m    200\u001b[0m             \u001b[1;31m# Measure time if we have a callback or logging set\u001b[0m\u001b[1;33m\u001b[0m\u001b[1;33m\u001b[0m\u001b[0m\n\u001b[0;32m    201\u001b[0m             \u001b[0mstart_time\u001b[0m \u001b[1;33m=\u001b[0m \u001b[0mtime\u001b[0m\u001b[1;33m(\u001b[0m\u001b[1;33m)\u001b[0m\u001b[1;33m\u001b[0m\u001b[1;33m\u001b[0m\u001b[0m\n\u001b[1;32m--> 202\u001b[1;33m             \u001b[0mnew_dag\u001b[0m \u001b[1;33m=\u001b[0m \u001b[0mpass_\u001b[0m\u001b[1;33m.\u001b[0m\u001b[0mrun\u001b[0m\u001b[1;33m(\u001b[0m\u001b[0mdag\u001b[0m\u001b[1;33m)\u001b[0m\u001b[1;33m\u001b[0m\u001b[1;33m\u001b[0m\u001b[0m\n\u001b[0m\u001b[0;32m    203\u001b[0m             \u001b[0mend_time\u001b[0m \u001b[1;33m=\u001b[0m \u001b[0mtime\u001b[0m\u001b[1;33m(\u001b[0m\u001b[1;33m)\u001b[0m\u001b[1;33m\u001b[0m\u001b[1;33m\u001b[0m\u001b[0m\n\u001b[0;32m    204\u001b[0m             \u001b[0mrun_time\u001b[0m \u001b[1;33m=\u001b[0m \u001b[0mend_time\u001b[0m \u001b[1;33m-\u001b[0m \u001b[0mstart_time\u001b[0m\u001b[1;33m\u001b[0m\u001b[1;33m\u001b[0m\u001b[0m\n",
      "\u001b[1;32mc:\\Users\\nxc210017\\Conda\\lib\\site-packages\\qiskit\\transpiler\\passes\\routing\\lookahead_swap.py\u001b[0m in \u001b[0;36mrun\u001b[1;34m(self, dag)\u001b[0m\n\u001b[0;32m    132\u001b[0m             \u001b[0mlogger\u001b[0m\u001b[1;33m.\u001b[0m\u001b[0mdebug\u001b[0m\u001b[1;33m(\u001b[0m\u001b[1;34m\"Top-level routing step: %d gates remaining.\"\u001b[0m\u001b[1;33m,\u001b[0m \u001b[0mlen\u001b[0m\u001b[1;33m(\u001b[0m\u001b[0mgates_remaining\u001b[0m\u001b[1;33m)\u001b[0m\u001b[1;33m)\u001b[0m\u001b[1;33m\u001b[0m\u001b[1;33m\u001b[0m\u001b[0m\n\u001b[0;32m    133\u001b[0m \u001b[1;33m\u001b[0m\u001b[0m\n\u001b[1;32m--> 134\u001b[1;33m             best_step = _search_forward_n_swaps(\n\u001b[0m\u001b[0;32m    135\u001b[0m                 \u001b[0mcurrent_state\u001b[0m\u001b[1;33m,\u001b[0m\u001b[1;33m\u001b[0m\u001b[1;33m\u001b[0m\u001b[0m\n\u001b[0;32m    136\u001b[0m                 \u001b[0mgates_remaining\u001b[0m\u001b[1;33m,\u001b[0m\u001b[1;33m\u001b[0m\u001b[1;33m\u001b[0m\u001b[0m\n",
      "\u001b[1;32mc:\\Users\\nxc210017\\Conda\\lib\\site-packages\\qiskit\\transpiler\\passes\\routing\\lookahead_swap.py\u001b[0m in \u001b[0;36m_search_forward_n_swaps\u001b[1;34m(state, gates, depth, width)\u001b[0m\n\u001b[0;32m    205\u001b[0m     \u001b[0mbest_swap\u001b[0m\u001b[1;33m,\u001b[0m \u001b[0mbest_step\u001b[0m\u001b[1;33m,\u001b[0m \u001b[0mbest_score\u001b[0m \u001b[1;33m=\u001b[0m \u001b[1;32mNone\u001b[0m\u001b[1;33m,\u001b[0m \u001b[1;32mNone\u001b[0m\u001b[1;33m,\u001b[0m \u001b[1;33m-\u001b[0m\u001b[0mmath\u001b[0m\u001b[1;33m.\u001b[0m\u001b[0minf\u001b[0m\u001b[1;33m\u001b[0m\u001b[1;33m\u001b[0m\u001b[0m\n\u001b[0;32m    206\u001b[0m     \u001b[1;32mfor\u001b[0m \u001b[0mrank\u001b[0m\u001b[1;33m,\u001b[0m \u001b[1;33m(\u001b[0m\u001b[0m_\u001b[0m\u001b[1;33m,\u001b[0m \u001b[0mswap\u001b[0m\u001b[1;33m,\u001b[0m \u001b[0mnew_state\u001b[0m\u001b[1;33m)\u001b[0m \u001b[1;32min\u001b[0m \u001b[0menumerate\u001b[0m\u001b[1;33m(\u001b[0m\u001b[0mranked_swaps\u001b[0m\u001b[1;33m)\u001b[0m\u001b[1;33m:\u001b[0m\u001b[1;33m\u001b[0m\u001b[1;33m\u001b[0m\u001b[0m\n\u001b[1;32m--> 207\u001b[1;33m         \u001b[0mnext_step\u001b[0m \u001b[1;33m=\u001b[0m \u001b[0m_search_forward_n_swaps\u001b[0m\u001b[1;33m(\u001b[0m\u001b[0mnew_state\u001b[0m\u001b[1;33m,\u001b[0m \u001b[0mgates_remaining\u001b[0m\u001b[1;33m,\u001b[0m \u001b[0mdepth\u001b[0m \u001b[1;33m-\u001b[0m \u001b[1;36m1\u001b[0m\u001b[1;33m,\u001b[0m \u001b[0mwidth\u001b[0m\u001b[1;33m)\u001b[0m\u001b[1;33m\u001b[0m\u001b[1;33m\u001b[0m\u001b[0m\n\u001b[0m\u001b[0;32m    208\u001b[0m \u001b[1;33m\u001b[0m\u001b[0m\n\u001b[0;32m    209\u001b[0m         \u001b[1;32mif\u001b[0m \u001b[0mnext_step\u001b[0m \u001b[1;32mis\u001b[0m \u001b[1;32mNone\u001b[0m\u001b[1;33m:\u001b[0m\u001b[1;33m\u001b[0m\u001b[1;33m\u001b[0m\u001b[0m\n",
      "\u001b[1;32mc:\\Users\\nxc210017\\Conda\\lib\\site-packages\\qiskit\\transpiler\\passes\\routing\\lookahead_swap.py\u001b[0m in \u001b[0;36m_search_forward_n_swaps\u001b[1;34m(state, gates, depth, width)\u001b[0m\n\u001b[0;32m    205\u001b[0m     \u001b[0mbest_swap\u001b[0m\u001b[1;33m,\u001b[0m \u001b[0mbest_step\u001b[0m\u001b[1;33m,\u001b[0m \u001b[0mbest_score\u001b[0m \u001b[1;33m=\u001b[0m \u001b[1;32mNone\u001b[0m\u001b[1;33m,\u001b[0m \u001b[1;32mNone\u001b[0m\u001b[1;33m,\u001b[0m \u001b[1;33m-\u001b[0m\u001b[0mmath\u001b[0m\u001b[1;33m.\u001b[0m\u001b[0minf\u001b[0m\u001b[1;33m\u001b[0m\u001b[1;33m\u001b[0m\u001b[0m\n\u001b[0;32m    206\u001b[0m     \u001b[1;32mfor\u001b[0m \u001b[0mrank\u001b[0m\u001b[1;33m,\u001b[0m \u001b[1;33m(\u001b[0m\u001b[0m_\u001b[0m\u001b[1;33m,\u001b[0m \u001b[0mswap\u001b[0m\u001b[1;33m,\u001b[0m \u001b[0mnew_state\u001b[0m\u001b[1;33m)\u001b[0m \u001b[1;32min\u001b[0m \u001b[0menumerate\u001b[0m\u001b[1;33m(\u001b[0m\u001b[0mranked_swaps\u001b[0m\u001b[1;33m)\u001b[0m\u001b[1;33m:\u001b[0m\u001b[1;33m\u001b[0m\u001b[1;33m\u001b[0m\u001b[0m\n\u001b[1;32m--> 207\u001b[1;33m         \u001b[0mnext_step\u001b[0m \u001b[1;33m=\u001b[0m \u001b[0m_search_forward_n_swaps\u001b[0m\u001b[1;33m(\u001b[0m\u001b[0mnew_state\u001b[0m\u001b[1;33m,\u001b[0m \u001b[0mgates_remaining\u001b[0m\u001b[1;33m,\u001b[0m \u001b[0mdepth\u001b[0m \u001b[1;33m-\u001b[0m \u001b[1;36m1\u001b[0m\u001b[1;33m,\u001b[0m \u001b[0mwidth\u001b[0m\u001b[1;33m)\u001b[0m\u001b[1;33m\u001b[0m\u001b[1;33m\u001b[0m\u001b[0m\n\u001b[0m\u001b[0;32m    208\u001b[0m \u001b[1;33m\u001b[0m\u001b[0m\n\u001b[0;32m    209\u001b[0m         \u001b[1;32mif\u001b[0m \u001b[0mnext_step\u001b[0m \u001b[1;32mis\u001b[0m \u001b[1;32mNone\u001b[0m\u001b[1;33m:\u001b[0m\u001b[1;33m\u001b[0m\u001b[1;33m\u001b[0m\u001b[0m\n",
      "\u001b[1;32mc:\\Users\\nxc210017\\Conda\\lib\\site-packages\\qiskit\\transpiler\\passes\\routing\\lookahead_swap.py\u001b[0m in \u001b[0;36m_search_forward_n_swaps\u001b[1;34m(state, gates, depth, width)\u001b[0m\n\u001b[0;32m    205\u001b[0m     \u001b[0mbest_swap\u001b[0m\u001b[1;33m,\u001b[0m \u001b[0mbest_step\u001b[0m\u001b[1;33m,\u001b[0m \u001b[0mbest_score\u001b[0m \u001b[1;33m=\u001b[0m \u001b[1;32mNone\u001b[0m\u001b[1;33m,\u001b[0m \u001b[1;32mNone\u001b[0m\u001b[1;33m,\u001b[0m \u001b[1;33m-\u001b[0m\u001b[0mmath\u001b[0m\u001b[1;33m.\u001b[0m\u001b[0minf\u001b[0m\u001b[1;33m\u001b[0m\u001b[1;33m\u001b[0m\u001b[0m\n\u001b[0;32m    206\u001b[0m     \u001b[1;32mfor\u001b[0m \u001b[0mrank\u001b[0m\u001b[1;33m,\u001b[0m \u001b[1;33m(\u001b[0m\u001b[0m_\u001b[0m\u001b[1;33m,\u001b[0m \u001b[0mswap\u001b[0m\u001b[1;33m,\u001b[0m \u001b[0mnew_state\u001b[0m\u001b[1;33m)\u001b[0m \u001b[1;32min\u001b[0m \u001b[0menumerate\u001b[0m\u001b[1;33m(\u001b[0m\u001b[0mranked_swaps\u001b[0m\u001b[1;33m)\u001b[0m\u001b[1;33m:\u001b[0m\u001b[1;33m\u001b[0m\u001b[1;33m\u001b[0m\u001b[0m\n\u001b[1;32m--> 207\u001b[1;33m         \u001b[0mnext_step\u001b[0m \u001b[1;33m=\u001b[0m \u001b[0m_search_forward_n_swaps\u001b[0m\u001b[1;33m(\u001b[0m\u001b[0mnew_state\u001b[0m\u001b[1;33m,\u001b[0m \u001b[0mgates_remaining\u001b[0m\u001b[1;33m,\u001b[0m \u001b[0mdepth\u001b[0m \u001b[1;33m-\u001b[0m \u001b[1;36m1\u001b[0m\u001b[1;33m,\u001b[0m \u001b[0mwidth\u001b[0m\u001b[1;33m)\u001b[0m\u001b[1;33m\u001b[0m\u001b[1;33m\u001b[0m\u001b[0m\n\u001b[0m\u001b[0;32m    208\u001b[0m \u001b[1;33m\u001b[0m\u001b[0m\n\u001b[0;32m    209\u001b[0m         \u001b[1;32mif\u001b[0m \u001b[0mnext_step\u001b[0m \u001b[1;32mis\u001b[0m \u001b[1;32mNone\u001b[0m\u001b[1;33m:\u001b[0m\u001b[1;33m\u001b[0m\u001b[1;33m\u001b[0m\u001b[0m\n",
      "\u001b[1;32mc:\\Users\\nxc210017\\Conda\\lib\\site-packages\\qiskit\\transpiler\\passes\\routing\\lookahead_swap.py\u001b[0m in \u001b[0;36m_search_forward_n_swaps\u001b[1;34m(state, gates, depth, width)\u001b[0m\n\u001b[0;32m    205\u001b[0m     \u001b[0mbest_swap\u001b[0m\u001b[1;33m,\u001b[0m \u001b[0mbest_step\u001b[0m\u001b[1;33m,\u001b[0m \u001b[0mbest_score\u001b[0m \u001b[1;33m=\u001b[0m \u001b[1;32mNone\u001b[0m\u001b[1;33m,\u001b[0m \u001b[1;32mNone\u001b[0m\u001b[1;33m,\u001b[0m \u001b[1;33m-\u001b[0m\u001b[0mmath\u001b[0m\u001b[1;33m.\u001b[0m\u001b[0minf\u001b[0m\u001b[1;33m\u001b[0m\u001b[1;33m\u001b[0m\u001b[0m\n\u001b[0;32m    206\u001b[0m     \u001b[1;32mfor\u001b[0m \u001b[0mrank\u001b[0m\u001b[1;33m,\u001b[0m \u001b[1;33m(\u001b[0m\u001b[0m_\u001b[0m\u001b[1;33m,\u001b[0m \u001b[0mswap\u001b[0m\u001b[1;33m,\u001b[0m \u001b[0mnew_state\u001b[0m\u001b[1;33m)\u001b[0m \u001b[1;32min\u001b[0m \u001b[0menumerate\u001b[0m\u001b[1;33m(\u001b[0m\u001b[0mranked_swaps\u001b[0m\u001b[1;33m)\u001b[0m\u001b[1;33m:\u001b[0m\u001b[1;33m\u001b[0m\u001b[1;33m\u001b[0m\u001b[0m\n\u001b[1;32m--> 207\u001b[1;33m         \u001b[0mnext_step\u001b[0m \u001b[1;33m=\u001b[0m \u001b[0m_search_forward_n_swaps\u001b[0m\u001b[1;33m(\u001b[0m\u001b[0mnew_state\u001b[0m\u001b[1;33m,\u001b[0m \u001b[0mgates_remaining\u001b[0m\u001b[1;33m,\u001b[0m \u001b[0mdepth\u001b[0m \u001b[1;33m-\u001b[0m \u001b[1;36m1\u001b[0m\u001b[1;33m,\u001b[0m \u001b[0mwidth\u001b[0m\u001b[1;33m)\u001b[0m\u001b[1;33m\u001b[0m\u001b[1;33m\u001b[0m\u001b[0m\n\u001b[0m\u001b[0;32m    208\u001b[0m \u001b[1;33m\u001b[0m\u001b[0m\n\u001b[0;32m    209\u001b[0m         \u001b[1;32mif\u001b[0m \u001b[0mnext_step\u001b[0m \u001b[1;32mis\u001b[0m \u001b[1;32mNone\u001b[0m\u001b[1;33m:\u001b[0m\u001b[1;33m\u001b[0m\u001b[1;33m\u001b[0m\u001b[0m\n",
      "\u001b[1;32mc:\\Users\\nxc210017\\Conda\\lib\\site-packages\\qiskit\\transpiler\\passes\\routing\\lookahead_swap.py\u001b[0m in \u001b[0;36m_search_forward_n_swaps\u001b[1;34m(state, gates, depth, width)\u001b[0m\n\u001b[0;32m    226\u001b[0m             and (\n\u001b[0;32m    227\u001b[0m                 \u001b[0mlen\u001b[0m\u001b[1;33m(\u001b[0m\u001b[0mbest_step\u001b[0m\u001b[1;33m.\u001b[0m\u001b[0mgates_mapped\u001b[0m\u001b[1;33m)\u001b[0m \u001b[1;33m>\u001b[0m \u001b[0mdepth\u001b[0m\u001b[1;33m\u001b[0m\u001b[1;33m\u001b[0m\u001b[0m\n\u001b[1;32m--> 228\u001b[1;33m                 \u001b[1;32mor\u001b[0m \u001b[0mlen\u001b[0m\u001b[1;33m(\u001b[0m\u001b[0mbest_step\u001b[0m\u001b[1;33m.\u001b[0m\u001b[0mgates_remaining\u001b[0m\u001b[1;33m)\u001b[0m \u001b[1;33m<\u001b[0m \u001b[0mlen\u001b[0m\u001b[1;33m(\u001b[0m\u001b[0mgates_remaining\u001b[0m\u001b[1;33m)\u001b[0m\u001b[1;33m\u001b[0m\u001b[1;33m\u001b[0m\u001b[0m\n\u001b[0m\u001b[0;32m    229\u001b[0m                 or (\n\u001b[0;32m    230\u001b[0m                     \u001b[0m_calc_layout_distance\u001b[0m\u001b[1;33m(\u001b[0m\u001b[0mbest_step\u001b[0m\u001b[1;33m.\u001b[0m\u001b[0mgates_remaining\u001b[0m\u001b[1;33m,\u001b[0m \u001b[0mbest_step\u001b[0m\u001b[1;33m.\u001b[0m\u001b[0mstate\u001b[0m\u001b[1;33m)\u001b[0m\u001b[1;33m\u001b[0m\u001b[1;33m\u001b[0m\u001b[0m\n",
      "\u001b[1;31mKeyboardInterrupt\u001b[0m: "
     ]
    }
   ],
   "source": [
    "from qiskit import QuantumCircuit\n",
    "\n",
    "durations = InstructionDurations(\n",
    "    [(\"rz\", None, 50), (\"cx\", None, 300), (\"reset\", None, 10), (\"cz\", None, 250), (\"u2\", None, 50), (\"u1\", None, 50), (\"u3\", None, 50), \n",
    "    (\"x\", None, 50),(\"sx\", None, 50),(\"y\", None, 50),(\"id\", None, 100), (\"measure\", None, 500)]\n",
    "    )   \n",
    "pm = PassManager([ALAPSchedule(durations)])\n",
    "\n",
    "backend = FakeMontreal()\n",
    "layout_method = [\"trivial\", \"dense\", \"noise_adaptive\", \"sabre\"]\n",
    "routing_method = [\"basic\", \"lookahead\", \"stochastic\", \"sabre\"]\n",
    "\n",
    "benchmark_no = []\n",
    "\n",
    "for fo in os.listdir(path):\n",
    "    # if i<1000:\n",
    "        # print(type(circuit_list[i]))\n",
    "    # if i == 11:\n",
    "        # print(circuit_list[i])\n",
    "    circuit = QuantumCircuit.from_qasm_file(path+fo)\n",
    "    # print(type(f))\n",
    "    ckt_no = 1\n",
    "\n",
    "    for layout in layout_method:\n",
    "        for routing in routing_method:\n",
    "\n",
    "            \n",
    "            transpiled_ckt = transpile(circuit, backend = backend, layout_method = layout, routing_method = routing, optimization_level = 3, scheduling_method= 'alap')\n",
    "\n",
    "            list_cx_1 = []\n",
    "        # dict_1 = {}\n",
    "\n",
    "            for k in range(len(transpiled_ckt.data)):\n",
    "            \n",
    "                if str(transpiled_ckt.data[k]).replace('(', ' ').replace(')', ' ').replace(',','').split(' ')[2] == \"name='cx'\":\n",
    "                    \n",
    "                    if transpiled_ckt.op_start_times[k] < 16500:\n",
    "                        list_cx_1.append([transpiled_ckt.op_start_times[k], str(transpiled_ckt.data[k]).replace('(', ' ').replace(')', ' ').replace(',','').split(' ')[13],str(transpiled_ckt.data[k]).replace('(', ' ').replace(')', ' ').replace(',','').split(' ')[20]])\n",
    "\n",
    "            # list_cx_1\n",
    "            cx_l = []\n",
    "            for k in range(len(list_cx_1)):\n",
    "                # print(len(list_cx_1[k]))\n",
    "                for j in range(len(list_cx_1[k])):\n",
    "                    # print(list_cx_1[k][j])\n",
    "                    cx_l.append(list_cx_1[k][j])\n",
    "                    df1 = pd.DataFrame(columns = ['Benchmark', 'Qubit_no', 'L0', 'L1', 'L2', 'L3', 'L4', 'L5', 'L6', 'L7', 'L8', 'L9', 'L10', 'L11', 'L12', 'L13', 'L14', 'L15', 'L16', 'L17', 'L18', 'L19', 'L20', 'L21', 'L22', 'L23', 'L24', 'L25', 'L26', 'L27', 'L28', 'L29', 'L30', 'L31'])\n",
    "                    # df1['Benchmark'] = 'bv_5'\n",
    "                    # df1['Qubit_no'] = 1\n",
    "            for i in range(27):\n",
    "                df1.loc[i,'Benchmark'] = fo+'_lm_'+str(layout)+'_rm_'+str(routing)\n",
    "                df1.loc[i, 'Qubit_no'] = i\n",
    "                    \n",
    "            # print(cx_l)\n",
    "            for elem in range(len(cx_l)):\n",
    "                # print(type(elem), elem)\n",
    "                if type(cx_l[elem]) == int:\n",
    "                    if cx_l[elem]<500:\n",
    "                        df1.loc[int(int(cx_l[elem+1])), 'L0'] = 1\n",
    "                        df1.loc[int(int(cx_l[elem+2])), 'L0'] = 1\n",
    "                    if cx_l[elem]>500 and cx_l[elem]<1000:\n",
    "                        df1.loc[int(cx_l[elem+1]), 'L1'] = 1\n",
    "                        df1.loc[int(cx_l[elem+2]), 'L1'] = 1\n",
    "                    if cx_l[elem]>1000 and cx_l[elem]<1500:\n",
    "                        df1.loc[int(cx_l[elem+1]), 'L2'] = 1\n",
    "                        df1.loc[int(cx_l[elem+2]), 'L2'] = 1\n",
    "                    if cx_l[elem]>1500 and cx_l[elem]<2000:\n",
    "                        df1.loc[int(cx_l[elem+1]), 'L3'] = 1\n",
    "                        df1.loc[int(cx_l[elem+2]), 'L3'] = 1\n",
    "                    if cx_l[elem]>2000 and cx_l[elem]<2500:\n",
    "                        df1.loc[int(cx_l[elem+1]), 'L4'] = 1\n",
    "                        df1.loc[int(cx_l[elem+2]), 'L4'] = 1\n",
    "                    if cx_l[elem]>2500 and cx_l[elem]<3000:\n",
    "                        df1.loc[int(cx_l[elem+1]), 'L5'] = 1\n",
    "                        df1.loc[int(cx_l[elem+2]), 'L5'] = 1\n",
    "                    if cx_l[elem]>3000 and cx_l[elem]<3500:\n",
    "                        df1.loc[int(cx_l[elem+1]), 'L6'] = 1\n",
    "                        df1.loc[int(cx_l[elem+2]), 'L6'] = 1\n",
    "                    if cx_l[elem]>3500 and cx_l[elem]<4000:\n",
    "                        df1.loc[int(cx_l[elem+1]), 'L7'] = 1\n",
    "                        df1.loc[int(cx_l[elem+2]), 'L7'] = 1\n",
    "                    if cx_l[elem]>4000 and cx_l[elem]<4500:\n",
    "                        df1.loc[int(cx_l[elem+1]), 'L8'] = 1\n",
    "                        df1.loc[int(cx_l[elem+2]), 'L8'] = 1\n",
    "                    if cx_l[elem]>4500 and cx_l[elem]<5000:\n",
    "                        df1.loc[int(cx_l[elem+1]), 'L9'] = 1\n",
    "                        df1.loc[int(cx_l[elem+2]), 'L9'] = 1\n",
    "                    if cx_l[elem]>5000 and cx_l[elem]<5500:\n",
    "                        df1.loc[int(cx_l[elem+1]), 'L10'] = 1\n",
    "                        df1.loc[int(cx_l[elem+2]), 'L10'] = 1\n",
    "                    if cx_l[elem]>5500 and cx_l[elem]<6000:\n",
    "                        df1.loc[int(cx_l[elem+1]), 'L11'] = 1\n",
    "                        df1.loc[int(cx_l[elem+2]), 'L11'] = 1\n",
    "                    if cx_l[elem]>6000 and cx_l[elem]<6500:\n",
    "                        df1.loc[int(cx_l[elem+1]), 'L12'] = 1\n",
    "                        df1.loc[int(cx_l[elem+2]), 'L12'] = 1\n",
    "                    if cx_l[elem]>6500 and cx_l[elem]<7000:\n",
    "                        df1.loc[int(cx_l[elem+1]), 'L13'] = 1\n",
    "                        df1.loc[int(cx_l[elem+2]), 'L13'] = 1\n",
    "                    if cx_l[elem]>7000 and cx_l[elem]<7500:\n",
    "                        df1.loc[int(cx_l[elem+1]), 'L14'] = 1\n",
    "                        df1.loc[int(cx_l[elem+2]), 'L14'] = 1\n",
    "                    if cx_l[elem]>7500 and cx_l[elem]<8000:\n",
    "                        df1.loc[int(cx_l[elem+1]), 'L15'] = 1\n",
    "                        df1.loc[int(cx_l[elem+2]), 'L15'] = 1\n",
    "                    if cx_l[elem]>8000 and cx_l[elem]<8500:\n",
    "                        df1.loc[int(cx_l[elem+1]), 'L16'] = 1\n",
    "                        df1.loc[int(cx_l[elem+2]), 'L16'] = 1\n",
    "                    if cx_l[elem]>8500 and cx_l[elem]<9000:\n",
    "                        df1.loc[int(cx_l[elem+1]), 'L17'] = 1\n",
    "                        df1.loc[int(cx_l[elem+2]), 'L17'] = 1\n",
    "                    if cx_l[elem]>9000 and cx_l[elem]<9500:\n",
    "                        df1.loc[int(cx_l[elem+1]), 'L18'] = 1\n",
    "                        df1.loc[int(cx_l[elem+2]), 'L18'] = 1\n",
    "                    if cx_l[elem]>9500 and cx_l[elem]<10000:\n",
    "                        df1.loc[int(cx_l[elem+1]), 'L19'] = 1\n",
    "                        df1.loc[int(cx_l[elem+2]), 'L19'] = 1\n",
    "                    if cx_l[elem]>10000 and cx_l[elem]<10500:\n",
    "                        df1.loc[int(cx_l[elem+1]), 'L20'] = 1\n",
    "                        df1.loc[int(cx_l[elem+2]), 'L20'] = 1\n",
    "                    if cx_l[elem]>10500 and cx_l[elem]<11000:\n",
    "                        df1.loc[int(cx_l[elem+1]), 'L21'] = 1\n",
    "                        df1.loc[int(cx_l[elem+2]), 'L21'] = 1\n",
    "                    if cx_l[elem]>11000 and cx_l[elem]<11500:\n",
    "                        df1.loc[int(cx_l[elem+1]), 'L22'] = 1\n",
    "                        df1.loc[int(cx_l[elem+2]), 'L22'] = 1\n",
    "                    if cx_l[elem]>11500 and cx_l[elem]<12000:\n",
    "                        df1.loc[int(cx_l[elem+1]), 'L23'] = 1\n",
    "                        df1.loc[int(cx_l[elem+2]), 'L23'] = 1\n",
    "                    if cx_l[elem]>12500 and cx_l[elem]<13000:\n",
    "                        df1.loc[int(cx_l[elem+1]), 'L24'] = 1\n",
    "                        df1.loc[int(cx_l[elem+2]), 'L24'] = 1\n",
    "                    if cx_l[elem]>13000 and cx_l[elem]<13500:\n",
    "                        df1.loc[int(cx_l[elem+1]), 'L25'] = 1\n",
    "                        df1.loc[int(cx_l[elem+2]), 'L25'] = 1\n",
    "                    if cx_l[elem]>135000 and cx_l[elem]<14000:\n",
    "                        df1.loc[int(cx_l[elem+1]), 'L26'] = 1\n",
    "                        df1.loc[int(cx_l[elem+2]), 'L26'] = 1\n",
    "                    if cx_l[elem]>14000 and cx_l[elem]<14500:\n",
    "                        df1.loc[int(cx_l[elem+1]), 'L27'] = 1\n",
    "                        df1.loc[int(cx_l[elem+2]), 'L27'] = 1\n",
    "                    if cx_l[elem]>14500 and cx_l[elem]<15000:\n",
    "                        df1.loc[int(cx_l[elem+1]), 'L28'] = 1\n",
    "                        df1.loc[int(cx_l[elem+2]), 'L28'] = 1\n",
    "                    if cx_l[elem]>15000 and cx_l[elem]<15500:\n",
    "                        df1.loc[int(cx_l[elem+1]), 'L29'] = 1\n",
    "                        df1.loc[int(cx_l[elem+2]), 'L29'] = 1\n",
    "                    if cx_l[elem]>15500 and cx_l[elem]<16000:\n",
    "                        df1.loc[int(cx_l[elem+1]), 'L30'] = 1\n",
    "                        df1.loc[int(cx_l[elem+2]), 'L30'] = 1\n",
    "                    if cx_l[elem]>16000 and cx_l[elem]<16500:\n",
    "                        df1.loc[int(cx_l[elem+1]), 'L31'] = 1\n",
    "                        df1.loc[int(cx_l[elem+2]), 'L31'] = 1\n",
    "\n",
    "\n",
    "            df1.fillna(0, inplace = True)\n",
    "\n",
    "            #===============================================================data generation==============================================================================#\n",
    "\n",
    "            if os.path.isfile('data_gnn_1.xlsx'):\n",
    "                df2 = pd.read_excel('data_gnn_1.xlsx')\n",
    "\n",
    "            # Append the new dataframe\n",
    "                df2 = df2.append(df1, ignore_index=True)\n",
    "\n",
    "            # Write the dataframe to the excel file\n",
    "                df2.to_excel('data_gnn_1.xlsx', index=False)\n",
    "        # do something\n",
    "            else:\n",
    "                wb = pd.ExcelWriter('data_gnn_1.xlsx')\n",
    "\n",
    "            # Append a dataframe to the workbook\n",
    "            \n",
    "                df1.to_excel(wb, sheet_name='Sheet1', index=False)\n",
    "\n",
    "            # Close the workbook\n",
    "                wb.close()\n",
    "\n",
    "                # df2 = df.append(df1, ignore_index=True)\n",
    "\n",
    "            # Write the dataframe to the excel file\n",
    "                # df2.to_excel('data_new_2.xlsx', index=False)\n",
    "\n",
    "        # Save the workbook\n",
    "            # wb.save(\"data_new_2.xlsx\")\n",
    "\n",
    "            f = str(transpiled_ckt.data)\n",
    "\n",
    "        # fff\n",
    "            list_1 = [] # list of circuit operations\n",
    "            list_2 = [] #list of delays and circuit operations\n",
    "            list_cx = []\n",
    "\n",
    "            cx_n = []\n",
    "            cx_k = []\n",
    "            for k in range(len(list_cx_1)):\n",
    "                # print(len(list_cx_1[k]))\n",
    "                for j in range(len(list_cx_1[k])):\n",
    "                    \n",
    "                    # print(list_cx_1[k][j])\n",
    "                    cx_n.append(list_cx_1[k][j])\n",
    "\n",
    "            for i in range(len(cx_n)):\n",
    "                if i%3 != 0:\n",
    "                    cx_k.append(cx_n[i])\n",
    "\n",
    "            cx_nn = []\n",
    "            for i in range(len(cx_k)):\n",
    "                # print(cx_k[i])\n",
    "                if i%2 == 0:\n",
    "                    cx_nn.append([cx_k[i],cx_k[i+1]])\n",
    "\n",
    "            f2 = f.replace('(', ' ').replace(')', ' ').replace(',','').split(' ')\n",
    "            for j in range(len(f2)):\n",
    "                if f2[j] == 'operation=Instruction':\n",
    "                    # print(f2[j+11])\n",
    "                    list_1.append([f2[j+1],[j+1]])\n",
    "                    if f2[j+1] == \"name='cx'\":\n",
    "                        # print(f2[j+12], f2[j+19])\n",
    "                        list_cx.append([f2[j+12], f2[j+19]])\n",
    "                if f2[j] == 'operation=Delay':\n",
    "                    list_2.append(j+1)\n",
    "            \n",
    "            f = str(transpiled_ckt.data)\n",
    "            list_new = []\n",
    "            list_cx_loc = []\n",
    "            count = 0\n",
    "            # print(type(f.split('('))) f.split('(') is a list\n",
    "            f2 = f.replace('(', ' ').replace(')', ' ').replace(',','').split(' ')\n",
    "            for j in range(len(f2)):\n",
    "                if f2[j] == 'operation=Instruction' or f2[j] == 'operation=Delay':\n",
    "                    # print(f2[j+11])\n",
    "                    list_new.append([f2[j+1],[j+1]])\n",
    "\n",
    "            cx_loc_list = []\n",
    "            for jj in range(len(list_new)):\n",
    "                # print(list_new[jj][0])\n",
    "                if list_new[jj][0] == \"name='cx'\":\n",
    "                    cx_loc_list.append(jj)\n",
    "\n",
    "            some_list = []\n",
    "            ff = transpiled_ckt.op_start_times\n",
    "            for k in range(len(ff)):\n",
    "                if k in cx_loc_list:\n",
    "                    some_list.append(ff[k])\n",
    "\n",
    "            flat_cx_list = list(chain(*list_cx))\n",
    "            flat_cx_list\n",
    "\n",
    "\n",
    "            # for k in range(len(df.columns)):\n",
    "            #     # print(type(df.columns[k]))\n",
    "            #     if df.columns[k] != 'Benchmark' and df.columns[k] != 'Qubit_no':\n",
    "            #         if df.columns[k].replace('L', '') in str(layers):\n",
    "            #             for j in flat_cx_list:\n",
    "            #                 df.loc[int(j), df.columns[k]] = 1\n",
    "\n",
    "            \n",
    "\n",
    "            list_cx_n = []\n",
    "            for k in range(len(cx_nn)):\n",
    "                for kk in range(len(cx_nn[k])):\n",
    "                    # print(type(int(list_cx[k][kk])))\n",
    "                    list_cx_n.append(cx_nn[k][kk])\n",
    "            # list_cx_n\n",
    "            new_list_cx = order_every_two_elements(list_cx_n)\n",
    "\n",
    "            list_cx_final = list(zip(*[iter(new_list_cx)] * 2))\n",
    "            list_cx_final\n",
    "\n",
    "            new_cx = map(tuple, list_cx_final) #must convert to tuple because list is an unhashable type\n",
    "\n",
    "            final_count = Counter(new_cx)\n",
    "            c = 0\n",
    "\n",
    "            #final output:\n",
    "            df_e = pd.DataFrame(columns = ['From', 'To', 'Weight', 'Ckt_no', 'Benchmark'])\n",
    "\n",
    "            r_list = np.array([np.sort(sub) for sub in list_cx_final])\n",
    "        \n",
    "\n",
    "            res = np.unique(np.array([np.sort(sub) for sub in list_cx_final]), axis=0)\n",
    "\n",
    "\n",
    "            for i in range(len(res)):\n",
    "                for j in range(len(res[i])):\n",
    "                    if j%2 == 0:\n",
    "                        df_e.loc[i, 'From'] = res[i][j]\n",
    "                    else:\n",
    "                        df_e.loc[i, 'To'] = res[i][j]\n",
    "\n",
    "            for h, l in enumerate(final_count.items()):\n",
    "                for m in l:\n",
    "                    if type(m) == int:\n",
    "                        df_e.loc[h, 'Weight'] = m\n",
    "\n",
    "            for s, t in enumerate(final_count.items()):\n",
    "                df_e.loc[s, 'Ckt_no'] = str(ckt_no)\n",
    "                df_e.loc[s, 'Benchmark'] = fo+'_lm_'+str(layout)+'_rm_'+str(routing)\n",
    "\n",
    "            # df3 = pd.read_excel('data_edges_new.xlsx')\n",
    "\n",
    "            # # Append the new dataframe\n",
    "            # df3 = df3.append(df_e, ignore_index=True)\n",
    "\n",
    "            # # Write the dataframe to the excel file\n",
    "            # df3.to_excel('data_edges_new.xlsx', index=False)\n",
    "\n",
    "\n",
    "            if os.path.isfile('data_edges_gnn_1.xlsx'):\n",
    "                df3 = pd.read_excel('data_edges_gnn_1.xlsx')\n",
    "\n",
    "            # Append the new dataframe\n",
    "                df3 = df3.append(df_e, ignore_index=True)\n",
    "\n",
    "            # Write the dataframe to the excel file\n",
    "                df3.to_excel('data_edges_gnn_1.xlsx', index=False)\n",
    "        # # do something\n",
    "            else:\n",
    "            #     wb1 = openpyxl.Workbook()\n",
    "\n",
    "            #     wb1.append(df_e, ignore_index=True)\n",
    "\n",
    "            # # Write the dataframe to the excel file\n",
    "            #     df3.to_excel(wb1, index=False)\n",
    "                wb = pd.ExcelWriter('data_edges_gnn_1.xlsx')\n",
    "\n",
    "                # Append a dataframe to the workbook\n",
    "                \n",
    "                df_e.to_excel(wb, sheet_name='Sheet1', index=False)\n",
    "\n",
    "                # Close the workbook\n",
    "                wb.close()\n",
    "\n",
    "        # Save the workbook\n",
    "            # wb.save(\"data_edges_new_1.xlsx\")\n",
    "            \n",
    "            print(\"done\")\n",
    "            ckt_no += 1\n",
    "\n",
    "        "
   ]
  },
  {
   "cell_type": "code",
   "execution_count": 6,
   "metadata": {},
   "outputs": [
    {
     "data": {
      "text/html": [
       "<div>\n",
       "<style scoped>\n",
       "    .dataframe tbody tr th:only-of-type {\n",
       "        vertical-align: middle;\n",
       "    }\n",
       "\n",
       "    .dataframe tbody tr th {\n",
       "        vertical-align: top;\n",
       "    }\n",
       "\n",
       "    .dataframe thead th {\n",
       "        text-align: right;\n",
       "    }\n",
       "</style>\n",
       "<table border=\"1\" class=\"dataframe\">\n",
       "  <thead>\n",
       "    <tr style=\"text-align: right;\">\n",
       "      <th></th>\n",
       "      <th>Benchmark</th>\n",
       "      <th>Qubit_no</th>\n",
       "      <th>L0</th>\n",
       "      <th>L1</th>\n",
       "      <th>L2</th>\n",
       "      <th>L3</th>\n",
       "      <th>L4</th>\n",
       "      <th>L5</th>\n",
       "      <th>L6</th>\n",
       "      <th>L7</th>\n",
       "      <th>...</th>\n",
       "      <th>L22</th>\n",
       "      <th>L23</th>\n",
       "      <th>L24</th>\n",
       "      <th>L25</th>\n",
       "      <th>L26</th>\n",
       "      <th>L27</th>\n",
       "      <th>L28</th>\n",
       "      <th>L29</th>\n",
       "      <th>L30</th>\n",
       "      <th>L31</th>\n",
       "    </tr>\n",
       "  </thead>\n",
       "  <tbody>\n",
       "    <tr>\n",
       "      <th>0</th>\n",
       "      <td>dj_indep_qiskit_11.qasm_lm_dense_rm_lookahead</td>\n",
       "      <td>0</td>\n",
       "      <td>0</td>\n",
       "      <td>0</td>\n",
       "      <td>0</td>\n",
       "      <td>0</td>\n",
       "      <td>0</td>\n",
       "      <td>0</td>\n",
       "      <td>0</td>\n",
       "      <td>0</td>\n",
       "      <td>...</td>\n",
       "      <td>0</td>\n",
       "      <td>0</td>\n",
       "      <td>0</td>\n",
       "      <td>0</td>\n",
       "      <td>0</td>\n",
       "      <td>0</td>\n",
       "      <td>0</td>\n",
       "      <td>0</td>\n",
       "      <td>0</td>\n",
       "      <td>0</td>\n",
       "    </tr>\n",
       "    <tr>\n",
       "      <th>1</th>\n",
       "      <td>dj_indep_qiskit_11.qasm_lm_dense_rm_lookahead</td>\n",
       "      <td>1</td>\n",
       "      <td>0</td>\n",
       "      <td>0</td>\n",
       "      <td>0</td>\n",
       "      <td>0</td>\n",
       "      <td>0</td>\n",
       "      <td>0</td>\n",
       "      <td>0</td>\n",
       "      <td>0</td>\n",
       "      <td>...</td>\n",
       "      <td>0</td>\n",
       "      <td>0</td>\n",
       "      <td>0</td>\n",
       "      <td>0</td>\n",
       "      <td>0</td>\n",
       "      <td>0</td>\n",
       "      <td>0</td>\n",
       "      <td>0</td>\n",
       "      <td>0</td>\n",
       "      <td>0</td>\n",
       "    </tr>\n",
       "    <tr>\n",
       "      <th>2</th>\n",
       "      <td>dj_indep_qiskit_11.qasm_lm_dense_rm_lookahead</td>\n",
       "      <td>2</td>\n",
       "      <td>0</td>\n",
       "      <td>0</td>\n",
       "      <td>0</td>\n",
       "      <td>0</td>\n",
       "      <td>0</td>\n",
       "      <td>0</td>\n",
       "      <td>0</td>\n",
       "      <td>0</td>\n",
       "      <td>...</td>\n",
       "      <td>0</td>\n",
       "      <td>0</td>\n",
       "      <td>0</td>\n",
       "      <td>0</td>\n",
       "      <td>0</td>\n",
       "      <td>0</td>\n",
       "      <td>0</td>\n",
       "      <td>0</td>\n",
       "      <td>0</td>\n",
       "      <td>0</td>\n",
       "    </tr>\n",
       "    <tr>\n",
       "      <th>3</th>\n",
       "      <td>dj_indep_qiskit_11.qasm_lm_dense_rm_lookahead</td>\n",
       "      <td>3</td>\n",
       "      <td>0</td>\n",
       "      <td>0</td>\n",
       "      <td>0</td>\n",
       "      <td>0</td>\n",
       "      <td>0</td>\n",
       "      <td>0</td>\n",
       "      <td>0</td>\n",
       "      <td>0</td>\n",
       "      <td>...</td>\n",
       "      <td>0</td>\n",
       "      <td>0</td>\n",
       "      <td>0</td>\n",
       "      <td>0</td>\n",
       "      <td>0</td>\n",
       "      <td>0</td>\n",
       "      <td>0</td>\n",
       "      <td>0</td>\n",
       "      <td>0</td>\n",
       "      <td>0</td>\n",
       "    </tr>\n",
       "    <tr>\n",
       "      <th>4</th>\n",
       "      <td>dj_indep_qiskit_11.qasm_lm_dense_rm_lookahead</td>\n",
       "      <td>4</td>\n",
       "      <td>0</td>\n",
       "      <td>0</td>\n",
       "      <td>0</td>\n",
       "      <td>0</td>\n",
       "      <td>0</td>\n",
       "      <td>0</td>\n",
       "      <td>0</td>\n",
       "      <td>0</td>\n",
       "      <td>...</td>\n",
       "      <td>0</td>\n",
       "      <td>0</td>\n",
       "      <td>0</td>\n",
       "      <td>0</td>\n",
       "      <td>0</td>\n",
       "      <td>0</td>\n",
       "      <td>0</td>\n",
       "      <td>0</td>\n",
       "      <td>0</td>\n",
       "      <td>0</td>\n",
       "    </tr>\n",
       "    <tr>\n",
       "      <th>5</th>\n",
       "      <td>dj_indep_qiskit_11.qasm_lm_dense_rm_lookahead</td>\n",
       "      <td>5</td>\n",
       "      <td>0</td>\n",
       "      <td>0</td>\n",
       "      <td>0</td>\n",
       "      <td>0</td>\n",
       "      <td>0</td>\n",
       "      <td>0</td>\n",
       "      <td>0</td>\n",
       "      <td>0</td>\n",
       "      <td>...</td>\n",
       "      <td>0</td>\n",
       "      <td>0</td>\n",
       "      <td>0</td>\n",
       "      <td>0</td>\n",
       "      <td>0</td>\n",
       "      <td>0</td>\n",
       "      <td>0</td>\n",
       "      <td>0</td>\n",
       "      <td>0</td>\n",
       "      <td>0</td>\n",
       "    </tr>\n",
       "    <tr>\n",
       "      <th>6</th>\n",
       "      <td>dj_indep_qiskit_11.qasm_lm_dense_rm_lookahead</td>\n",
       "      <td>6</td>\n",
       "      <td>0</td>\n",
       "      <td>0</td>\n",
       "      <td>0</td>\n",
       "      <td>0</td>\n",
       "      <td>0</td>\n",
       "      <td>0</td>\n",
       "      <td>0</td>\n",
       "      <td>0</td>\n",
       "      <td>...</td>\n",
       "      <td>0</td>\n",
       "      <td>0</td>\n",
       "      <td>0</td>\n",
       "      <td>0</td>\n",
       "      <td>0</td>\n",
       "      <td>0</td>\n",
       "      <td>0</td>\n",
       "      <td>0</td>\n",
       "      <td>0</td>\n",
       "      <td>0</td>\n",
       "    </tr>\n",
       "    <tr>\n",
       "      <th>7</th>\n",
       "      <td>dj_indep_qiskit_11.qasm_lm_dense_rm_lookahead</td>\n",
       "      <td>7</td>\n",
       "      <td>0</td>\n",
       "      <td>0</td>\n",
       "      <td>0</td>\n",
       "      <td>0</td>\n",
       "      <td>0</td>\n",
       "      <td>0</td>\n",
       "      <td>0</td>\n",
       "      <td>0</td>\n",
       "      <td>...</td>\n",
       "      <td>0</td>\n",
       "      <td>0</td>\n",
       "      <td>0</td>\n",
       "      <td>0</td>\n",
       "      <td>0</td>\n",
       "      <td>0</td>\n",
       "      <td>0</td>\n",
       "      <td>0</td>\n",
       "      <td>0</td>\n",
       "      <td>0</td>\n",
       "    </tr>\n",
       "    <tr>\n",
       "      <th>8</th>\n",
       "      <td>dj_indep_qiskit_11.qasm_lm_dense_rm_lookahead</td>\n",
       "      <td>8</td>\n",
       "      <td>0</td>\n",
       "      <td>0</td>\n",
       "      <td>0</td>\n",
       "      <td>0</td>\n",
       "      <td>0</td>\n",
       "      <td>0</td>\n",
       "      <td>0</td>\n",
       "      <td>0</td>\n",
       "      <td>...</td>\n",
       "      <td>0</td>\n",
       "      <td>1</td>\n",
       "      <td>0</td>\n",
       "      <td>0</td>\n",
       "      <td>0</td>\n",
       "      <td>0</td>\n",
       "      <td>0</td>\n",
       "      <td>1</td>\n",
       "      <td>0</td>\n",
       "      <td>0</td>\n",
       "    </tr>\n",
       "    <tr>\n",
       "      <th>9</th>\n",
       "      <td>dj_indep_qiskit_11.qasm_lm_dense_rm_lookahead</td>\n",
       "      <td>9</td>\n",
       "      <td>0</td>\n",
       "      <td>0</td>\n",
       "      <td>0</td>\n",
       "      <td>0</td>\n",
       "      <td>0</td>\n",
       "      <td>0</td>\n",
       "      <td>0</td>\n",
       "      <td>0</td>\n",
       "      <td>...</td>\n",
       "      <td>0</td>\n",
       "      <td>1</td>\n",
       "      <td>0</td>\n",
       "      <td>0</td>\n",
       "      <td>0</td>\n",
       "      <td>0</td>\n",
       "      <td>0</td>\n",
       "      <td>1</td>\n",
       "      <td>0</td>\n",
       "      <td>0</td>\n",
       "    </tr>\n",
       "    <tr>\n",
       "      <th>10</th>\n",
       "      <td>dj_indep_qiskit_11.qasm_lm_dense_rm_lookahead</td>\n",
       "      <td>10</td>\n",
       "      <td>0</td>\n",
       "      <td>0</td>\n",
       "      <td>0</td>\n",
       "      <td>0</td>\n",
       "      <td>0</td>\n",
       "      <td>0</td>\n",
       "      <td>0</td>\n",
       "      <td>0</td>\n",
       "      <td>...</td>\n",
       "      <td>0</td>\n",
       "      <td>0</td>\n",
       "      <td>0</td>\n",
       "      <td>0</td>\n",
       "      <td>0</td>\n",
       "      <td>0</td>\n",
       "      <td>0</td>\n",
       "      <td>0</td>\n",
       "      <td>0</td>\n",
       "      <td>0</td>\n",
       "    </tr>\n",
       "    <tr>\n",
       "      <th>11</th>\n",
       "      <td>dj_indep_qiskit_11.qasm_lm_dense_rm_lookahead</td>\n",
       "      <td>11</td>\n",
       "      <td>0</td>\n",
       "      <td>0</td>\n",
       "      <td>0</td>\n",
       "      <td>0</td>\n",
       "      <td>0</td>\n",
       "      <td>0</td>\n",
       "      <td>0</td>\n",
       "      <td>0</td>\n",
       "      <td>...</td>\n",
       "      <td>0</td>\n",
       "      <td>0</td>\n",
       "      <td>0</td>\n",
       "      <td>0</td>\n",
       "      <td>0</td>\n",
       "      <td>0</td>\n",
       "      <td>0</td>\n",
       "      <td>0</td>\n",
       "      <td>1</td>\n",
       "      <td>0</td>\n",
       "    </tr>\n",
       "    <tr>\n",
       "      <th>12</th>\n",
       "      <td>dj_indep_qiskit_11.qasm_lm_dense_rm_lookahead</td>\n",
       "      <td>12</td>\n",
       "      <td>1</td>\n",
       "      <td>0</td>\n",
       "      <td>0</td>\n",
       "      <td>1</td>\n",
       "      <td>0</td>\n",
       "      <td>0</td>\n",
       "      <td>0</td>\n",
       "      <td>1</td>\n",
       "      <td>...</td>\n",
       "      <td>0</td>\n",
       "      <td>0</td>\n",
       "      <td>0</td>\n",
       "      <td>0</td>\n",
       "      <td>0</td>\n",
       "      <td>0</td>\n",
       "      <td>0</td>\n",
       "      <td>0</td>\n",
       "      <td>0</td>\n",
       "      <td>0</td>\n",
       "    </tr>\n",
       "    <tr>\n",
       "      <th>13</th>\n",
       "      <td>dj_indep_qiskit_11.qasm_lm_dense_rm_lookahead</td>\n",
       "      <td>13</td>\n",
       "      <td>1</td>\n",
       "      <td>0</td>\n",
       "      <td>0</td>\n",
       "      <td>1</td>\n",
       "      <td>0</td>\n",
       "      <td>0</td>\n",
       "      <td>0</td>\n",
       "      <td>1</td>\n",
       "      <td>...</td>\n",
       "      <td>0</td>\n",
       "      <td>0</td>\n",
       "      <td>0</td>\n",
       "      <td>0</td>\n",
       "      <td>0</td>\n",
       "      <td>0</td>\n",
       "      <td>0</td>\n",
       "      <td>0</td>\n",
       "      <td>0</td>\n",
       "      <td>0</td>\n",
       "    </tr>\n",
       "    <tr>\n",
       "      <th>14</th>\n",
       "      <td>dj_indep_qiskit_11.qasm_lm_dense_rm_lookahead</td>\n",
       "      <td>14</td>\n",
       "      <td>0</td>\n",
       "      <td>1</td>\n",
       "      <td>0</td>\n",
       "      <td>0</td>\n",
       "      <td>0</td>\n",
       "      <td>1</td>\n",
       "      <td>0</td>\n",
       "      <td>0</td>\n",
       "      <td>...</td>\n",
       "      <td>0</td>\n",
       "      <td>0</td>\n",
       "      <td>0</td>\n",
       "      <td>0</td>\n",
       "      <td>0</td>\n",
       "      <td>0</td>\n",
       "      <td>0</td>\n",
       "      <td>0</td>\n",
       "      <td>1</td>\n",
       "      <td>0</td>\n",
       "    </tr>\n",
       "    <tr>\n",
       "      <th>15</th>\n",
       "      <td>dj_indep_qiskit_11.qasm_lm_dense_rm_lookahead</td>\n",
       "      <td>15</td>\n",
       "      <td>0</td>\n",
       "      <td>0</td>\n",
       "      <td>0</td>\n",
       "      <td>0</td>\n",
       "      <td>0</td>\n",
       "      <td>0</td>\n",
       "      <td>0</td>\n",
       "      <td>0</td>\n",
       "      <td>...</td>\n",
       "      <td>0</td>\n",
       "      <td>0</td>\n",
       "      <td>0</td>\n",
       "      <td>0</td>\n",
       "      <td>0</td>\n",
       "      <td>0</td>\n",
       "      <td>0</td>\n",
       "      <td>0</td>\n",
       "      <td>0</td>\n",
       "      <td>0</td>\n",
       "    </tr>\n",
       "    <tr>\n",
       "      <th>16</th>\n",
       "      <td>dj_indep_qiskit_11.qasm_lm_dense_rm_lookahead</td>\n",
       "      <td>16</td>\n",
       "      <td>0</td>\n",
       "      <td>1</td>\n",
       "      <td>0</td>\n",
       "      <td>0</td>\n",
       "      <td>0</td>\n",
       "      <td>1</td>\n",
       "      <td>0</td>\n",
       "      <td>0</td>\n",
       "      <td>...</td>\n",
       "      <td>0</td>\n",
       "      <td>0</td>\n",
       "      <td>0</td>\n",
       "      <td>0</td>\n",
       "      <td>0</td>\n",
       "      <td>0</td>\n",
       "      <td>0</td>\n",
       "      <td>0</td>\n",
       "      <td>0</td>\n",
       "      <td>0</td>\n",
       "    </tr>\n",
       "    <tr>\n",
       "      <th>17</th>\n",
       "      <td>dj_indep_qiskit_11.qasm_lm_dense_rm_lookahead</td>\n",
       "      <td>17</td>\n",
       "      <td>0</td>\n",
       "      <td>0</td>\n",
       "      <td>0</td>\n",
       "      <td>0</td>\n",
       "      <td>0</td>\n",
       "      <td>0</td>\n",
       "      <td>0</td>\n",
       "      <td>0</td>\n",
       "      <td>...</td>\n",
       "      <td>0</td>\n",
       "      <td>0</td>\n",
       "      <td>0</td>\n",
       "      <td>0</td>\n",
       "      <td>0</td>\n",
       "      <td>0</td>\n",
       "      <td>0</td>\n",
       "      <td>0</td>\n",
       "      <td>0</td>\n",
       "      <td>0</td>\n",
       "    </tr>\n",
       "    <tr>\n",
       "      <th>18</th>\n",
       "      <td>dj_indep_qiskit_11.qasm_lm_dense_rm_lookahead</td>\n",
       "      <td>18</td>\n",
       "      <td>0</td>\n",
       "      <td>0</td>\n",
       "      <td>0</td>\n",
       "      <td>0</td>\n",
       "      <td>0</td>\n",
       "      <td>0</td>\n",
       "      <td>0</td>\n",
       "      <td>0</td>\n",
       "      <td>...</td>\n",
       "      <td>0</td>\n",
       "      <td>0</td>\n",
       "      <td>0</td>\n",
       "      <td>0</td>\n",
       "      <td>0</td>\n",
       "      <td>0</td>\n",
       "      <td>0</td>\n",
       "      <td>0</td>\n",
       "      <td>0</td>\n",
       "      <td>0</td>\n",
       "    </tr>\n",
       "    <tr>\n",
       "      <th>19</th>\n",
       "      <td>dj_indep_qiskit_11.qasm_lm_dense_rm_lookahead</td>\n",
       "      <td>19</td>\n",
       "      <td>0</td>\n",
       "      <td>0</td>\n",
       "      <td>0</td>\n",
       "      <td>0</td>\n",
       "      <td>0</td>\n",
       "      <td>0</td>\n",
       "      <td>0</td>\n",
       "      <td>0</td>\n",
       "      <td>...</td>\n",
       "      <td>0</td>\n",
       "      <td>0</td>\n",
       "      <td>0</td>\n",
       "      <td>0</td>\n",
       "      <td>0</td>\n",
       "      <td>0</td>\n",
       "      <td>0</td>\n",
       "      <td>0</td>\n",
       "      <td>0</td>\n",
       "      <td>0</td>\n",
       "    </tr>\n",
       "    <tr>\n",
       "      <th>20</th>\n",
       "      <td>dj_indep_qiskit_11.qasm_lm_dense_rm_lookahead</td>\n",
       "      <td>20</td>\n",
       "      <td>0</td>\n",
       "      <td>0</td>\n",
       "      <td>0</td>\n",
       "      <td>0</td>\n",
       "      <td>0</td>\n",
       "      <td>0</td>\n",
       "      <td>0</td>\n",
       "      <td>0</td>\n",
       "      <td>...</td>\n",
       "      <td>0</td>\n",
       "      <td>0</td>\n",
       "      <td>0</td>\n",
       "      <td>0</td>\n",
       "      <td>0</td>\n",
       "      <td>0</td>\n",
       "      <td>0</td>\n",
       "      <td>0</td>\n",
       "      <td>0</td>\n",
       "      <td>0</td>\n",
       "    </tr>\n",
       "    <tr>\n",
       "      <th>21</th>\n",
       "      <td>dj_indep_qiskit_11.qasm_lm_dense_rm_lookahead</td>\n",
       "      <td>21</td>\n",
       "      <td>0</td>\n",
       "      <td>0</td>\n",
       "      <td>0</td>\n",
       "      <td>0</td>\n",
       "      <td>0</td>\n",
       "      <td>0</td>\n",
       "      <td>0</td>\n",
       "      <td>0</td>\n",
       "      <td>...</td>\n",
       "      <td>0</td>\n",
       "      <td>0</td>\n",
       "      <td>0</td>\n",
       "      <td>0</td>\n",
       "      <td>0</td>\n",
       "      <td>0</td>\n",
       "      <td>0</td>\n",
       "      <td>0</td>\n",
       "      <td>0</td>\n",
       "      <td>0</td>\n",
       "    </tr>\n",
       "    <tr>\n",
       "      <th>22</th>\n",
       "      <td>dj_indep_qiskit_11.qasm_lm_dense_rm_lookahead</td>\n",
       "      <td>22</td>\n",
       "      <td>0</td>\n",
       "      <td>0</td>\n",
       "      <td>0</td>\n",
       "      <td>0</td>\n",
       "      <td>0</td>\n",
       "      <td>0</td>\n",
       "      <td>0</td>\n",
       "      <td>0</td>\n",
       "      <td>...</td>\n",
       "      <td>0</td>\n",
       "      <td>0</td>\n",
       "      <td>0</td>\n",
       "      <td>0</td>\n",
       "      <td>0</td>\n",
       "      <td>0</td>\n",
       "      <td>0</td>\n",
       "      <td>0</td>\n",
       "      <td>0</td>\n",
       "      <td>0</td>\n",
       "    </tr>\n",
       "    <tr>\n",
       "      <th>23</th>\n",
       "      <td>dj_indep_qiskit_11.qasm_lm_dense_rm_lookahead</td>\n",
       "      <td>23</td>\n",
       "      <td>0</td>\n",
       "      <td>0</td>\n",
       "      <td>0</td>\n",
       "      <td>0</td>\n",
       "      <td>0</td>\n",
       "      <td>0</td>\n",
       "      <td>0</td>\n",
       "      <td>0</td>\n",
       "      <td>...</td>\n",
       "      <td>0</td>\n",
       "      <td>0</td>\n",
       "      <td>0</td>\n",
       "      <td>0</td>\n",
       "      <td>0</td>\n",
       "      <td>0</td>\n",
       "      <td>0</td>\n",
       "      <td>0</td>\n",
       "      <td>0</td>\n",
       "      <td>0</td>\n",
       "    </tr>\n",
       "    <tr>\n",
       "      <th>24</th>\n",
       "      <td>dj_indep_qiskit_11.qasm_lm_dense_rm_lookahead</td>\n",
       "      <td>24</td>\n",
       "      <td>0</td>\n",
       "      <td>0</td>\n",
       "      <td>0</td>\n",
       "      <td>0</td>\n",
       "      <td>0</td>\n",
       "      <td>0</td>\n",
       "      <td>0</td>\n",
       "      <td>0</td>\n",
       "      <td>...</td>\n",
       "      <td>0</td>\n",
       "      <td>0</td>\n",
       "      <td>0</td>\n",
       "      <td>0</td>\n",
       "      <td>0</td>\n",
       "      <td>0</td>\n",
       "      <td>0</td>\n",
       "      <td>0</td>\n",
       "      <td>0</td>\n",
       "      <td>0</td>\n",
       "    </tr>\n",
       "    <tr>\n",
       "      <th>25</th>\n",
       "      <td>dj_indep_qiskit_11.qasm_lm_dense_rm_lookahead</td>\n",
       "      <td>25</td>\n",
       "      <td>0</td>\n",
       "      <td>0</td>\n",
       "      <td>0</td>\n",
       "      <td>0</td>\n",
       "      <td>0</td>\n",
       "      <td>0</td>\n",
       "      <td>0</td>\n",
       "      <td>0</td>\n",
       "      <td>...</td>\n",
       "      <td>0</td>\n",
       "      <td>0</td>\n",
       "      <td>0</td>\n",
       "      <td>0</td>\n",
       "      <td>0</td>\n",
       "      <td>0</td>\n",
       "      <td>0</td>\n",
       "      <td>0</td>\n",
       "      <td>0</td>\n",
       "      <td>0</td>\n",
       "    </tr>\n",
       "    <tr>\n",
       "      <th>26</th>\n",
       "      <td>dj_indep_qiskit_11.qasm_lm_dense_rm_lookahead</td>\n",
       "      <td>26</td>\n",
       "      <td>0</td>\n",
       "      <td>0</td>\n",
       "      <td>0</td>\n",
       "      <td>0</td>\n",
       "      <td>0</td>\n",
       "      <td>0</td>\n",
       "      <td>0</td>\n",
       "      <td>0</td>\n",
       "      <td>...</td>\n",
       "      <td>0</td>\n",
       "      <td>0</td>\n",
       "      <td>0</td>\n",
       "      <td>0</td>\n",
       "      <td>0</td>\n",
       "      <td>0</td>\n",
       "      <td>0</td>\n",
       "      <td>0</td>\n",
       "      <td>0</td>\n",
       "      <td>0</td>\n",
       "    </tr>\n",
       "  </tbody>\n",
       "</table>\n",
       "<p>27 rows × 34 columns</p>\n",
       "</div>"
      ],
      "text/plain": [
       "                                        Benchmark  Qubit_no  L0  L1  L2  L3  \\\n",
       "0   dj_indep_qiskit_11.qasm_lm_dense_rm_lookahead         0   0   0   0   0   \n",
       "1   dj_indep_qiskit_11.qasm_lm_dense_rm_lookahead         1   0   0   0   0   \n",
       "2   dj_indep_qiskit_11.qasm_lm_dense_rm_lookahead         2   0   0   0   0   \n",
       "3   dj_indep_qiskit_11.qasm_lm_dense_rm_lookahead         3   0   0   0   0   \n",
       "4   dj_indep_qiskit_11.qasm_lm_dense_rm_lookahead         4   0   0   0   0   \n",
       "5   dj_indep_qiskit_11.qasm_lm_dense_rm_lookahead         5   0   0   0   0   \n",
       "6   dj_indep_qiskit_11.qasm_lm_dense_rm_lookahead         6   0   0   0   0   \n",
       "7   dj_indep_qiskit_11.qasm_lm_dense_rm_lookahead         7   0   0   0   0   \n",
       "8   dj_indep_qiskit_11.qasm_lm_dense_rm_lookahead         8   0   0   0   0   \n",
       "9   dj_indep_qiskit_11.qasm_lm_dense_rm_lookahead         9   0   0   0   0   \n",
       "10  dj_indep_qiskit_11.qasm_lm_dense_rm_lookahead        10   0   0   0   0   \n",
       "11  dj_indep_qiskit_11.qasm_lm_dense_rm_lookahead        11   0   0   0   0   \n",
       "12  dj_indep_qiskit_11.qasm_lm_dense_rm_lookahead        12   1   0   0   1   \n",
       "13  dj_indep_qiskit_11.qasm_lm_dense_rm_lookahead        13   1   0   0   1   \n",
       "14  dj_indep_qiskit_11.qasm_lm_dense_rm_lookahead        14   0   1   0   0   \n",
       "15  dj_indep_qiskit_11.qasm_lm_dense_rm_lookahead        15   0   0   0   0   \n",
       "16  dj_indep_qiskit_11.qasm_lm_dense_rm_lookahead        16   0   1   0   0   \n",
       "17  dj_indep_qiskit_11.qasm_lm_dense_rm_lookahead        17   0   0   0   0   \n",
       "18  dj_indep_qiskit_11.qasm_lm_dense_rm_lookahead        18   0   0   0   0   \n",
       "19  dj_indep_qiskit_11.qasm_lm_dense_rm_lookahead        19   0   0   0   0   \n",
       "20  dj_indep_qiskit_11.qasm_lm_dense_rm_lookahead        20   0   0   0   0   \n",
       "21  dj_indep_qiskit_11.qasm_lm_dense_rm_lookahead        21   0   0   0   0   \n",
       "22  dj_indep_qiskit_11.qasm_lm_dense_rm_lookahead        22   0   0   0   0   \n",
       "23  dj_indep_qiskit_11.qasm_lm_dense_rm_lookahead        23   0   0   0   0   \n",
       "24  dj_indep_qiskit_11.qasm_lm_dense_rm_lookahead        24   0   0   0   0   \n",
       "25  dj_indep_qiskit_11.qasm_lm_dense_rm_lookahead        25   0   0   0   0   \n",
       "26  dj_indep_qiskit_11.qasm_lm_dense_rm_lookahead        26   0   0   0   0   \n",
       "\n",
       "    L4  L5  L6  L7  ...  L22  L23  L24  L25  L26  L27  L28  L29  L30  L31  \n",
       "0    0   0   0   0  ...    0    0    0    0    0    0    0    0    0    0  \n",
       "1    0   0   0   0  ...    0    0    0    0    0    0    0    0    0    0  \n",
       "2    0   0   0   0  ...    0    0    0    0    0    0    0    0    0    0  \n",
       "3    0   0   0   0  ...    0    0    0    0    0    0    0    0    0    0  \n",
       "4    0   0   0   0  ...    0    0    0    0    0    0    0    0    0    0  \n",
       "5    0   0   0   0  ...    0    0    0    0    0    0    0    0    0    0  \n",
       "6    0   0   0   0  ...    0    0    0    0    0    0    0    0    0    0  \n",
       "7    0   0   0   0  ...    0    0    0    0    0    0    0    0    0    0  \n",
       "8    0   0   0   0  ...    0    1    0    0    0    0    0    1    0    0  \n",
       "9    0   0   0   0  ...    0    1    0    0    0    0    0    1    0    0  \n",
       "10   0   0   0   0  ...    0    0    0    0    0    0    0    0    0    0  \n",
       "11   0   0   0   0  ...    0    0    0    0    0    0    0    0    1    0  \n",
       "12   0   0   0   1  ...    0    0    0    0    0    0    0    0    0    0  \n",
       "13   0   0   0   1  ...    0    0    0    0    0    0    0    0    0    0  \n",
       "14   0   1   0   0  ...    0    0    0    0    0    0    0    0    1    0  \n",
       "15   0   0   0   0  ...    0    0    0    0    0    0    0    0    0    0  \n",
       "16   0   1   0   0  ...    0    0    0    0    0    0    0    0    0    0  \n",
       "17   0   0   0   0  ...    0    0    0    0    0    0    0    0    0    0  \n",
       "18   0   0   0   0  ...    0    0    0    0    0    0    0    0    0    0  \n",
       "19   0   0   0   0  ...    0    0    0    0    0    0    0    0    0    0  \n",
       "20   0   0   0   0  ...    0    0    0    0    0    0    0    0    0    0  \n",
       "21   0   0   0   0  ...    0    0    0    0    0    0    0    0    0    0  \n",
       "22   0   0   0   0  ...    0    0    0    0    0    0    0    0    0    0  \n",
       "23   0   0   0   0  ...    0    0    0    0    0    0    0    0    0    0  \n",
       "24   0   0   0   0  ...    0    0    0    0    0    0    0    0    0    0  \n",
       "25   0   0   0   0  ...    0    0    0    0    0    0    0    0    0    0  \n",
       "26   0   0   0   0  ...    0    0    0    0    0    0    0    0    0    0  \n",
       "\n",
       "[27 rows x 34 columns]"
      ]
     },
     "execution_count": 6,
     "metadata": {},
     "output_type": "execute_result"
    }
   ],
   "source": [
    "df1"
   ]
  }
 ],
 "metadata": {
  "kernelspec": {
   "display_name": "base",
   "language": "python",
   "name": "python3"
  },
  "language_info": {
   "codemirror_mode": {
    "name": "ipython",
    "version": 3
   },
   "file_extension": ".py",
   "mimetype": "text/x-python",
   "name": "python",
   "nbconvert_exporter": "python",
   "pygments_lexer": "ipython3",
   "version": "3.9.13"
  },
  "orig_nbformat": 4
 },
 "nbformat": 4,
 "nbformat_minor": 2
}
