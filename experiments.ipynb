{
 "cells": [
  {
   "cell_type": "code",
   "execution_count": 1,
   "metadata": {},
   "outputs": [],
   "source": [
    "import pandas as pd\n",
    "import numpy as np\n",
    "import pickle\n",
    "\n",
    "# Importing standard Qiskit libraries\n",
    "from qiskit import QuantumCircuit\n",
    "from qiskit.compiler import transpile\n",
    "from qiskit.tools.jupyter import *\n",
    "\n",
    "from qiskit_ibm_provider import IBMProvider\n",
    "from qiskit_ibm_runtime.options import Options\n",
    "from datetime import datetime\n",
    "from qiskit import visualization\n",
    "from qiskit.tools.monitor import job_monitor\n",
    "\n",
    "## For DD exps\n",
    "from qiskit.transpiler import PassManager, InstructionDurations\n",
    "from qiskit.transpiler.passes import ALAPScheduleAnalysis, PadDynamicalDecoupling, DynamicalDecoupling, ASAPScheduleAnalysis\n",
    "from qiskit.circuit.library import XGate\n",
    "from qiskit.visualization import timeline_drawer\n",
    "\n",
    "from collections import defaultdict\n",
    "from itertools import combinations\n",
    "\n",
    "##for plotting\n",
    "from matplotlib import pyplot as plt\n",
    "import seaborn as sns\n",
    "\n",
    "from math import pi"
   ]
  },
  {
   "cell_type": "code",
   "execution_count": 2,
   "metadata": {},
   "outputs": [],
   "source": [
    "try:\n",
    "    print(provider)\n",
    "except NameError:\n",
    "    provider = IBMProvider(instance='ibm-q-cqe/uw-madison/tannu-project')"
   ]
  },
  {
   "cell_type": "code",
   "execution_count": 3,
   "metadata": {},
   "outputs": [],
   "source": [
    "## Configuring the IBM backend \n",
    "\n",
    "# HUB, GROUP, PROJECT = ['ibm-q-cqe', 'uw-madison', 'tannu-project']\n",
    "# HUB, GROUP, PROJECT = ['ibm-q-cqe', 'internal', 'reservations']\n",
    "\n",
    "backends = ['ibm_lagos', 'ibm_perth', 'ibm_nairobi']\n",
    "backend_name = backends[0]"
   ]
  },
  {
   "cell_type": "code",
   "execution_count": 4,
   "metadata": {},
   "outputs": [],
   "source": [
    "backend = provider.get_backend(backend_name)"
   ]
  },
  {
   "cell_type": "code",
   "execution_count": 5,
   "metadata": {},
   "outputs": [],
   "source": [
    "global_snoop_jobs= defaultdict(list)\n",
    "\n",
    "victim_qubs = [1,3,5]\n",
    "snooping_qubits = [0,2,4,6]"
   ]
  },
  {
   "cell_type": "code",
   "execution_count": 6,
   "metadata": {},
   "outputs": [],
   "source": [
    "cm = backend.configuration().coupling_map\n",
    "cnot_pos = list(filter(lambda k: k[0] in victim_qubs and k[1] in victim_qubs, cm))"
   ]
  },
  {
   "cell_type": "code",
   "execution_count": 7,
   "metadata": {},
   "outputs": [],
   "source": [
    "## Circuits for characterisation of CNOTs by measuring the impact only after CNOTs are applied\n",
    "\n",
    "def circ_gen_with_barrier(victim_qubs, snooping_qubits, cm=cm, swap_circ=True, max_depth=4):\n",
    "    cnot_pos = list(filter(lambda k: k[0] in victim_qubs and k[1] in victim_qubs, cm))\n",
    "    circs_final = {}\n",
    "    num_qubits = 7\n",
    "    for depth in range(1,max_depth+1):\n",
    "        circs = []\n",
    "        combs = list(combinations(cnot_pos, depth))\n",
    "        for comb in combs:\n",
    "            circ = QuantumCircuit(num_qubits,num_qubits)\n",
    "            for vic_qub in victim_qubs:\n",
    "                circ.rz(pi/2, vic_qub)\n",
    "                circ.sx(vic_qub)\n",
    "                circ.rz(pi/2, vic_qub)\n",
    "            circ.barrier()\n",
    "            for control, target in comb:\n",
    "                if swap_circ:\n",
    "                    circ.cx(control, target)\n",
    "                    circ.cx(target, control)\n",
    "                    circ.cx(control, target)\n",
    "                else:\n",
    "                    circ.cx(control, target)\n",
    "            circ.barrier()\n",
    "            for vic_qub in victim_qubs:\n",
    "                circ.rz(pi/2, vic_qub)\n",
    "                circ.sx(vic_qub)\n",
    "                circ.rz(pi/2, vic_qub)\n",
    "            circ.barrier()\n",
    "            circ.measure(snooping_qubits, snooping_qubits)\n",
    "            circ.barrier()\n",
    "            circs.append(circ)\n",
    "        circs_final[depth] = circs\n",
    "    return circs_final"
   ]
  },
  {
   "cell_type": "code",
   "execution_count": 8,
   "metadata": {},
   "outputs": [],
   "source": [
    "## Circuits for characterisation of CNOTs by measuring snooping qubits while CNOTs are being applied\n",
    "\n",
    "def circ_gen_without_barrier(victim_qubs, snooping_qubits, cm=cm, swap_circ=True, max_depth=4):\n",
    "    cnot_pos = list(filter(lambda k: k[0] in victim_qubs and k[1] in victim_qubs, cm))\n",
    "    circs_final = {}\n",
    "    num_qubits = 7\n",
    "    for depth in range(1,max_depth+1):\n",
    "        circs = []\n",
    "        combs = list(combinations(cnot_pos, depth))\n",
    "        for comb in combs:\n",
    "            circ = QuantumCircuit(num_qubits,num_qubits)\n",
    "            for vic_qub in victim_qubs:\n",
    "                circ.rz(pi/2, vic_qub)\n",
    "                circ.sx(vic_qub)\n",
    "                circ.rz(pi/2, vic_qub)\n",
    "            for control, target in comb:\n",
    "                if swap_circ:\n",
    "                    circ.cx(control, target)\n",
    "                    circ.cx(target, control)\n",
    "                    circ.cx(control, target)\n",
    "                else:\n",
    "                    circ.cx(control, target)\n",
    "            for vic_qub in victim_qubs:\n",
    "                circ.rz(pi/2, vic_qub)\n",
    "                circ.sx(vic_qub)\n",
    "                circ.rz(pi/2, vic_qub)\n",
    "            circ.measure(snooping_qubits, snooping_qubits)\n",
    "            circs.append(circ)\n",
    "        circs_final[depth] = circs\n",
    "    return circs_final"
   ]
  },
  {
   "cell_type": "code",
   "execution_count": 9,
   "metadata": {},
   "outputs": [],
   "source": [
    "## Circuits to measure periodically to match attack model\n",
    "def circ_gen_multiple_meas(victim_qubs, snooping_qubits, cm=cm, swap_circ=False, max_depth=4):\n",
    "    cnot_pos = list(filter(lambda k: k[0] in victim_qubs and k[1] in victim_qubs, cm))\n",
    "    circs_final = {}\n",
    "    num_qubits = 7\n",
    "    for depth in range(1, max_depth+1):\n",
    "        circs = []\n",
    "        combs = list(combinations(cnot_pos, depth))\n",
    "        for comb in combs:\n",
    "            circ = QuantumCircuit(num_qubits,num_qubits*4)\n",
    "            for itr in range(4):\n",
    "                for vic_qub in victim_qubs:\n",
    "                    circ.rz(pi/2, vic_qub)\n",
    "                    circ.sx(vic_qub)\n",
    "                    circ.rz(pi/2, vic_qub)\n",
    "\n",
    "                for control, target in comb:\n",
    "                    if swap_circ:\n",
    "                        circ.cx(control, target)\n",
    "                        circ.cx(target, control)\n",
    "                        circ.cx(control, target)\n",
    "                    else:\n",
    "                        circ.cx(control, target)\n",
    "\n",
    "                for vic_qub in victim_qubs:\n",
    "                    circ.rz(pi/2, vic_qub)\n",
    "                    circ.sx(vic_qub)\n",
    "                    circ.rz(pi/2, vic_qub)\n",
    "\n",
    "                for qubit in snooping_qubits:\n",
    "                    circ.delay(480, qubit)\n",
    "                    circ.measure(qubit, qubit + itr*num_qubits)\n",
    "            circs.append(circ)\n",
    "        circs_final[depth] = circs\n",
    "    return circs_final"
   ]
  },
  {
   "cell_type": "code",
   "execution_count": 10,
   "metadata": {},
   "outputs": [],
   "source": [
    "def dd_circ_generation(victim_qubs, snooping_qubits, cm=cm, swap_circ=False):\n",
    "    cnot_pos = list(filter(lambda k: k[0] in victim_qubs and k[1] in victim_qubs, cm))\n",
    "    circs_final = {}\n",
    "    num_qubits = 7\n",
    "    for depth in [1,2,3,4]:\n",
    "        circs = []\n",
    "        combs = list(combinations(cnot_pos, depth))\n",
    "        for comb in combs:\n",
    "            circ = QuantumCircuit(num_qubits,num_qubits*4)\n",
    "            \n",
    "            for vic_qub in victim_qubs:\n",
    "                circ.rz(pi/2, vic_qub)\n",
    "                circ.sx(vic_qub)\n",
    "                circ.rz(pi/2, vic_qub)\n",
    "            for control, target in comb:\n",
    "                if swap_circ:\n",
    "                    circ.cx(control, target)\n",
    "                    circ.cx(target, control)\n",
    "                    circ.cx(control, target)\n",
    "                else:\n",
    "                    circ.cx(control, target)\n",
    "            for vic_qub in victim_qubs:\n",
    "                circ.rz(pi/2, vic_qub)\n",
    "                circ.sx(vic_qub)\n",
    "                circ.rz(pi/2, vic_qub)\n",
    "            for times in range(4):\n",
    "                for qubit in snooping_qubits:\n",
    "                    circ.delay(480, qubit)\n",
    "                circ.measure(snooping_qubits, snooping_qubits)\n",
    "            circs.append(circ)\n",
    "        circs_final[depth] = circs\n",
    "    return circs_final"
   ]
  },
  {
   "cell_type": "code",
   "execution_count": 11,
   "metadata": {},
   "outputs": [
    {
     "name": "stdout",
     "output_type": "stream",
     "text": [
      "[['cx', [1, 3], 1504], ['cx', [3, 1], 1344], ['cx', [3, 5], 4320], ['cx', [5, 3], 4480], ['measure', [0], 3552], ['x', [0], 160], ['reset', [0], 4896], ['id', [0], 160], ['rz', [0], 0], ['sx', [0], 160], ['measure', [1], 3552], ['x', [1], 160], ['reset', [1], 4896], ['id', [1], 160], ['rz', [1], 0], ['sx', [1], 160], ['measure', [2], 3552], ['x', [2], 160], ['reset', [2], 4864], ['id', [2], 160], ['rz', [2], 0], ['sx', [2], 160], ['measure', [3], 3552], ['x', [3], 160], ['reset', [3], 3712], ['id', [3], 160], ['rz', [3], 0], ['sx', [3], 160], ['measure', [4], 3552], ['x', [4], 160], ['reset', [4], 4896], ['id', [4], 160], ['rz', [4], 0], ['sx', [4], 160], ['measure', [5], 3552], ['x', [5], 160], ['reset', [5], 3712], ['id', [5], 160], ['rz', [5], 0], ['sx', [5], 160], ['measure', [6], 3552], ['x', [6], 160], ['reset', [6], 4832], ['id', [6], 160], ['rz', [6], 0], ['sx', [6], 160]]\n"
     ]
    },
    {
     "data": {
      "text/plain": [
       "<qiskit.transpiler.instruction_durations.InstructionDurations at 0x7f3890e15e10>"
      ]
     },
     "execution_count": 11,
     "metadata": {},
     "output_type": "execute_result"
    }
   ],
   "source": [
    "## dd Insertion needs adjusting instruction duration\n",
    "victim_qubs = [1,3,5]\n",
    "\n",
    "snooping_qubits = [0,2,4,6]\n",
    "depth = 1\n",
    "cnot_pos = list(filter(lambda k: k[0] in victim_qubs and k[1] in victim_qubs, cm))\n",
    "combs = list(combinations(cnot_pos, depth))\n",
    "combs = [comb[0] for comb in combs]\n",
    "\n",
    "\n",
    "durations = []\n",
    "for c in combs:\n",
    "    durations.append(['cx', c, InstructionDurations.from_backend(backend).get('cx', c)])\n",
    "for qubit in range(7):\n",
    "    durations.append(['measure', [qubit], InstructionDurations.from_backend(backend).get('measure', qubit)])\n",
    "    durations.append(['x', [qubit], InstructionDurations.from_backend(backend).get('x', qubit)])\n",
    "    durations.append(['reset', [qubit], InstructionDurations.from_backend(backend).get('reset', qubit)])\n",
    "    durations.append(['id', [qubit], InstructionDurations.from_backend(backend).get('id', qubit)])\n",
    "    durations.append(['rz', [qubit], InstructionDurations.from_backend(backend).get('rz', qubit)])\n",
    "    durations.append(['sx', [qubit], InstructionDurations.from_backend(backend).get('sx', qubit)])\n",
    "    \n",
    "print(durations)\n",
    "durations = InstructionDurations(durations)\n",
    "durations"
   ]
  },
  {
   "cell_type": "code",
   "execution_count": 12,
   "metadata": {},
   "outputs": [
    {
     "data": {
      "text/plain": [
       "<qiskit.transpiler.instruction_durations.InstructionDurations at 0x7f3890ea0dd0>"
      ]
     },
     "execution_count": 12,
     "metadata": {},
     "output_type": "execute_result"
    }
   ],
   "source": [
    "backend.instruction_durations"
   ]
  },
  {
   "cell_type": "code",
   "execution_count": 13,
   "metadata": {},
   "outputs": [],
   "source": [
    "n = 13\n",
    "dd_sequence = [XGate(), XGate()]*n\n",
    "pm = PassManager([ALAPScheduleAnalysis(backend.instruction_durations),\n",
    "                  PadDynamicalDecoupling(durations, dd_sequence, qubits=victim_qubs)])"
   ]
  },
  {
   "cell_type": "code",
   "execution_count": 14,
   "metadata": {},
   "outputs": [
    {
     "data": {
      "image/png": "[encoded data removed]",
      "text/plain": [
       "<Figure size 1400x640 with 1 Axes>"
      ]
     },
     "execution_count": 14,
     "metadata": {},
     "output_type": "execute_result"
    }
   ],
   "source": [
    "circs = dd_circ_generation(victim_qubs, snooping_qubits)\n",
    "circ_dd = pm.run(circs[3])\n",
    "timeline_drawer(circ_dd[1])\n",
    "# timeline_drawer(circ_dd[1], time_range=(9126, 15210))"
   ]
  },
  {
   "cell_type": "code",
   "execution_count": 15,
   "metadata": {},
   "outputs": [
    {
     "name": "stdout",
     "output_type": "stream",
     "text": [
      "cmwtf3mwjay0008cmhrg\n",
      "cmwtf44d31100080agwg\n",
      "cmwtf54atcpg0084r8h0\n",
      "cmwtf5m7xy7g0089rb4g\n"
     ]
    }
   ],
   "source": [
    "global_snoop_jobs['barrier_CNOTs_1_2_3_4'] = defaultdict(list)\n",
    "circs_final = circ_gen_with_barrier(victim_qubs, snooping_qubits, swap_circ=False)\n",
    "\n",
    "for num_cnot in [1,2,3,4]:\n",
    "    circs_to_run = circs_final[num_cnot]*(150//len(circs_final[num_cnot]))\n",
    "    snoop_job = backend.run(circs_to_run, \n",
    "                          meas_level=2,\n",
    "                          shots=10000)\n",
    "    print(snoop_job.job_id())\n",
    "    # job_monitor(snoop_job)\n",
    "    global_snoop_jobs['barrier_CNOTs_1_2_3_4']['_'.join(map(str, victim_qubs))].append(snoop_job)"
   ]
  },
  {
   "cell_type": "code",
   "execution_count": 16,
   "metadata": {},
   "outputs": [
    {
     "name": "stdout",
     "output_type": "stream",
     "text": [
      "cmwtf5wd31100080agxg\n",
      "cmwtf64atcpg0084r8hg\n",
      "cmwtf6mapzf0008zv9gg\n",
      "cmwtf6w7xy7g0089rb50\n"
     ]
    }
   ],
   "source": [
    "global_snoop_jobs['barrier_SWAPs_1_2_3_4'] = defaultdict(list)\n",
    "circs_final = circ_gen_with_barrier(victim_qubs, snooping_qubits, swap_circ=True)\n",
    "\n",
    "for num_cnot in [1,2,3,4]:\n",
    "    circs_to_run = circs_final[num_cnot]*(150//len(circs_final[num_cnot]))\n",
    "    snoop_job = backend.run(circs_to_run, \n",
    "                          meas_level=2,\n",
    "                          shots=10000)\n",
    "    print(snoop_job.job_id())\n",
    "    # job_monitor(snoop_job)\n",
    "    global_snoop_jobs['barrier_SWAPs_1_2_3_4']['_'.join(map(str, victim_qubs))].append(snoop_job)"
   ]
  },
  {
   "cell_type": "code",
   "execution_count": 17,
   "metadata": {},
   "outputs": [
    {
     "name": "stdout",
     "output_type": "stream",
     "text": [
      "cmwtf7capzf0008zv9h0\n",
      "cmwtf7m7xy7g0089rb5g\n",
      "cmwtf85jv9fg00830dbg\n",
      "cmwtf8nd31100080agy0\n"
     ]
    }
   ],
   "source": [
    "global_snoop_jobs['wo_barrier_CNOTs_1_2_3_4'] = defaultdict(list)\n",
    "circs_final = circ_gen_without_barrier(victim_qubs, snooping_qubits, swap_circ=False)\n",
    "\n",
    "for num_cnot in [1,2,3,4]:\n",
    "    circs_to_run = circs_final[num_cnot]*(150//len(circs_final[num_cnot]))\n",
    "    snoop_job = backend.run(circs_to_run, \n",
    "                          meas_level=2,\n",
    "                          shots=10000)\n",
    "    print(snoop_job.job_id())\n",
    "    # job_monitor(snoop_job)\n",
    "    global_snoop_jobs['wo_barrier_CNOTs_1_2_3_4']['_'.join(map(str, victim_qubs))].append(snoop_job)"
   ]
  },
  {
   "cell_type": "code",
   "execution_count": 18,
   "metadata": {},
   "outputs": [
    {
     "name": "stdout",
     "output_type": "stream",
     "text": [
      "cmwtf95wjay0008cmhs0\n",
      "cmwtf9dapzf0008zv9hg\n",
      "cmwtf9napzf0008zv9j0\n",
      "cmwtfa5atcpg0084r8j0\n"
     ]
    }
   ],
   "source": [
    "global_snoop_jobs['wo_barrier_SWAPs_1_2_3_4'] = defaultdict(list)\n",
    "circs_final = circ_gen_without_barrier(victim_qubs, snooping_qubits, swap_circ=True)\n",
    "\n",
    "for num_cnot in [1,2,3,4]:\n",
    "    circs_to_run = circs_final[num_cnot]*(150//len(circs_final[num_cnot]))\n",
    "    snoop_job = backend.run(circs_to_run, \n",
    "                          meas_level=2,\n",
    "                          shots=10000)\n",
    "    print(snoop_job.job_id())\n",
    "    # job_monitor(snoop_job)\n",
    "    global_snoop_jobs['wo_barrier_SWAPs_1_2_3_4']['_'.join(map(str, victim_qubs))].append(snoop_job)"
   ]
  },
  {
   "cell_type": "code",
   "execution_count": 19,
   "metadata": {},
   "outputs": [
    {
     "name": "stdout",
     "output_type": "stream",
     "text": [
      "cmwtfadapzf0008zv9jg\n",
      "cmwtfand31100080agyg\n",
      "cmwtfb5apzf0008zv9k0\n",
      "cmwtfbdwjay0008cmhsg\n"
     ]
    }
   ],
   "source": [
    "global_snoop_jobs['multi_meas_CNOTs_1_2_3_4'] = defaultdict(list)\n",
    "circs_final = circ_gen_multiple_meas(victim_qubs, snooping_qubits, swap_circ=False)\n",
    "\n",
    "for num_cnot in [1,2,3,4]:\n",
    "    circs_to_run = circs_final[num_cnot]*(150//len(circs_final[num_cnot]))\n",
    "    snoop_job = backend.run(circs_to_run, \n",
    "                          meas_level=2,\n",
    "                          shots=10000)\n",
    "    print(snoop_job.job_id())\n",
    "    # job_monitor(snoop_job)\n",
    "    global_snoop_jobs['multi_meas_CNOTs_1_2_3_4']['_'.join(map(str, victim_qubs))].append(snoop_job)\n",
    "    "
   ]
  },
  {
   "cell_type": "code",
   "execution_count": 20,
   "metadata": {},
   "outputs": [
    {
     "name": "stdout",
     "output_type": "stream",
     "text": [
      "cmwtfbxd31100080agz0\n",
      "cmwtfcdatcpg0084r8jg\n",
      "cmwtfcxatcpg0084r8k0\n",
      "cmwtfd5d31100080agzg\n"
     ]
    }
   ],
   "source": [
    "global_snoop_jobs['multi_meas_SWAPs_1_2_3_4'] = defaultdict(list)\n",
    "circs_final = circ_gen_multiple_meas(victim_qubs, snooping_qubits, swap_circ=True)\n",
    "\n",
    "for num_cnot in [1,2,3,4]:\n",
    "    circs_to_run = circs_final[num_cnot]*(150//len(circs_final[num_cnot]))\n",
    "    snoop_job = backend.run(circs_to_run, \n",
    "                          meas_level=2,\n",
    "                          shots=10000)\n",
    "    print(snoop_job.job_id())\n",
    "    # job_monitor(snoop_job)\n",
    "    global_snoop_jobs['multi_meas_SWAPs_1_2_3_4']['_'.join(map(str, victim_qubs))].append(snoop_job)"
   ]
  },
  {
   "cell_type": "code",
   "execution_count": 21,
   "metadata": {},
   "outputs": [
    {
     "name": "stdout",
     "output_type": "stream",
     "text": [
      "cmwtfdnjv9fg00830dcg\n"
     ]
    }
   ],
   "source": [
    "circs_final = dd_circ_generation(victim_qubs, snooping_qubits, swap_circ=False)\n",
    "circs_to_run = circs_final[1]*(10//len(circs_final[1]))\n",
    "circ_dd = pm.run(circs_to_run)\n",
    "snoop_job = backend.run(transpile(circ_dd, backend, scheduling_method=\"alap\", \n",
    "                        timing_constraints={'granularity':16, 'acquire_alignment':16}), \n",
    "                        meas_level=2, shots=10000)\n",
    "print(snoop_job.job_id())\n",
    "# job_monitor(snoop_job)"
   ]
  },
  {
   "cell_type": "code",
   "execution_count": 22,
   "metadata": {},
   "outputs": [
    {
     "name": "stdout",
     "output_type": "stream",
     "text": [
      "cmwtfe5jv9fg00830dd0\n",
      "cmwtff57xy7g0089rb60\n",
      "cmwtffxatcpg0084r8kg\n",
      "cmwtfgpwjay0008cmht0\n"
     ]
    }
   ],
   "source": [
    "circs_final = dd_circ_generation(victim_qubs, snooping_qubits, swap_circ=False)\n",
    "for num_cnot in [1,2,3,4]:\n",
    "    circs_to_run = circs_final[num_cnot]*(100//len(circs_final[num_cnot]))\n",
    "    circ_dd = pm.run(circs_to_run)\n",
    "    snoop_job = backend.run(transpile(circ_dd, backend, scheduling_method=\"alap\", timing_constraints={'granularity':16, 'acquire_alignment':16}), \n",
    "                          meas_level=2,\n",
    "                          shots=10000)\n",
    "    print(snoop_job.job_id())\n",
    "    # job_monitor(snoop_job)\n",
    "    global_snoop_jobs['_'.join(map(str, victim_qubs))].append(snoop_job)"
   ]
  },
  {
   "cell_type": "code",
   "execution_count": 23,
   "metadata": {},
   "outputs": [
    {
     "name": "stdout",
     "output_type": "stream",
     "text": [
      "cmwtfhe7xy7g0089rb70\n",
      "cmwtfj6atcpg0084r8m0\n",
      "cmwtfk6atcpg0084r8n0\n",
      "cmwtfkyapzf0008zv9m0\n"
     ]
    }
   ],
   "source": [
    "global_snoop_jobs['dd_SWAPs_1_2_3_4'] = defaultdict(list)\n",
    "circs_final = dd_circ_generation(victim_qubs, snooping_qubits, swap_circ=True)\n",
    "for num_cnot in [1,2,3,4]:\n",
    "    circs_to_run = circs_final[num_cnot]*(100//len(circs_final[num_cnot]))\n",
    "    circ_dd = pm.run(circs_to_run)\n",
    "    snoop_job = backend.run(transpile(circ_dd, backend, scheduling_method=\"alap\", timing_constraints={'granularity':16, 'acquire_alignment':16}), \n",
    "                          meas_level=2,\n",
    "                          shots=10000)\n",
    "    print(snoop_job.job_id())\n",
    "    # job_monitor(snoop_job)\n",
    "    global_snoop_jobs['dd_SWAPs_1_2_3_4']['_'.join(map(str, victim_qubs))].append(snoop_job)"
   ]
  },
  {
   "cell_type": "code",
   "execution_count": null,
   "metadata": {},
   "outputs": [],
   "source": []
  },
  {
   "cell_type": "code",
   "execution_count": null,
   "metadata": {},
   "outputs": [],
   "source": []
  },
  {
   "cell_type": "code",
   "execution_count": null,
   "metadata": {},
   "outputs": [],
   "source": []
  }
 ],
 "metadata": {
  "kernelspec": {
   "display_name": "base",
   "language": "python",
   "name": "python3"
  },
  "language_info": {
   "codemirror_mode": {
    "name": "ipython",
    "version": 3
   },
   "file_extension": ".py",
   "mimetype": "text/x-python",
   "name": "python",
   "nbconvert_exporter": "python",
   "pygments_lexer": "ipython3",
   "version": "3.11.2"
  },
  "orig_nbformat": 4
 },
 "nbformat": 4,
 "nbformat_minor": 2
}
